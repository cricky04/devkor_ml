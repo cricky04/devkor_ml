{
 "cells": [
  {
   "cell_type": "code",
   "execution_count": 9,
   "metadata": {},
   "outputs": [],
   "source": [
    "import pandas as pd\n",
    "import numpy as np\n",
    "import re\n",
    "from konlpy.tag import Okt\n",
    "from tqdm import tqdm\n",
    "from tensorflow.keras.preprocessing.text import Tokenizer\n",
    "from tensorflow.keras.preprocessing.sequence import pad_sequences\n",
    "import matplotlib.pyplot as plt\n",
    "\n",
    "rating=pd.read_csv('./rating.csv')\n",
    "\n",
    "def SelectNIceWebtoon(f_var, g_var):\n",
    "    formatOption = rating['format'] == f_var\n",
    "    genreOption = rating['genre'] == g_var\n",
    "    selectedWebtoon = rating[formatOption & genreOption]\n",
    "    sortedWebtoon=selectedWebtoon.sort_values(['rating'])\n",
    "    NiceSortedWebtoon=sortedWebtoon[-3:]\n",
    "    return NiceSortedWebtoon['title']"
   ]
  },
  {
   "cell_type": "code",
   "execution_count": 11,
   "metadata": {},
   "outputs": [
    {
     "data": {
      "text/plain": [
       "1392               지원이들\n",
       "1915    [일상 로맨스] 그냥 선생님\n",
       "81                 고시생툰\n",
       "Name: title, dtype: object"
      ]
     },
     "execution_count": 11,
     "metadata": {},
     "output_type": "execute_result"
    }
   ],
   "source": [
    "SelectNIceWebtoon(\"story\", \"daily\")"
   ]
  },
  {
   "cell_type": "code",
   "execution_count": null,
   "metadata": {},
   "outputs": [],
   "source": []
  }
 ],
 "metadata": {
  "kernelspec": {
   "display_name": "Python 3",
   "language": "python",
   "name": "python3"
  },
  "language_info": {
   "codemirror_mode": {
    "name": "ipython",
    "version": 3
   },
   "file_extension": ".py",
   "mimetype": "text/x-python",
   "name": "python",
   "nbconvert_exporter": "python",
   "pygments_lexer": "ipython3",
   "version": "3.7.7"
  }
 },
 "nbformat": 4,
 "nbformat_minor": 4
}
