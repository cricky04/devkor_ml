{
 "cells": [
  {
   "cell_type": "code",
   "execution_count": 315,
   "metadata": {},
   "outputs": [],
   "source": [
    "import pandas as pd\n",
    "import numpy as np\n",
    "import re\n",
    "from konlpy.tag import Okt\n",
    "from tqdm import tqdm\n",
    "from tensorflow.keras.preprocessing.text import Tokenizer\n",
    "from tensorflow.keras.preprocessing.sequence import pad_sequences\n",
    "import matplotlib.pyplot as plt"
   ]
  },
  {
   "cell_type": "code",
   "execution_count": 316,
   "metadata": {},
   "outputs": [
    {
     "name": "stderr",
     "output_type": "stream",
     "text": [
      "C:\\Users\\shyun\\AppData\\Local\\Continuum\\anaconda3\\lib\\site-packages\\ipykernel_launcher.py:4: SettingWithCopyWarning: \n",
      "A value is trying to be set on a copy of a slice from a DataFrame.\n",
      "Try using .loc[row_indexer,col_indexer] = value instead\n",
      "\n",
      "See the caveats in the documentation: https://pandas.pydata.org/pandas-docs/stable/user_guide/indexing.html#returning-a-view-versus-a-copy\n",
      "  after removing the cwd from sys.path.\n",
      "C:\\Users\\shyun\\AppData\\Local\\Continuum\\anaconda3\\lib\\site-packages\\ipykernel_launcher.py:5: SettingWithCopyWarning: \n",
      "A value is trying to be set on a copy of a slice from a DataFrame.\n",
      "Try using .loc[row_indexer,col_indexer] = value instead\n",
      "\n",
      "See the caveats in the documentation: https://pandas.pydata.org/pandas-docs/stable/user_guide/indexing.html#returning-a-view-versus-a-copy\n",
      "  \"\"\"\n"
     ]
    }
   ],
   "source": [
    "copper1=pd.read_csv('./naver.csv')\n",
    "copper2=pd.read_csv('./naver_challenge.csv')\n",
    "dat1=copper1[['description', 'rating' ]]\n",
    "dat1['format']=copper1.genre.str.split(', ').str[0]\n",
    "dat1['genre']=copper1.genre.str.split(', ').str[1]\n",
    "dat2=copper2[['genre', 'format', 'description', 'rating']]"
   ]
  },
  {
   "cell_type": "code",
   "execution_count": 317,
   "metadata": {},
   "outputs": [
    {
     "name": "stderr",
     "output_type": "stream",
     "text": [
      "C:\\Users\\shyun\\AppData\\Local\\Continuum\\anaconda3\\lib\\site-packages\\pandas\\core\\indexing.py:966: SettingWithCopyWarning: \n",
      "A value is trying to be set on a copy of a slice from a DataFrame.\n",
      "Try using .loc[row_indexer,col_indexer] = value instead\n",
      "\n",
      "See the caveats in the documentation: https://pandas.pydata.org/pandas-docs/stable/user_guide/indexing.html#returning-a-view-versus-a-copy\n",
      "  self.obj[item] = s\n"
     ]
    }
   ],
   "source": [
    "dat1.loc[dat1['format']==\"에피소드\",'format'] = 'episode'\n",
    "dat1.loc[dat1['format']==\"스토리\",'format'] = 'story'\n",
    "dat1.loc[dat1['format']==\"옴니버스\",'format'] = 'omnibus'\n",
    "\n",
    "dat2.loc[dat2['format']==\"에피소드\",'format'] = 'episode'\n",
    "dat2.loc[dat2['format']==\"스토리\",'format'] = 'story'\n",
    "dat2.loc[dat2['format']==\"옴니버스\",'format'] = 'omnibus'"
   ]
  },
  {
   "cell_type": "code",
   "execution_count": 318,
   "metadata": {
    "scrolled": true
   },
   "outputs": [
    {
     "name": "stderr",
     "output_type": "stream",
     "text": [
      "C:\\Users\\shyun\\AppData\\Local\\Continuum\\anaconda3\\lib\\site-packages\\pandas\\core\\indexing.py:671: SettingWithCopyWarning: \n",
      "A value is trying to be set on a copy of a slice from a DataFrame\n",
      "\n",
      "See the caveats in the documentation: https://pandas.pydata.org/pandas-docs/stable/user_guide/indexing.html#returning-a-view-versus-a-copy\n",
      "  self._setitem_with_indexer(indexer, value)\n",
      "C:\\Users\\shyun\\AppData\\Local\\Continuum\\anaconda3\\lib\\site-packages\\ipykernel_launcher.py:6: SettingWithCopyWarning: \n",
      "A value is trying to be set on a copy of a slice from a DataFrame\n",
      "\n",
      "See the caveats in the documentation: https://pandas.pydata.org/pandas-docs/stable/user_guide/indexing.html#returning-a-view-versus-a-copy\n",
      "  \n",
      "C:\\Users\\shyun\\AppData\\Local\\Continuum\\anaconda3\\lib\\site-packages\\ipykernel_launcher.py:7: SettingWithCopyWarning: \n",
      "A value is trying to be set on a copy of a slice from a DataFrame\n",
      "\n",
      "See the caveats in the documentation: https://pandas.pydata.org/pandas-docs/stable/user_guide/indexing.html#returning-a-view-versus-a-copy\n",
      "  import sys\n",
      "C:\\Users\\shyun\\AppData\\Local\\Continuum\\anaconda3\\lib\\site-packages\\ipykernel_launcher.py:8: SettingWithCopyWarning: \n",
      "A value is trying to be set on a copy of a slice from a DataFrame\n",
      "\n",
      "See the caveats in the documentation: https://pandas.pydata.org/pandas-docs/stable/user_guide/indexing.html#returning-a-view-versus-a-copy\n",
      "  \n",
      "C:\\Users\\shyun\\AppData\\Local\\Continuum\\anaconda3\\lib\\site-packages\\ipykernel_launcher.py:9: SettingWithCopyWarning: \n",
      "A value is trying to be set on a copy of a slice from a DataFrame\n",
      "\n",
      "See the caveats in the documentation: https://pandas.pydata.org/pandas-docs/stable/user_guide/indexing.html#returning-a-view-versus-a-copy\n",
      "  if __name__ == '__main__':\n",
      "C:\\Users\\shyun\\AppData\\Local\\Continuum\\anaconda3\\lib\\site-packages\\ipykernel_launcher.py:10: SettingWithCopyWarning: \n",
      "A value is trying to be set on a copy of a slice from a DataFrame\n",
      "\n",
      "See the caveats in the documentation: https://pandas.pydata.org/pandas-docs/stable/user_guide/indexing.html#returning-a-view-versus-a-copy\n",
      "  # Remove the CWD from sys.path while we load stuff.\n",
      "C:\\Users\\shyun\\AppData\\Local\\Continuum\\anaconda3\\lib\\site-packages\\ipykernel_launcher.py:11: SettingWithCopyWarning: \n",
      "A value is trying to be set on a copy of a slice from a DataFrame\n",
      "\n",
      "See the caveats in the documentation: https://pandas.pydata.org/pandas-docs/stable/user_guide/indexing.html#returning-a-view-versus-a-copy\n",
      "  # This is added back by InteractiveShellApp.init_path()\n"
     ]
    }
   ],
   "source": [
    "dat1.loc[dat1['genre']==\"로맨스\",'genre'] ='pure'\n",
    "dat1.loc[dat1['genre']==\"감성\",'genre'] ='sensibility'\n",
    "dat1.loc[dat1['genre']==\"개그\",'genre'] ='comic'\n",
    "dat1.loc[dat1['genre']==\"드라마\",'genre'] ='drama'\n",
    "dat1.loc[dat1['genre']==\"무협/사극\"'genre'] ='historical'\n",
    "dat1.loc[dat1['genre']==\"무협/사극\"'genre'] ='historical'\n",
    "dat1.loc[dat1['genre']==\"스릴러\",'genre'] ='thrill'\n",
    "dat1.loc[dat1['genre']==\"스포츠\",'genre'] ='sports'\n",
    "dat1.loc[dat1['genre']==\"액션\",'genre'] ='action'\n",
    "dat1.loc[dat1['genre']==\"일상\",'genre'] ='daily'\n",
    "dat1.loc[dat1['genre']==\"판타지\",'genre'] ='fantasy'\n"
   ]
  },
  {
   "cell_type": "code",
   "execution_count": 319,
   "metadata": {},
   "outputs": [
    {
     "data": {
      "text/plain": [
       "['pure',\n",
       " 'fantasy',\n",
       " 'drama',\n",
       " 'sports',\n",
       " 'comic',\n",
       " 'thrill',\n",
       " 'action',\n",
       " 'daily',\n",
       " 'sensibility',\n",
       " '무협/사극']"
      ]
     },
     "execution_count": 319,
     "metadata": {},
     "output_type": "execute_result"
    }
   ],
   "source": [
    "eww=[]\n",
    "for x in dat1['genre']:\n",
    "    if x not in eww:\n",
    "        eww.append(x)\n",
    "eww"
   ]
  },
  {
   "cell_type": "code",
   "execution_count": 320,
   "metadata": {},
   "outputs": [
    {
     "name": "stderr",
     "output_type": "stream",
     "text": [
      "C:\\Users\\shyun\\AppData\\Local\\Continuum\\anaconda3\\lib\\site-packages\\ipykernel_launcher.py:1: SettingWithCopyWarning: \n",
      "A value is trying to be set on a copy of a slice from a DataFrame\n",
      "\n",
      "See the caveats in the documentation: https://pandas.pydata.org/pandas-docs/stable/user_guide/indexing.html#returning-a-view-versus-a-copy\n",
      "  \"\"\"Entry point for launching an IPython kernel.\n"
     ]
    }
   ],
   "source": [
    "dat1.loc[dat1['genre'] == '무협/사극', 'genre'] ='historical'"
   ]
  },
  {
   "cell_type": "code",
   "execution_count": 321,
   "metadata": {},
   "outputs": [
    {
     "data": {
      "text/plain": [
       "['pure',\n",
       " 'fantasy',\n",
       " 'drama',\n",
       " 'sports',\n",
       " 'comic',\n",
       " 'thrill',\n",
       " 'action',\n",
       " 'daily',\n",
       " 'sensibility',\n",
       " 'historical']"
      ]
     },
     "execution_count": 321,
     "metadata": {},
     "output_type": "execute_result"
    }
   ],
   "source": [
    "eww=[]\n",
    "for x in dat1['genre']:\n",
    "    if x not in eww:\n",
    "        eww.append(x)\n",
    "eww"
   ]
  },
  {
   "cell_type": "code",
   "execution_count": 322,
   "metadata": {},
   "outputs": [],
   "source": [
    "for x in dat1['genre']:\n",
    "    if x!='pure' and x!='sensibility' and x!= 'comic' and x!= 'drama' and x != 'historical' and x != 'thrill' and x != 'sports' and x !='action' and x !='daily' and x !='fantasy':    \n",
    "        print(wa)"
   ]
  },
  {
   "cell_type": "code",
   "execution_count": 323,
   "metadata": {},
   "outputs": [
    {
     "name": "stderr",
     "output_type": "stream",
     "text": [
      "C:\\Users\\shyun\\AppData\\Local\\Continuum\\anaconda3\\lib\\site-packages\\ipykernel_launcher.py:1: SettingWithCopyWarning: \n",
      "A value is trying to be set on a copy of a slice from a DataFrame.\n",
      "Try using .loc[row_indexer,col_indexer] = value instead\n",
      "\n",
      "See the caveats in the documentation: https://pandas.pydata.org/pandas-docs/stable/user_guide/indexing.html#returning-a-view-versus-a-copy\n",
      "  \"\"\"Entry point for launching an IPython kernel.\n",
      "C:\\Users\\shyun\\AppData\\Local\\Continuum\\anaconda3\\lib\\site-packages\\ipykernel_launcher.py:3: SettingWithCopyWarning: \n",
      "A value is trying to be set on a copy of a slice from a DataFrame.\n",
      "Try using .loc[row_indexer,col_indexer] = value instead\n",
      "\n",
      "See the caveats in the documentation: https://pandas.pydata.org/pandas-docs/stable/user_guide/indexing.html#returning-a-view-versus-a-copy\n",
      "  This is separate from the ipykernel package so we can avoid doing imports until\n"
     ]
    }
   ],
   "source": [
    "dat1['description']=dat1['description'].str.replace(\"[^ㄱ-ㅎㅏ-ㅣ가-힣 ]\",\"\")\n",
    "dat1=dat1.dropna(how=\"any\")\n",
    "dat2['description']=dat2['description'].str.replace(\"[^ㄱ-ㅎㅏ-ㅣ가-힣 ]\",\"\")\n",
    "dat2=dat2.dropna(how=\"any\")"
   ]
  },
  {
   "cell_type": "code",
   "execution_count": 324,
   "metadata": {},
   "outputs": [],
   "source": [
    "dat=pd.concat([dat1,dat2], ignore_index=True)"
   ]
  },
  {
   "cell_type": "code",
   "execution_count": 325,
   "metadata": {},
   "outputs": [
    {
     "data": {
      "text/html": [
       "<div>\n",
       "<style scoped>\n",
       "    .dataframe tbody tr th:only-of-type {\n",
       "        vertical-align: middle;\n",
       "    }\n",
       "\n",
       "    .dataframe tbody tr th {\n",
       "        vertical-align: top;\n",
       "    }\n",
       "\n",
       "    .dataframe thead th {\n",
       "        text-align: right;\n",
       "    }\n",
       "</style>\n",
       "<table border=\"1\" class=\"dataframe\">\n",
       "  <thead>\n",
       "    <tr style=\"text-align: right;\">\n",
       "      <th></th>\n",
       "      <th>description</th>\n",
       "      <th>rating</th>\n",
       "      <th>format</th>\n",
       "      <th>genre</th>\n",
       "    </tr>\n",
       "  </thead>\n",
       "  <tbody>\n",
       "    <tr>\n",
       "      <th>0</th>\n",
       "      <td>흔하디 흔한 재벌후계자와 캔디도 울고 갈 박복한 가난소녀의 파란만장 동거기인기작 다...</td>\n",
       "      <td>9.11</td>\n",
       "      <td>story</td>\n",
       "      <td>pure</td>\n",
       "    </tr>\n",
       "    <tr>\n",
       "      <th>1</th>\n",
       "      <td>이번 주인공은 돌이다돌이지만 동료도 모으고 악당도 물리친다랑또 작가표 동양 판타지 ...</td>\n",
       "      <td>9.98</td>\n",
       "      <td>story</td>\n",
       "      <td>fantasy</td>\n",
       "    </tr>\n",
       "    <tr>\n",
       "      <th>2</th>\n",
       "      <td>어느 날 인어가 내게 말을 걸어왔다 눈을 떠보니 총구가 있었다 그리고 몸이 연기처럼...</td>\n",
       "      <td>9.95</td>\n",
       "      <td>omnibus</td>\n",
       "      <td>drama</td>\n",
       "    </tr>\n",
       "    <tr>\n",
       "      <th>3</th>\n",
       "      <td>한국 최초 한국형 고교스포츠 웹툰열혈따윈 개나 줘 낙오자들 뿐인 농구부의 운명은</td>\n",
       "      <td>9.96</td>\n",
       "      <td>story</td>\n",
       "      <td>sports</td>\n",
       "    </tr>\n",
       "    <tr>\n",
       "      <th>4</th>\n",
       "      <td>사람은 좀 죽여도 싸우는건 싫어해요 게임에서조차 집 바깥을 나가지 않는 제리 전투는...</td>\n",
       "      <td>9.94</td>\n",
       "      <td>story</td>\n",
       "      <td>fantasy</td>\n",
       "    </tr>\n",
       "    <tr>\n",
       "      <th>...</th>\n",
       "      <td>...</td>\n",
       "      <td>...</td>\n",
       "      <td>...</td>\n",
       "      <td>...</td>\n",
       "    </tr>\n",
       "    <tr>\n",
       "      <th>7436</th>\n",
       "      <td>한국 전통의 전설의 무술 화랑무 그 진원지인 진산군 도복리 그 신비의 고장에 종합격...</td>\n",
       "      <td>9.58</td>\n",
       "      <td>story</td>\n",
       "      <td>sports</td>\n",
       "    </tr>\n",
       "    <tr>\n",
       "      <th>7437</th>\n",
       "      <td>신의 보구중 하나인 신의펜촉을 받은 변봉주인공이 만화를 그려나가는 이야기입니다 월일...</td>\n",
       "      <td>9.66</td>\n",
       "      <td>story</td>\n",
       "      <td>sports</td>\n",
       "    </tr>\n",
       "    <tr>\n",
       "      <th>7438</th>\n",
       "      <td>모든 것을 가진 소년과 아무것도 갖지 못한 소년의 에어레이스를 통한 성장 드라마</td>\n",
       "      <td>9.5</td>\n",
       "      <td>story</td>\n",
       "      <td>sports</td>\n",
       "    </tr>\n",
       "    <tr>\n",
       "      <th>7439</th>\n",
       "      <td>프로레슬링 디바를 꿈꾸는 날다람쥐소녀</td>\n",
       "      <td>9.77</td>\n",
       "      <td>story</td>\n",
       "      <td>sports</td>\n",
       "    </tr>\n",
       "    <tr>\n",
       "      <th>7440</th>\n",
       "      <td>육상을 통한 고등학생들의 이야기</td>\n",
       "      <td>9.7</td>\n",
       "      <td>story</td>\n",
       "      <td>sports</td>\n",
       "    </tr>\n",
       "  </tbody>\n",
       "</table>\n",
       "<p>7441 rows × 4 columns</p>\n",
       "</div>"
      ],
      "text/plain": [
       "                                            description rating   format  \\\n",
       "0     흔하디 흔한 재벌후계자와 캔디도 울고 갈 박복한 가난소녀의 파란만장 동거기인기작 다...   9.11    story   \n",
       "1     이번 주인공은 돌이다돌이지만 동료도 모으고 악당도 물리친다랑또 작가표 동양 판타지 ...   9.98    story   \n",
       "2     어느 날 인어가 내게 말을 걸어왔다 눈을 떠보니 총구가 있었다 그리고 몸이 연기처럼...   9.95  omnibus   \n",
       "3          한국 최초 한국형 고교스포츠 웹툰열혈따윈 개나 줘 낙오자들 뿐인 농구부의 운명은   9.96    story   \n",
       "4     사람은 좀 죽여도 싸우는건 싫어해요 게임에서조차 집 바깥을 나가지 않는 제리 전투는...   9.94    story   \n",
       "...                                                 ...    ...      ...   \n",
       "7436  한국 전통의 전설의 무술 화랑무 그 진원지인 진산군 도복리 그 신비의 고장에 종합격...   9.58    story   \n",
       "7437  신의 보구중 하나인 신의펜촉을 받은 변봉주인공이 만화를 그려나가는 이야기입니다 월일...   9.66    story   \n",
       "7438       모든 것을 가진 소년과 아무것도 갖지 못한 소년의 에어레이스를 통한 성장 드라마    9.5    story   \n",
       "7439                               프로레슬링 디바를 꿈꾸는 날다람쥐소녀   9.77    story   \n",
       "7440                                  육상을 통한 고등학생들의 이야기    9.7    story   \n",
       "\n",
       "        genre  \n",
       "0        pure  \n",
       "1     fantasy  \n",
       "2       drama  \n",
       "3      sports  \n",
       "4     fantasy  \n",
       "...       ...  \n",
       "7436   sports  \n",
       "7437   sports  \n",
       "7438   sports  \n",
       "7439   sports  \n",
       "7440   sports  \n",
       "\n",
       "[7441 rows x 4 columns]"
      ]
     },
     "execution_count": 325,
     "metadata": {},
     "output_type": "execute_result"
    }
   ],
   "source": [
    "dat.dropna()"
   ]
  },
  {
   "cell_type": "code",
   "execution_count": 326,
   "metadata": {
    "scrolled": true
   },
   "outputs": [
    {
     "data": {
      "text/html": [
       "<div>\n",
       "<style scoped>\n",
       "    .dataframe tbody tr th:only-of-type {\n",
       "        vertical-align: middle;\n",
       "    }\n",
       "\n",
       "    .dataframe tbody tr th {\n",
       "        vertical-align: top;\n",
       "    }\n",
       "\n",
       "    .dataframe thead th {\n",
       "        text-align: right;\n",
       "    }\n",
       "</style>\n",
       "<table border=\"1\" class=\"dataframe\">\n",
       "  <thead>\n",
       "    <tr style=\"text-align: right;\">\n",
       "      <th></th>\n",
       "      <th>description</th>\n",
       "      <th>rating</th>\n",
       "      <th>format</th>\n",
       "      <th>genre</th>\n",
       "    </tr>\n",
       "  </thead>\n",
       "  <tbody>\n",
       "    <tr>\n",
       "      <th>7400</th>\n",
       "      <td>다트를 좋아하는 주인공 신도림의 이야기</td>\n",
       "      <td>9.51</td>\n",
       "      <td>episode</td>\n",
       "      <td>sports</td>\n",
       "    </tr>\n",
       "    <tr>\n",
       "      <th>7401</th>\n",
       "      <td>상처 많은 사람들이 수영으로 성장하는 이야기</td>\n",
       "      <td>9.44</td>\n",
       "      <td>story</td>\n",
       "      <td>sports</td>\n",
       "    </tr>\n",
       "    <tr>\n",
       "      <th>7402</th>\n",
       "      <td>아싸 김치우 씨름으로 인생 인싸로 뒤집기</td>\n",
       "      <td>9.09</td>\n",
       "      <td>story</td>\n",
       "      <td>sports</td>\n",
       "    </tr>\n",
       "    <tr>\n",
       "      <th>7403</th>\n",
       "      <td>모든게 순탄할 거라 믿었던 대 프로레슬러 혜성 그런 그의 인생이 모두 뒤흔들린다 그...</td>\n",
       "      <td>9.54</td>\n",
       "      <td>story</td>\n",
       "      <td>sports</td>\n",
       "    </tr>\n",
       "    <tr>\n",
       "      <th>7404</th>\n",
       "      <td>지름  비비탄이 만들어내는 소년 소녀들의 이야기</td>\n",
       "      <td>9.62</td>\n",
       "      <td>story</td>\n",
       "      <td>sports</td>\n",
       "    </tr>\n",
       "    <tr>\n",
       "      <th>7405</th>\n",
       "      <td>이제 막 대학에 입학한 이진수의 평범한 농구 동아리 이야기</td>\n",
       "      <td>9.73</td>\n",
       "      <td>story</td>\n",
       "      <td>sports</td>\n",
       "    </tr>\n",
       "    <tr>\n",
       "      <th>7406</th>\n",
       "      <td>꿈을 쫓는 소년들의 축구드라마</td>\n",
       "      <td>8.75</td>\n",
       "      <td>story</td>\n",
       "      <td>sports</td>\n",
       "    </tr>\n",
       "    <tr>\n",
       "      <th>7407</th>\n",
       "      <td>신체적 콤플렉스로 인해 괴물이라고 불리며 주위로부터 소외당하던 은미는 미식축구의 세...</td>\n",
       "      <td>8.96</td>\n",
       "      <td>episode</td>\n",
       "      <td>sports</td>\n",
       "    </tr>\n",
       "    <tr>\n",
       "      <th>7408</th>\n",
       "      <td>유성고등학교 야구부의 성장 스토리매주 금요일 밤 연재</td>\n",
       "      <td>8.63</td>\n",
       "      <td>story</td>\n",
       "      <td>sports</td>\n",
       "    </tr>\n",
       "    <tr>\n",
       "      <th>7409</th>\n",
       "      <td>주짓수를 통해 자신을 성장 시켜나가는 사람들의 이야기</td>\n",
       "      <td>9.04</td>\n",
       "      <td>story</td>\n",
       "      <td>sports</td>\n",
       "    </tr>\n",
       "    <tr>\n",
       "      <th>7410</th>\n",
       "      <td></td>\n",
       "      <td>9.58</td>\n",
       "      <td>story</td>\n",
       "      <td>sports</td>\n",
       "    </tr>\n",
       "    <tr>\n",
       "      <th>7411</th>\n",
       "      <td>키가 크다는 이유로 시작하게 된 농구 그 속에서 펼쳐지는 나은덕의 성장 스토리</td>\n",
       "      <td>5.98</td>\n",
       "      <td>story</td>\n",
       "      <td>sports</td>\n",
       "    </tr>\n",
       "    <tr>\n",
       "      <th>7412</th>\n",
       "      <td>야구 홀릭 소년 소녀들의 전국 도전기</td>\n",
       "      <td>9.69</td>\n",
       "      <td>story</td>\n",
       "      <td>sports</td>\n",
       "    </tr>\n",
       "    <tr>\n",
       "      <th>7413</th>\n",
       "      <td>강인한은 야산고에 전학 온 후 풋살을 접하게 된다</td>\n",
       "      <td>9.73</td>\n",
       "      <td>story</td>\n",
       "      <td>sports</td>\n",
       "    </tr>\n",
       "    <tr>\n",
       "      <th>7414</th>\n",
       "      <td>일상농구만화입니다</td>\n",
       "      <td>5.51</td>\n",
       "      <td>story</td>\n",
       "      <td>sports</td>\n",
       "    </tr>\n",
       "    <tr>\n",
       "      <th>7415</th>\n",
       "      <td>게임이 널리 보급된 가까운 미래 프로게이머라는 직업을 향해 동료를 모으고 함께 성장...</td>\n",
       "      <td>8.64</td>\n",
       "      <td>episode</td>\n",
       "      <td>sports</td>\n",
       "    </tr>\n",
       "    <tr>\n",
       "      <th>7416</th>\n",
       "      <td>문제로 가득한 고교생들의 농구 이야기스트리트 바스켓볼 준비중</td>\n",
       "      <td>9.25</td>\n",
       "      <td>story</td>\n",
       "      <td>sports</td>\n",
       "    </tr>\n",
       "    <tr>\n",
       "      <th>7417</th>\n",
       "      <td>커먼 라이더스는 평범한 사람들이 자전거를 접하면서 격게 되는 일들을 이야기로 풀어낸...</td>\n",
       "      <td>9.68</td>\n",
       "      <td>story</td>\n",
       "      <td>sports</td>\n",
       "    </tr>\n",
       "    <tr>\n",
       "      <th>7418</th>\n",
       "      <td>축구동아리 프리킥에서 일어나는 다양한 사건들과 그리고 청춘</td>\n",
       "      <td>9.78</td>\n",
       "      <td>story</td>\n",
       "      <td>sports</td>\n",
       "    </tr>\n",
       "    <tr>\n",
       "      <th>7419</th>\n",
       "      <td></td>\n",
       "      <td>9.82</td>\n",
       "      <td>story</td>\n",
       "      <td>sports</td>\n",
       "    </tr>\n",
       "    <tr>\n",
       "      <th>7420</th>\n",
       "      <td>체육과에서 펼쳐지는 좌충우돌 러브스토리</td>\n",
       "      <td>8.93</td>\n",
       "      <td>story</td>\n",
       "      <td>sports</td>\n",
       "    </tr>\n",
       "    <tr>\n",
       "      <th>7421</th>\n",
       "      <td>스물 세살 민태현의 뒤늦은 정신적 성장기</td>\n",
       "      <td>9.83</td>\n",
       "      <td>story</td>\n",
       "      <td>sports</td>\n",
       "    </tr>\n",
       "    <tr>\n",
       "      <th>7422</th>\n",
       "      <td>청춘야구사랑</td>\n",
       "      <td>9.63</td>\n",
       "      <td>story</td>\n",
       "      <td>sports</td>\n",
       "    </tr>\n",
       "    <tr>\n",
       "      <th>7423</th>\n",
       "      <td>매주 월요일 업데이트</td>\n",
       "      <td>9.8</td>\n",
       "      <td>story</td>\n",
       "      <td>sports</td>\n",
       "    </tr>\n",
       "    <tr>\n",
       "      <th>7424</th>\n",
       "      <td>전 국가대표선수 권필두와 경주마 짱빨라의 좌우충돌 열혈경마이야기</td>\n",
       "      <td>8.58</td>\n",
       "      <td>story</td>\n",
       "      <td>sports</td>\n",
       "    </tr>\n",
       "    <tr>\n",
       "      <th>7425</th>\n",
       "      <td>열혈 고교 농구 리그가 펼쳐진다</td>\n",
       "      <td>9.59</td>\n",
       "      <td>story</td>\n",
       "      <td>sports</td>\n",
       "    </tr>\n",
       "    <tr>\n",
       "      <th>7426</th>\n",
       "      <td>고교 농구를 통해 성장하는 주인공들을 그린 청춘 드라마  격주연재수요일</td>\n",
       "      <td>9.74</td>\n",
       "      <td>story</td>\n",
       "      <td>sports</td>\n",
       "    </tr>\n",
       "    <tr>\n",
       "      <th>7427</th>\n",
       "      <td>철없는 주인공이 어느날 자전거를 훔치고 그로인해 벌어지는 일들</td>\n",
       "      <td>7.67</td>\n",
       "      <td>story</td>\n",
       "      <td>sports</td>\n",
       "    </tr>\n",
       "    <tr>\n",
       "      <th>7428</th>\n",
       "      <td>청소년기의 꿈과 안정적인 진로 사이에서 갈등하는 청소년의 이야기</td>\n",
       "      <td>9.68</td>\n",
       "      <td>story</td>\n",
       "      <td>sports</td>\n",
       "    </tr>\n",
       "    <tr>\n",
       "      <th>7429</th>\n",
       "      <td>유비 관우 장비 조조 제갈량 손권 등이 야구를 한다면삼국지 등장인물들이 펼치는 흥미...</td>\n",
       "      <td>9.44</td>\n",
       "      <td>story</td>\n",
       "      <td>sports</td>\n",
       "    </tr>\n",
       "    <tr>\n",
       "      <th>7430</th>\n",
       "      <td>축구에 꿈을 건 소년들의 성장 드라마</td>\n",
       "      <td>9.49</td>\n",
       "      <td>story</td>\n",
       "      <td>sports</td>\n",
       "    </tr>\n",
       "    <tr>\n",
       "      <th>7431</th>\n",
       "      <td>월드컵 그날의 감동을 만화로 다시 한번</td>\n",
       "      <td>9.79</td>\n",
       "      <td>story</td>\n",
       "      <td>sports</td>\n",
       "    </tr>\n",
       "    <tr>\n",
       "      <th>7432</th>\n",
       "      <td>힙합동아리 의 흑인 혼혈 마익훈과 언더그라운드 루키였던 아이돌 이글이 느끼는 힙합 ...</td>\n",
       "      <td>9.64</td>\n",
       "      <td>story</td>\n",
       "      <td>sports</td>\n",
       "    </tr>\n",
       "    <tr>\n",
       "      <th>7433</th>\n",
       "      <td>각기 다른 문제로 제자리에 멈춰버린 네 명의 청춘들 그들이 만나 길거리 농구대회 우...</td>\n",
       "      <td>9.8</td>\n",
       "      <td>story</td>\n",
       "      <td>sports</td>\n",
       "    </tr>\n",
       "    <tr>\n",
       "      <th>7434</th>\n",
       "      <td>자전거를 좋아하는 학생들의 우정과 사랑 그리고 청춘이야기 익스트림스포츠 스트릿 만화</td>\n",
       "      <td>9.85</td>\n",
       "      <td>story</td>\n",
       "      <td>sports</td>\n",
       "    </tr>\n",
       "    <tr>\n",
       "      <th>7435</th>\n",
       "      <td>샌프란시스코에 있는 화랑관 태권도장에 있는 유일한 한국인 가야에게 벌어지는 이야기</td>\n",
       "      <td>9.83</td>\n",
       "      <td>omnibus</td>\n",
       "      <td>sports</td>\n",
       "    </tr>\n",
       "    <tr>\n",
       "      <th>7436</th>\n",
       "      <td>한국 전통의 전설의 무술 화랑무 그 진원지인 진산군 도복리 그 신비의 고장에 종합격...</td>\n",
       "      <td>9.58</td>\n",
       "      <td>story</td>\n",
       "      <td>sports</td>\n",
       "    </tr>\n",
       "    <tr>\n",
       "      <th>7437</th>\n",
       "      <td>신의 보구중 하나인 신의펜촉을 받은 변봉주인공이 만화를 그려나가는 이야기입니다 월일...</td>\n",
       "      <td>9.66</td>\n",
       "      <td>story</td>\n",
       "      <td>sports</td>\n",
       "    </tr>\n",
       "    <tr>\n",
       "      <th>7438</th>\n",
       "      <td>모든 것을 가진 소년과 아무것도 갖지 못한 소년의 에어레이스를 통한 성장 드라마</td>\n",
       "      <td>9.5</td>\n",
       "      <td>story</td>\n",
       "      <td>sports</td>\n",
       "    </tr>\n",
       "    <tr>\n",
       "      <th>7439</th>\n",
       "      <td>프로레슬링 디바를 꿈꾸는 날다람쥐소녀</td>\n",
       "      <td>9.77</td>\n",
       "      <td>story</td>\n",
       "      <td>sports</td>\n",
       "    </tr>\n",
       "    <tr>\n",
       "      <th>7440</th>\n",
       "      <td>육상을 통한 고등학생들의 이야기</td>\n",
       "      <td>9.7</td>\n",
       "      <td>story</td>\n",
       "      <td>sports</td>\n",
       "    </tr>\n",
       "  </tbody>\n",
       "</table>\n",
       "</div>"
      ],
      "text/plain": [
       "                                            description rating   format  \\\n",
       "7400                              다트를 좋아하는 주인공 신도림의 이야기   9.51  episode   \n",
       "7401                           상처 많은 사람들이 수영으로 성장하는 이야기   9.44    story   \n",
       "7402                             아싸 김치우 씨름으로 인생 인싸로 뒤집기   9.09    story   \n",
       "7403  모든게 순탄할 거라 믿었던 대 프로레슬러 혜성 그런 그의 인생이 모두 뒤흔들린다 그...   9.54    story   \n",
       "7404                         지름  비비탄이 만들어내는 소년 소녀들의 이야기   9.62    story   \n",
       "7405                   이제 막 대학에 입학한 이진수의 평범한 농구 동아리 이야기   9.73    story   \n",
       "7406                                   꿈을 쫓는 소년들의 축구드라마   8.75    story   \n",
       "7407  신체적 콤플렉스로 인해 괴물이라고 불리며 주위로부터 소외당하던 은미는 미식축구의 세...   8.96  episode   \n",
       "7408                      유성고등학교 야구부의 성장 스토리매주 금요일 밤 연재   8.63    story   \n",
       "7409                      주짓수를 통해 자신을 성장 시켜나가는 사람들의 이야기   9.04    story   \n",
       "7410                                                      9.58    story   \n",
       "7411        키가 크다는 이유로 시작하게 된 농구 그 속에서 펼쳐지는 나은덕의 성장 스토리   5.98    story   \n",
       "7412                               야구 홀릭 소년 소녀들의 전국 도전기   9.69    story   \n",
       "7413                        강인한은 야산고에 전학 온 후 풋살을 접하게 된다   9.73    story   \n",
       "7414                                         일상농구만화입니다    5.51    story   \n",
       "7415  게임이 널리 보급된 가까운 미래 프로게이머라는 직업을 향해 동료를 모으고 함께 성장...   8.64  episode   \n",
       "7416                  문제로 가득한 고교생들의 농구 이야기스트리트 바스켓볼 준비중   9.25    story   \n",
       "7417  커먼 라이더스는 평범한 사람들이 자전거를 접하면서 격게 되는 일들을 이야기로 풀어낸...   9.68    story   \n",
       "7418                   축구동아리 프리킥에서 일어나는 다양한 사건들과 그리고 청춘   9.78    story   \n",
       "7419                                                      9.82    story   \n",
       "7420                              체육과에서 펼쳐지는 좌충우돌 러브스토리   8.93    story   \n",
       "7421                             스물 세살 민태현의 뒤늦은 정신적 성장기   9.83    story   \n",
       "7422                                         청춘야구사랑       9.63    story   \n",
       "7423                                        매주 월요일 업데이트    9.8    story   \n",
       "7424                전 국가대표선수 권필두와 경주마 짱빨라의 좌우충돌 열혈경마이야기   8.58    story   \n",
       "7425                                  열혈 고교 농구 리그가 펼쳐진다   9.59    story   \n",
       "7426            고교 농구를 통해 성장하는 주인공들을 그린 청춘 드라마  격주연재수요일   9.74    story   \n",
       "7427                 철없는 주인공이 어느날 자전거를 훔치고 그로인해 벌어지는 일들   7.67    story   \n",
       "7428                청소년기의 꿈과 안정적인 진로 사이에서 갈등하는 청소년의 이야기   9.68    story   \n",
       "7429  유비 관우 장비 조조 제갈량 손권 등이 야구를 한다면삼국지 등장인물들이 펼치는 흥미...   9.44    story   \n",
       "7430                               축구에 꿈을 건 소년들의 성장 드라마   9.49    story   \n",
       "7431                              월드컵 그날의 감동을 만화로 다시 한번   9.79    story   \n",
       "7432  힙합동아리 의 흑인 혼혈 마익훈과 언더그라운드 루키였던 아이돌 이글이 느끼는 힙합 ...   9.64    story   \n",
       "7433  각기 다른 문제로 제자리에 멈춰버린 네 명의 청춘들 그들이 만나 길거리 농구대회 우...    9.8    story   \n",
       "7434     자전거를 좋아하는 학생들의 우정과 사랑 그리고 청춘이야기 익스트림스포츠 스트릿 만화   9.85    story   \n",
       "7435      샌프란시스코에 있는 화랑관 태권도장에 있는 유일한 한국인 가야에게 벌어지는 이야기   9.83  omnibus   \n",
       "7436  한국 전통의 전설의 무술 화랑무 그 진원지인 진산군 도복리 그 신비의 고장에 종합격...   9.58    story   \n",
       "7437  신의 보구중 하나인 신의펜촉을 받은 변봉주인공이 만화를 그려나가는 이야기입니다 월일...   9.66    story   \n",
       "7438       모든 것을 가진 소년과 아무것도 갖지 못한 소년의 에어레이스를 통한 성장 드라마    9.5    story   \n",
       "7439                               프로레슬링 디바를 꿈꾸는 날다람쥐소녀   9.77    story   \n",
       "7440                                  육상을 통한 고등학생들의 이야기    9.7    story   \n",
       "\n",
       "       genre  \n",
       "7400  sports  \n",
       "7401  sports  \n",
       "7402  sports  \n",
       "7403  sports  \n",
       "7404  sports  \n",
       "7405  sports  \n",
       "7406  sports  \n",
       "7407  sports  \n",
       "7408  sports  \n",
       "7409  sports  \n",
       "7410  sports  \n",
       "7411  sports  \n",
       "7412  sports  \n",
       "7413  sports  \n",
       "7414  sports  \n",
       "7415  sports  \n",
       "7416  sports  \n",
       "7417  sports  \n",
       "7418  sports  \n",
       "7419  sports  \n",
       "7420  sports  \n",
       "7421  sports  \n",
       "7422  sports  \n",
       "7423  sports  \n",
       "7424  sports  \n",
       "7425  sports  \n",
       "7426  sports  \n",
       "7427  sports  \n",
       "7428  sports  \n",
       "7429  sports  \n",
       "7430  sports  \n",
       "7431  sports  \n",
       "7432  sports  \n",
       "7433  sports  \n",
       "7434  sports  \n",
       "7435  sports  \n",
       "7436  sports  \n",
       "7437  sports  \n",
       "7438  sports  \n",
       "7439  sports  \n",
       "7440  sports  "
      ]
     },
     "execution_count": 326,
     "metadata": {},
     "output_type": "execute_result"
    }
   ],
   "source": [
    "dat[7400:]"
   ]
  },
  {
   "cell_type": "code",
   "execution_count": 327,
   "metadata": {},
   "outputs": [],
   "source": [
    "cdf=pd.DataFrame(dat)"
   ]
  },
  {
   "cell_type": "code",
   "execution_count": 328,
   "metadata": {},
   "outputs": [],
   "source": [
    "cdf.to_csv('coppers.csv', index=False)"
   ]
  },
  {
   "cell_type": "code",
   "execution_count": 329,
   "metadata": {},
   "outputs": [],
   "source": [
    "stopwords = ['의','가','이','은','들','는','좀','잘','걍','과','도','를','으로','자','에','와','한','하다', '을', '되다', '이야기']"
   ]
  },
  {
   "cell_type": "code",
   "execution_count": 330,
   "metadata": {},
   "outputs": [
    {
     "name": "stderr",
     "output_type": "stream",
     "text": [
      "100%|██████████| 7441/7441 [00:22<00:00, 335.55it/s]\n"
     ]
    }
   ],
   "source": [
    "okt=Okt()\n",
    "X_train=[]\n",
    "for sentence in tqdm(dat['description']):\n",
    "    tokenized_sentence = okt.morphs(sentence, stem=True) # 토큰화\n",
    "    stopwords_removed_sentence = [word for word in tokenized_sentence if not word in stopwords] # 불용어 제거\n",
    "    X_train.append(stopwords_removed_sentence)\n"
   ]
  },
  {
   "cell_type": "code",
   "execution_count": 331,
   "metadata": {},
   "outputs": [
    {
     "name": "stdout",
     "output_type": "stream",
     "text": [
      "[['흔', '하디', '흔하다', '재벌', '후계', '캔디', '울', '고', '갈다', '박복하다', '가난', '소녀', '파란만장', '동거', '기', '인기', '작', '다세포', '소녀', '웹툰', '판'], ['이번', '주인공', '돌이', '다', '돌이', '지만', '동료', '모으다', '악당', '물리', '치다', '또', '작', '가표', '동양', '판타지', '소년만화'], ['어느', '날', '인어', '내다', '말', '걸어오다', '눈', '떠보다', '총구', '있다', '그리고', '몸', '연기', '처럼', '사라지다', '시작', '판타지', '보다', '비현실적', '인', '우리', '회색', '빛']]\n"
     ]
    }
   ],
   "source": [
    "print(X_train[:3])"
   ]
  },
  {
   "cell_type": "code",
   "execution_count": 332,
   "metadata": {},
   "outputs": [],
   "source": [
    "tokenizer = Tokenizer()\n",
    "tokenizer.fit_on_texts(X_train)"
   ]
  },
  {
   "cell_type": "code",
   "execution_count": 333,
   "metadata": {
    "scrolled": true
   },
   "outputs": [
    {
     "name": "stdout",
     "output_type": "stream",
     "text": [
      "단어 집합(vocabulary)의 크기 : 12993\n",
      "등장 빈도가 1번 이하인 희귀 단어의 수: 3561\n",
      "단어 집합에서 희귀 단어의 비율: 27.407065342876933\n",
      "전체 등장 빈도에서 희귀 단어 등장 빈도 비율: 2.472023991336462\n"
     ]
    }
   ],
   "source": [
    "threshold = 2\n",
    "total_cnt = len(tokenizer.word_index) # 단어의 수\n",
    "rare_cnt = 0 # 등장 빈도수가 threshold보다 작은 단어의 개수를 카운트\n",
    "total_freq = 0 # 훈련 데이터의 전체 단어 빈도수 총 합\n",
    "rare_freq = 0 # 등장 빈도수가 threshold보다 작은 단어의 등장 빈도수의 총 합\n",
    "\n",
    "# 단어와 빈도수의 쌍(pair)을 key와 value로 받는다.\n",
    "for key, value in tokenizer.word_counts.items():\n",
    "    total_freq = total_freq + value\n",
    "\n",
    "    # 단어의 등장 빈도수가 threshold보다 작으면\n",
    "    if(value < threshold):\n",
    "        rare_cnt = rare_cnt + 1\n",
    "        rare_freq = rare_freq + value\n",
    "\n",
    "print('단어 집합(vocabulary)의 크기 :',total_cnt)\n",
    "print('등장 빈도가 %s번 이하인 희귀 단어의 수: %s'%(threshold - 1, rare_cnt))\n",
    "print(\"단어 집합에서 희귀 단어의 비율:\", (rare_cnt / total_cnt)*100)\n",
    "print(\"전체 등장 빈도에서 희귀 단어 등장 빈도 비율:\", (rare_freq / total_freq)*100)"
   ]
  },
  {
   "cell_type": "code",
   "execution_count": 334,
   "metadata": {},
   "outputs": [],
   "source": [
    "vocab_size=total_cnt-rare_cnt +1"
   ]
  },
  {
   "cell_type": "code",
   "execution_count": 335,
   "metadata": {},
   "outputs": [
    {
     "data": {
      "text/plain": [
       "9433"
      ]
     },
     "execution_count": 335,
     "metadata": {},
     "output_type": "execute_result"
    }
   ],
   "source": [
    "vocab_size"
   ]
  },
  {
   "cell_type": "code",
   "execution_count": 336,
   "metadata": {},
   "outputs": [],
   "source": [
    "tokenizer=Tokenizer(vocab_size)\n",
    "tokenizer.fit_on_texts(X_train)\n",
    "X_train = tokenizer.texts_to_sequences(X_train)"
   ]
  },
  {
   "cell_type": "code",
   "execution_count": 337,
   "metadata": {},
   "outputs": [
    {
     "name": "stdout",
     "output_type": "stream",
     "text": [
      "[[4117, 5036, 838, 638, 1453, 6179, 954, 18, 927, 2272, 31, 1826, 426, 79, 367, 316, 31, 102, 1244]]\n"
     ]
    }
   ],
   "source": [
    "print(X_train[:1])"
   ]
  },
  {
   "cell_type": "code",
   "execution_count": 338,
   "metadata": {},
   "outputs": [
    {
     "name": "stdout",
     "output_type": "stream",
     "text": [
      "{'그': 1, '있다': 2, '에서': 3, '로': 4, '수': 5, '사람': 6, '연재': 7, '인': 8, '이다': 9, '에게': 10, '것': 11, '없다': 12, '일상': 13, '시작': 14, '날': 15, '위해': 16, '않다': 17, '고': 18, '그리고': 19, '어느': 20, '인간': 21, '보다': 22, '사랑': 23, '세상': 24, '일': 25, '년': 26, '그녀': 27, '자신': 28, '남자': 29, '적': 30, '소녀': 31, '만화': 32, '되어다': 33, '만나다': 34, '평범하다': 35, '세계': 36, '속': 37, '주인공': 38, '매주': 39, '버리다': 40, '자유': 41, '게': 42, '같다': 43, '나': 44, '로맨스': 45, '친구': 46, '다': 47, '소년': 48, '받다': 49, '함께': 50, '못': 51, '하고': 52, '살': 53, '판타지': 54, '작가': 55, '살다': 56, '내': 57, '싶다': 58, '곳': 59, '모든': 60, '만': 61, '꿈': 62, '과연': 63, '나타나다': 64, '그렇다': 65, '두': 66, '학교': 67, '우리': 68, '찾다': 69, '살아가다': 70, '알': 71, '위': 72, '중': 73, '아니다': 74, '사건': 75, '아이': 76, '다른': 77, '삶': 78, '기': 79, '생활': 80, '하나': 81, '오다': 82, '전': 83, '다시': 84, '말': 85, '연애': 86, '인생': 87, '집': 88, '까지': 89, '신': 90, '부터': 91, '앞': 92, '들다': 93, '눈': 94, '만들다': 95, '가지다': 96, '여자': 97, '게임': 98, '벌어지다': 99, '세': 100, '하지만': 101, '웹툰': 102, '생각': 103, '하': 104, '후': 105, '존재': 106, '능력': 107, '가족': 108, '시간': 109, '알다': 110, '현실': 111, '새롭다': 112, '비밀': 113, '마음': 114, '시': 115, '가다': 116, '죽다': 117, '안': 118, '지': 119, '온': 120, '어떻다': 121, '기억': 122, '일어나다': 123, '구': 124, '특별하다': 125, '드라마': 126, '아': 127, '업로드': 128, '운명': 129, '결혼': 130, '성장': 131, '인하다': 132, '찾아오다': 133, '펼쳐지다': 134, '정체': 135, '청춘': 136, '지키다': 137, '이상하다': 138, '뒤': 139, '생': 140, '과거': 141, '모르다': 142, '나가다': 143, '때': 144, '힘': 145, '당신': 146, '둘': 147, '갑자기': 148, '좋아하다': 149, '더': 150, '마을': 151, '고양이': 152, '에는': 153, '떠나다': 154, '모두': 155, '주': 156, '고등학교': 157, '어리다': 158, '그리다': 159, '서로': 160, '잃다': 161, '액션': 162, '모험': 163, '돌아가다': 164, '귀신': 165, '인가': 166, '악마': 167, '그런데': 168, '몸': 169, '누구': 170, '고등학생': 171, '반': 172, '마왕': 173, '서': 174, '우연히': 175, '사이': 176, '남': 177, '네': 178, '겪다': 179, '라': 180, '먹다': 181, '연': 182, '하루': 183, '자다': 184, '금요일': 185, '엄마': 186, '괴물': 187, '살아나다': 188, '님': 189, '왕': 190, '툰': 191, '지만': 192, '가지': 193, '성': 194, '라는': 195, '향': 196, '보이다': 197, '마법': 198, '죽음': 199, '돌아오다': 200, '좌충우돌': 201, '순간': 202, '사라지다': 203, '한국': 204, '지금': 205, '생기다': 206, '여행': 207, '원': 208, '이제': 209, '전쟁': 210, '지구': 211, '남다': 212, '최고': 213, '보내다': 214, '크다': 215, '꿈꾸다': 216, '그러나': 217, '가장': 218, '대': 219, '스토리': 220, '처럼': 221, '모습': 222, '당하다': 223, '없이': 224, '말다': 225, '대한': 226, '내다': 227, '사고': 228, '태어나다': 229, '좋다': 230, '많다': 231, '밤': 232, '끝': 233, '대다': 234, '본격': 235, '길': 236, '얻다': 237, '이라는': 238, '줄': 239, '느끼다': 240, '건': 241, '여': 242, '간': 243, '너': 244, '빠지다': 245, '소소하다': 246, '주변': 247, '복수': 248, '단': 249, '그림': 250, '대한민국': 251, '저주': 252, '주다': 253, '해주다': 254, '채': 255, '우주': 256, '개': 257, '엔': 258, '사실': 259, '변하다': 260, '극': 261, '뿐': 262, '요': 263, '명의': 264, '이름': 265, '수상한': 266, '용': 267, '감정': 268, '목요일': 269, '회사': 270, '때문': 271, '미래': 272, '첫': 273, '뜨다': 274, '최강': 275, '시대': 276, '아이돌': 277, '업데이트': 278, '마법사': 279, '선': 280, '이상': 281, '좀비': 282, '싸우다': 283, '행복하다': 284, '첫사랑': 285, '대학': 286, '만난': 287, '들어가다': 288, '진짜': 289, '제': 290, '이루다': 291, '도전': 292, '통해': 293, '생존': 294, '단편': 295, '딸': 296, '도시': 297, '인류': 298, '토요일': 299, '돈': 300, '저': 301, '시키다': 302, '사': 303, '오': 304, '스릴러': 305, '학생': 306, '떨어지다': 307, '아무': 308, '오늘': 309, '걸': 310, '나오다': 311, '무엇': 312, '믿다': 313, '희다': 314, '영혼': 315, '작': 316, '등': 317, '이후': 318, '소설': 319, '신작': 320, '짝사랑': 321, '둘러싸다': 322, '에피소드': 323, '동물': 324, '군': 325, '이유': 326, '개그': 327, '히어로': 328, '영웅': 329, '만남': 330, '아빠': 331, '싸움': 332, '동생': 333, '휘': 334, '해': 335, '명': 336, '처음': 337, '마지막': 338, '달': 339, '나라': 340, '또': 341, '형': 342, '등장': 343, '관계': 344, '제안': 345, '뭐': 346, '공주': 347, '격주': 348, '화요일': 349, '살인': 350, '따르다': 351, '지상': 352, '바꾸다': 353, '마녀': 354, '죽이다': 355, '거': 356, '위기': 357, '귀': 358, '요괴': 359, '손': 360, '백': 361, '발견': 362, '매일': 363, '라고': 364, '치': 365, '일기': 366, '인기': 367, '일이': 368, '이라': 369, '바로': 370, '월요일': 371, '상황': 372, '도깨비': 373, '작다': 374, '이르다': 375, '분': 376, '천재': 377, '이의': 378, '수요일': 379, '장': 380, '시절': 381, '그것': 382, '사회': 383, '진실': 384, '조금': 385, '걸리다': 386, '김': 387, '두다': 388, '완벽하다': 389, '끄다': 390, '입학': 391, '찾기': 392, '월': 393, '일요일': 394, '열': 395, '불명': 396, '의문': 397, '듯': 398, '저승': 399, '뱀파이어': 400, '동안': 401, '하늘': 402, '방': 403, '마주': 404, '나다': 405, '계': 406, '맞서다': 407, '바뀌다': 408, '인연': 409, '조선': 410, '화': 411, '무': 412, '상처': 413, '문': 414, '프로젝트': 415, '가득하다': 416, '현재': 417, '여고생': 418, '과의': 419, '간다': 420, '계약': 421, '신의': 422, '라이프': 423, '고백': 424, '관': 425, '동거': 426, '번': 427, '기다': 428, '성장하다': 429, '현': 430, '학원': 431, '법': 432, '코믹': 433, '다니다': 434, '면': 435, '쫓다': 436, '아버지': 437, '왕자': 438, '누군가': 439, '점점': 440, '한번': 441, '다양하다': 442, '정신': 443, '모이다': 444, '초능력': 445, '전설': 446, '아들': 447, '숨기다': 448, '같이': 449, '이라고': 450, '난': 451, '부부': 452, '할머니': 453, '탈출': 454, '차': 455, '며': 456, '선택': 457, '들어오다': 458, '중심': 459, '볼': 460, '우정': 461, '가게': 462, '강하다': 463, '펼치다': 464, '목숨': 465, '어디': 466, '남녀': 467, '지망': 468, '무사하다': 469, '와의': 470, '걸다': 471, '살아오다': 472, '섬': 473, '소원': 474, '에도': 475, '왜': 476, '외모': 477, '꾸다': 478, '별': 479, '공간': 480, '되찾다': 481, '피': 482, '맞다': 483, '술': 484, '동화': 485, '원하다': 486, '작품': 487, '얽히다': 488, '지옥': 489, '이자': 490, '자기': 491, '아름답다': 492, '다그': 493, '돼다': 494, '인물': 495, '부': 496, '지내다': 497, '든': 498, '불리다': 499, '잡다': 500, '해결': 501, '기다리다': 502, '이별': 503, '무섭다': 504, '야': 505, '쓰다': 506, '깨어나다': 507, '모': 508, '물': 509, '키우다': 510, '기록': 511, '남편': 512, '나르다': 513, '쉬다': 514, '나서다': 515, '여정': 516, '어른': 517, '양': 518, '찾아가다': 519, '공포': 520, '대학생': 521, '그린': 522, '담다': 523, '무슨': 524, '갇히다': 525, '예': 526, '주인': 527, '결국': 528, '결심': 529, '해보다': 530, '밉다': 531, '서울': 532, '전학': 533, '팀': 534, '맞이': 535, '너무': 536, '외계인': 537, '소중하다': 538, '벗어나다': 539, '카페': 540, '얼굴': 541, '여러': 542, '미치다': 543, '이고': 544, '다루다': 545, '캐릭터': 546, '용다': 547, '동료': 548, '들이다': 549, '이나': 550, '혼자': 551, '우연': 552, '매': 553, '치다': 554, '학년': 555, '강': 556, '목표': 557, '씨': 558, '듣다': 559, '조': 560, '바이러스': 561, '숨다': 562, '전생': 563, '문제': 564, '주의': 565, '멀다': 566, '시즌': 567, '천사': 568, '트라우마': 569, '직장인': 570, '부모님': 571, '사장': 572, '거리': 573, '동아리': 574, '능력자': 575, '초': 576, '잊다': 577, '백수': 578, '드리다': 579, '이번': 580, '기묘하다': 581, '의하다': 582, '기회': 583, '상': 584, '평화롭다': 585, '누나': 586, '넘다': 587, '대신': 588, '성공하다': 589, '청년': 590, '소': 591, '만화가': 592, '이용': 593, '지니다': 594, '하루하루': 595, '이사': 596, '공감': 597, '갖다': 598, '에게는': 599, '소리': 600, '잠': 601, '다르다': 602, '애': 603, '당': 604, '해오다': 605, '자리': 606, '부르다': 607, '네이버': 608, '새': 609, '상대': 610, '준비': 611, '노력': 612, '유일하다': 613, '억': 614, '배우다': 615, '살리다': 616, '잃어버리다': 617, '육아': 618, '졸업': 619, '행성': 620, '각자': 621, '소꿉친구': 622, '늘': 623, '곱다': 624, '영': 625, '에서도': 626, '제일': 627, '끝나다': 628, '남자친구': 629, '지다': 630, '마다': 631, '로부터': 632, '옴니버스': 633, '찬': 634, '세기': 635, '남매': 636, '실화': 637, '재벌': 638, '낯선': 639, '쓸다': 640, '에겐': 641, '추억': 642, '동': 643, '언니': 644, '범죄': 645, '미스터리': 646, '관심': 647, '계속': 648, '대표': 649, '즐겁다': 650, '극복': 651, '준': 652, '빛': 653, '싫어하다': 654, '변화': 655, '분투': 656, '그날': 657, '방법': 658, '충격': 659, '대로': 660, '놈': 661, '막다': 662, '타다': 663, '조직': 664, '설레다': 665, '이지만': 666, '번째': 667, '공': 668, '성장기': 669, '캠퍼스': 670, '니': 671, '보고': 672, '로봇': 673, '비': 674, '바람': 675, '마': 676, '산': 677, '꼬이다': 678, '격': 679, '악당': 680, '헤어지다': 681, '말리': 682, '으로부터': 683, '코미디': 684, '재': 685, '만이': 686, '벌이다': 687, '여름': 688, '천': 689, '사귀다': 690, '나날': 691, '나이': 692, '운영': 693, '사람과': 694, '다섯': 695, '과는': 696, '정': 697, '스스로': 698, '알바': 699, '맨': 700, '최대': 701, '귀엽다': 702, '취업': 703, '오랜': 704, '현대': 705, '수많다': 706, '그저': 707, '포기': 708, '쌍둥이': 709, '풀다': 710, '예쁘다': 711, '대학교': 712, '재능': 713, '관리': 714, '희망': 715, '리': 716, '시골': 717, '에서의': 718, '인스타': 719, '그렇게': 720, '상상': 721, '상치': 722, '정의': 723, '스러운': 724, '지배': 725, '만에': 726, '이어지다': 727, '왕따': 728, '진정하다': 729, '서다': 730, '달콤하다': 731, '도망치다': 732, '글': 733, '랑': 734, '미국': 735, '경찰': 736, '선배': 737, '다가오다': 738, '자취': 739, '꼬마': 740, '타': 741, '학교생활': 742, '급': 743, '납치': 744, '공부': 745, '리얼': 746, '수호': 747, '일진': 748, '과정': 749, '씩': 750, '검': 751, '사가': 752, '악몽': 753, '갑작스럽다': 754, '숲': 755, '배우': 756, '커플': 757, '수상작': 758, '감': 759, '처': 760, '녀석': 761, '오르다': 762, '고향': 763, '따뜻하다': 764, '지치다': 765, '머리': 766, '밖에': 767, '말리다': 768, '바라다': 769, '빙의': 770, '황제': 771, '인데': 772, '몬스터': 773, '투하': 774, '대체': 775, '경험': 776, '인형': 777, '성격': 778, '여러분': 779, '리메이크': 780, '왕국': 781, '최': 782, '그룹': 783, '목': 784, '매달': 785, '탑': 786, '초능력자': 787, '행복': 788, '절대': 789, '이란': 790, '선생님': 791, '병': 792, '혼란': 793, '자꾸': 794, '임무': 795, '기적': 796, '저승사자': 797, '매력': 798, '직접': 799, '사연': 800, '살해': 801, '어둠': 802, '신들': 803, '뭔가': 804, '유쾌하다': 805, '종족': 806, '블로그': 807, '들키다': 808, '도움': 809, '언': 810, '꽃': 811, '공존': 812, '넘치다': 813, '전학생': 814, '식': 815, '온갖': 816, '보여주다': 817, '닮다': 818, '내용': 819, '이렇다': 820, '착하다': 821, '금': 822, '손님': 823, '필요하다': 824, '이미': 825, '퍼지다': 826, '부탁': 827, '주어지다': 828, '소문': 829, '여행기': 830, '임': 831, '언제나': 832, '어딘가': 833, '힐링': 834, '찌다': 835, '땅': 836, '치유': 837, '흔하다': 838, '감추다': 839, '거대하다': 840, '그때': 841, '어': 842, '이끌다': 843, '가난하다': 844, '순정': 845, '실제': 846, '다음': 847, '고민': 848, '몇': 849, '가문': 850, '이렇게': 851, '마주치다': 852, '죽': 853, '어렵다': 854, '전혀': 855, '직업': 856, '웃다': 857, '소심하다': 858, '차다': 859, '점차': 860, '호랑이': 861, '군대': 862, '따다': 863, '눈물': 864, '옆집': 865, '지나다': 866, '피해': 867, '노리다': 868, '개인': 869, '여인': 870, '파괴': 871, '배신': 872, '여대생': 873, '힘들다': 874, '잠시': 875, '망하다': 876, '친': 877, '년대': 878, '녀': 879, '아기': 880, '마리': 881, '멈추다': 882, '멸망': 883, '아침': 884, '스물': 885, '쯤': 886, '갈등': 887, '환상': 888, '읽다': 889, '근': 890, '가슴': 891, '신비하다': 892, '시선': 893, '개념': 894, '대해': 895, '의미': 896, '저녁': 897, '모으다': 898, '원래': 899, '항상': 900, '살기': 901, '무너지다': 902, '음모': 903, '살인마': 904, '환생': 905, '배경': 906, '막': 907, '빼앗기다': 908, '끔찍하다': 909, '이루어지다': 910, '의사': 911, '째': 912, '기이하다': 913, '국가': 914, '여우': 915, '기사': 916, '위험하다': 917, '내일': 918, '체': 919, '만의': 920, '에서는': 921, '바다': 922, '흐르다': 923, '빌런': 924, '요리': 925, '컷': 926, '갈다': 927, '똑같다': 928, '공모전': 929, '가까워지다': 930, '강아지': 931, '통': 932, '남친': 933, '즐기다': 934, '앞두다': 935, '처절하다': 936, '혹은': 937, '훔치다': 938, '라면': 939, '나쁘다': 940, '전부': 941, '그냥': 942, '데': 943, '넣다': 944, '오빠': 945, '스타': 946, '부활': 947, '늘다': 948, '다짐': 949, '반복': 950, '감성': 951, '고생': 952, '개성': 953, '울': 954, '스포츠': 955, '폭력': 956, '삼': 957, '조용하다': 958, '연인': 959, '올리다': 960, '무림': 961, '곰': 962, '신입생': 963, '싫다': 964, '오직': 965, '달콤': 966, '치열하다': 967, '웹툰작가': 968, '이며': 969, '에게도': 970, '타고': 971, '드디어': 972, '데뷔': 973, '덕후': 974, '아싸': 975, '도와주다': 976, '시트콤': 977, '음식': 978, '차갑다': 979, '여기다': 980, '사용': 981, '러브': 982, '민': 983, '집사': 984, '발': 985, '회': 986, '언제': 987, '범인': 988, '사랑스럽다': 989, '정보': 990, '차리다': 991, '얼떨결': 992, '범': 993, '빛나다': 994, '심': 995, '출신': 996, '장르': 997, '력': 998, '정도': 999, '무시': 1000, '점': 1001, '아주': 1002, '위로': 1003, '킬러': 1004, '여성': 1005, '던전': 1006, '근데': 1007, '동네': 1008, '목격': 1009, '유': 1010, '흘러가다': 1011, '일곱': 1012, '절망': 1013, '수도': 1014, '인지': 1015, '야구': 1016, '에선': 1017, '묘': 1018, '아내': 1019, '숨기': 1020, '토끼': 1021, '활': 1022, '초보': 1023, '도둑': 1024, '예정': 1025, '살의': 1026, '밖': 1027, '썸': 1028, '이든': 1029, '고통': 1030, '지난': 1031, '사투': 1032, '맛있다': 1033, '빚': 1034, '밝혀지다': 1035, '취향': 1036, '자라다': 1037, '첫날': 1038, '감동': 1039, '눈앞': 1040, '목소리': 1041, '문명': 1042, '소개': 1043, '정식': 1044, '깊다': 1045, '생기': 1046, '요정': 1047, '거절': 1048, '아직': 1049, '평화': 1050, '개발': 1051, '바라보다': 1052, '철': 1053, '자매': 1054, '감사하다': 1055, '오후': 1056, '동양': 1057, '고교': 1058, '아르바이트': 1059, '건물': 1060, '타고나다': 1061, '세대': 1062, '엄청나다': 1063, '에게서': 1064, '인들': 1065, '짜다': 1066, '홀로': 1067, '정말': 1068, '음악': 1069, '동시': 1070, '직장': 1071, '앓다': 1072, '놀다': 1073, '움직이다': 1074, '로운': 1075, '파헤치다': 1076, '중인': 1077, '찌르다': 1078, '년차': 1079, '내려오다': 1080, '어머니': 1081, '권': 1082, '조금씩': 1083, '호': 1084, '연극': 1085, '이야': 1086, '신화': 1087, '색': 1088, '연우': 1089, '바보': 1090, '아프다': 1091, '신분': 1092, '재중': 1093, '휴재': 1094, '물리': 1095, '깨닫다': 1096, '실종': 1097, '불': 1098, '만큼': 1099, '겨울': 1100, '심장': 1101, '형사': 1102, '곁': 1103, '곧': 1104, '은하': 1105, '하필': 1106, '여기': 1107, '아파트': 1108, '거짓말': 1109, '타인': 1110, '실수': 1111, '짓': 1112, '환경': 1113, '아픔': 1114, '집단': 1115, '여주': 1116, '조각': 1117, '거대': 1118, '밝히다': 1119, '위협': 1120, '무당': 1121, '봄': 1122, '최애': 1123, '놓다': 1124, '질': 1125, '욕망': 1126, '악령': 1127, '자전': 1128, '드래곤': 1129, '상속': 1130, '서른': 1131, '맡다': 1132, '퇴치': 1133, '차원': 1134, '래': 1135, '진행': 1136, '선수': 1137, '역사': 1138, '팬': 1139, '산다': 1140, '시아': 1141, '바탕': 1142, '당분간': 1143, '떠보다': 1144, '기업': 1145, '험난하다': 1146, '막장': 1147, '전국': 1148, '대회': 1149, '구원': 1150, '전교': 1151, '의심': 1152, '탕': 1153, '힘드다': 1154, '집안': 1155, '사냥': 1156, '여자친구': 1157, '범죄자': 1158, '한테': 1159, '조건': 1160, '함': 1161, '보이': 1162, '끌리다': 1163, '들려주다': 1164, '로서': 1165, '대상': 1166, '미스테리': 1167, '받아들이다': 1168, '키스': 1169, '삶다': 1170, '수수께끼': 1171, '활동': 1172, '자살': 1173, '화려하다': 1174, '계획': 1175, '줍다': 1176, '우': 1177, '달다': 1178, '이혼': 1179, '붉다': 1180, '순수하다': 1181, '꾼': 1182, '원작': 1183, '마법소녀': 1184, '쟁이': 1185, '용병': 1186, '축구': 1187, '많이': 1188, '한라': 1189, '이해': 1190, '뿐이다': 1191, '누가': 1192, '그로': 1193, '당연하다': 1194, '물건': 1195, '돌리다': 1196, '채우다': 1197, '제대로': 1198, '쫓기다': 1199, '노': 1200, '잔혹하다': 1201, '들어주다': 1202, '유명하다': 1203, '구미호': 1204, '드러내다': 1205, '최애캐': 1206, '운': 1207, '최악': 1208, '기계': 1209, '걷다': 1210, '품다': 1211, '멋지다': 1212, '잘생기다': 1213, '계기': 1214, '백작': 1215, '성공': 1216, '본인': 1217, '추다': 1218, '닿다': 1219, '가리다': 1220, '시체': 1221, '대가': 1222, '재회': 1223, '연쇄': 1224, '퇴마사': 1225, '여고': 1226, '또한': 1227, '유령': 1228, '물고기': 1229, '여동생': 1230, '악': 1231, '열심히': 1232, '저택': 1233, '대륙': 1234, '코': 1235, '순정만화': 1236, '카': 1237, '알바생': 1238, '보기': 1239, '서바이벌': 1240, '목적': 1241, '봉인': 1242, '정부': 1243, '판': 1244, '인어': 1245, '최초': 1246, '전투': 1247, '동경': 1248, '가득': 1249, '신체': 1250, '옆': 1251, '무협': 1252, '발생': 1253, '울다': 1254, '우당탕': 1255, '선녀': 1256, '달라': 1257, '보호': 1258, '불운': 1259, '외롭다': 1260, '키': 1261, '방송': 1262, '수업': 1263, '싸다': 1264, '파티': 1265, '사정': 1266, '노래': 1267, '궁': 1268, '이기다': 1269, '형제': 1270, '무언가': 1271, '관찰': 1272, '멸망하다': 1273, '만들기': 1274, '무대': 1275, '탈': 1276, '파견': 1277, '시험': 1278, '슬프다': 1279, '마저': 1280, '만들어지다': 1281, '제공': 1282, '괜찮다': 1283, '거기': 1284, '떠오르다': 1285, '사냥꾼': 1286, '마물': 1287, '각': 1288, '교육': 1289, '관련': 1290, '주기': 1291, '배틀': 1292, '교사': 1293, '끼': 1294, '깨다': 1295, '인간계': 1296, '년전': 1297, '미지': 1298, '엉뚱하다': 1299, '결정': 1300, '석': 1301, '이지': 1302, '청소년': 1303, '식물': 1304, '맺다': 1305, '입': 1306, '특이하다': 1307, '비밀스럽다': 1308, '짧다': 1309, '가능하다': 1310, '신비롭다': 1311, '당황': 1312, '이상형': 1313, '주민': 1314, '거치다': 1315, '반하다': 1316, '습격': 1317, '고수': 1318, '예측': 1319, '인터넷': 1320, '달리': 1321, '원수': 1322, '독자': 1323, '순': 1324, '학기': 1325, '국': 1326, '지는': 1327, '지능': 1328, '직전': 1329, '대의': 1330, '사자': 1331, '죄': 1332, '불다': 1333, '괴롭히다': 1334, '시련': 1335, '예술': 1336, '꿈속': 1337, '신혼': 1338, '솔로': 1339, '엘리트': 1340, '사춘기': 1341, '박': 1342, '일본': 1343, '최후': 1344, '살이': 1345, '섞이다': 1346, '신입': 1347, '도사': 1348, '낮': 1349, '바쁘다': 1350, '기르다': 1351, '서브': 1352, '혁명': 1353, '거울': 1354, '자꾸만': 1355, '벌': 1356, '이면': 1357, '일행': 1358, '순이': 1359, '풀기': 1360, '황당하다': 1361, '야하다': 1362, '방식': 1363, '다운': 1364, '환생하다': 1365, '하라': 1366, '답': 1367, '진지하다': 1368, '거지': 1369, '수영': 1370, '운동': 1371, '물리다': 1372, '부모': 1373, '일으키다': 1374, '패션': 1375, '공지': 1376, '솔직하다': 1377, '때리다': 1378, '재미있다': 1379, '홍': 1380, '축복': 1381, '되돌리다': 1382, '옷': 1383, '치료': 1384, '성적': 1385, '몰래': 1386, '주식': 1387, '위장': 1388, '얘기': 1389, '세계관': 1390, '경': 1391, '주연': 1392, '황후': 1393, '옛': 1394, '하룻밤': 1395, '아저씨': 1396, '시한': 1397, '반전': 1398, '노예': 1399, '불의': 1400, '직': 1401, '순탄': 1402, '거부': 1403, '은밀': 1404, '유지': 1405, '지하철': 1406, '외': 1407, '만을': 1408, '올라오다': 1409, '장난': 1410, '특별': 1411, '시달리다': 1412, '맘': 1413, '헌터': 1414, '안되다': 1415, '막내': 1416, '고딩': 1417, '검다': 1418, '기분': 1419, '가볍다': 1420, '란': 1421, '병맛': 1422, '잠들다': 1423, '자아': 1424, '어제': 1425, '미술': 1426, '사신': 1427, '중요하다': 1428, '내기': 1429, '이던': 1430, '마족': 1431, '예전': 1432, '모태솔로': 1433, '취직': 1434, '유진': 1435, '아홉': 1436, '너무나도': 1437, '유물': 1438, '완결': 1439, '방황': 1440, '시기': 1441, '스': 1442, '외국인': 1443, '미아': 1444, '진우': 1445, '때로는': 1446, '헤치다': 1447, '평범': 1448, '일도': 1449, '농구': 1450, '다이어트': 1451, '오전': 1452, '후계': 1453, '연기': 1454, '승': 1455, '서툴다': 1456, '중학교': 1457, '스무': 1458, '높다': 1459, '린다': 1460, '나누다': 1461, '버려진': 1462, '발랄': 1463, '입다': 1464, '오해': 1465, '이승': 1466, '터지다': 1467, '누명': 1468, '신랑': 1469, '적응': 1470, '초대': 1471, '공무원': 1472, '도착': 1473, '인공': 1474, '상태': 1475, '붙다': 1476, '행동': 1477, '어쩐지': 1478, '불행하다': 1479, '젊다': 1480, '보이지': 1481, '향기': 1482, '악연': 1483, '현장': 1484, '그래도': 1485, '예언': 1486, '두려움': 1487, '너무나': 1488, '취준생': 1489, '냥': 1490, '중독': 1491, '보지': 1492, '블랙': 1493, '뜨겁다': 1494, '변신': 1495, '간절하다': 1496, '한다는': 1497, '지우다': 1498, '다소': 1499, '한편': 1500, '국민': 1501, '불사': 1502, '내리다': 1503, '보통': 1504, '실력': 1505, '배달': 1506, '슈퍼': 1507, '그림자': 1508, '사업': 1509, '추적': 1510, '제작': 1511, '왕비': 1512, '악의': 1513, '자전거': 1514, '인정받다': 1515, '보미': 1516, '앨리스': 1517, '직원': 1518, '갓': 1519, '뒤지다': 1520, '어쩔': 1521, '연하남': 1522, '태': 1523, '총': 1524, '후회': 1525, '대기업': 1526, '스카우트': 1527, '조선시대': 1528, '선물': 1529, '학원물': 1530, '설': 1531, '하얗다': 1532, '여학생': 1533, '옥': 1534, '책': 1535, '흔적': 1536, '파': 1537, '생명': 1538, '투기': 1539, '불리': 1540, '환자': 1541, '방문': 1542, '령': 1543, '리지': 1544, '평생': 1545, '던지다': 1546, '프랑스': 1547, '척': 1548, '드러나다': 1549, '저주받다': 1550, '뭉치다': 1551, '빠르다': 1552, '영애': 1553, '담': 1554, '덕질': 1555, '평소': 1556, '허다': 1557, '두근두근': 1558, '자칭': 1559, '엇갈리다': 1560, '영물': 1561, '초인': 1562, '사소하다': 1563, '입사': 1564, '그대로': 1565, '매월': 1566, '없애다': 1567, '명작': 1568, '부딪히다': 1569, '종말': 1570, '와는': 1571, '여전하다': 1572, '부대': 1573, '입대': 1574, '터': 1575, '요원': 1576, '대립': 1577, '입시': 1578, '채다': 1579, '부족하다': 1580, '군인': 1581, '들리다': 1582, '루': 1583, '미대': 1584, '단지': 1585, '열다': 1586, '자가': 1587, '미로': 1588, '파란만장하다': 1589, '쏠': 1590, '외계': 1591, '쌓이다': 1592, '소심': 1593, '이메일': 1594, '부탁드리다': 1595, '혈': 1596, '하루아침': 1597, '자유롭다': 1598, '문자': 1599, '요즘': 1600, '감염': 1601, '이동': 1602, '바치다': 1603, '천년': 1604, '거래': 1605, '편': 1606, '탈출기': 1607, '세력': 1608, '실패하다': 1609, '할아버지': 1610, '커지다': 1611, '두렵다': 1612, '에이': 1613, '자의': 1614, '오디션': 1615, '날리다': 1616, '만은': 1617, '억울하다': 1618, '뭘': 1619, '꽃미남': 1620, '생일': 1621, '진학': 1622, '아슬아슬': 1623, '엘': 1624, '신나다': 1625, '안고': 1626, '칼': 1627, '빠져들다': 1628, '지독하다': 1629, '가면': 1630, '시리즈': 1631, '널': 1632, '재인': 1633, '음': 1634, '새다': 1635, '팔': 1636, '리아': 1637, '눈치': 1638, '당선': 1639, '차이다': 1640, '끼다': 1641, '로맨틱': 1642, '완전하다': 1643, '구한': 1644, '신인': 1645, '중학생': 1646, '써다': 1647, '편하다': 1648, '벌다': 1649, '도윤': 1650, '아가씨': 1651, '손녀': 1652, '임신': 1653, '초월': 1654, '들어서다': 1655, '제국': 1656, '로망': 1657, '서비스': 1658, '여왕': 1659, '소환': 1660, '가의': 1661, '한지': 1662, '업무': 1663, '약': 1664, '마트': 1665, '센터': 1666, '쓰레기': 1667, '바로잡다': 1668, '오래': 1669, '마치': 1670, '자식': 1671, '미션': 1672, '녹다': 1673, '류': 1674, '희귀': 1675, '놓이다': 1676, '거듭': 1677, '기관': 1678, '불법': 1679, '실험': 1680, '스펙': 1681, '담기다': 1682, '불행': 1683, '밥': 1684, '남겨지다': 1685, '진': 1686, '그래서': 1687, '탓': 1688, '증오': 1689, '각기': 1690, '지하': 1691, '층': 1692, '낳다': 1693, '덮다': 1694, '과학': 1695, '솔': 1696, '탄생': 1697, '상사': 1698, '뜻': 1699, '나비': 1700, '여섯': 1701, '어쩌면': 1702, '독일': 1703, '인간세계': 1704, '통제': 1705, '미남': 1706, '감자': 1707, '위험': 1708, '환': 1709, '라도': 1710, '쓰이다': 1711, '궁금하다': 1712, '현수': 1713, '수가': 1714, '프로': 1715, '차이': 1716, '엔딩': 1717, '낡다': 1718, '게다가': 1719, '플레이어': 1720, '강제': 1721, '남기다': 1722, '새벽': 1723, '신다': 1724, '틴': 1725, '황녀': 1726, '선생': 1727, '동기': 1728, '공작': 1729, '숨': 1730, '합격': 1731, '갚다': 1732, '라이': 1733, '버티다': 1734, '귀족': 1735, '공개': 1736, '서서히': 1737, '무사': 1738, '공유': 1739, '세우다': 1740, '네이버웹툰': 1741, '승리': 1742, '간의': 1743, '퀘스트': 1744, '조폭': 1745, '번의': 1746, '복잡하다': 1747, '유혹': 1748, '치고': 1749, '재영': 1750, '몰다': 1751, '민준': 1752, '꼭': 1753, '묻다': 1754, '행운': 1755, '심부름': 1756, '추리': 1757, '뒤늦다': 1758, '로는': 1759, '기술': 1760, '재밌다': 1761, '노인': 1762, '취미': 1763, '차려': 1764, '박사': 1765, '해리': 1766, '바': 1767, '권력': 1768, '일주일': 1769, '끊다': 1770, '전직': 1771, '열정': 1772, '기상': 1773, '화가': 1774, '사의': 1775, '황태자': 1776, '밝다': 1777, '무인도': 1778, '문화': 1779, '즈': 1780, '장면': 1781, '칠': 1782, '위대하다': 1783, '뛰다': 1784, '웬': 1785, '아포칼립스': 1786, '특집': 1787, '국내': 1788, '의도': 1789, '빨리': 1790, '부분': 1791, '사다': 1792, '달이': 1793, '영원하다': 1794, '풍': 1795, '빨갛다': 1796, '자라': 1797, '유산': 1798, '식당': 1799, '불편하다': 1800, '사랑받다': 1801, '잡': 1802, '지나치다': 1803, '도중': 1804, '수사': 1805, '현우': 1806, '기간': 1807, '괴담': 1808, '변': 1809, '인간관계': 1810, '원인': 1811, '약자': 1812, '확인': 1813, '진심': 1814, '여러가지': 1815, '일상물': 1816, '깃': 1817, '장소': 1818, '장애': 1819, '주변인': 1820, '중단': 1821, '차별': 1822, '인스타그램': 1823, '픽션': 1824, '캐나다': 1825, '파란만장': 1826, '무기': 1827, '선보이다': 1828, '회장': 1829, '반드시': 1830, '역경': 1831, '린': 1832, '강림': 1833, '찌질하다': 1834, '엮': 1835, '문득': 1836, '동창': 1837, '민우': 1838, '신부': 1839, '대결': 1840, '심리': 1841, '아래': 1842, '쓰러지다': 1843, '늑대': 1844, '공대생': 1845, '뛰어넘다': 1846, '괴롭힘': 1847, '회귀': 1848, '사내': 1849, '사기': 1850, '달달': 1851, '막히다': 1852, '수저': 1853, '뜻대로': 1854, '엑스트라': 1855, '집착': 1856, '발전': 1857, '새끼': 1858, '접': 1859, '에만': 1860, '생존자': 1861, '실체': 1862, '복학': 1863, '이건': 1864, '풀': 1865, '쫒다': 1866, '사망': 1867, '살인자': 1868, '율': 1869, '자고': 1870, '고르다': 1871, '까지의': 1872, '다사': 1873, '퇴마': 1874, '계절': 1875, '허락': 1876, '살벌': 1877, '후보': 1878, '분노': 1879, '스럽다': 1880, '지호': 1881, '경계': 1882, '한별': 1883, '지켜보다': 1884, '일지': 1885, '회사원': 1886, '독특하다': 1887, '적다': 1888, '니까': 1889, '출산': 1890, '달리다': 1891, '맛': 1892, '샵': 1893, '씁쓸하다': 1894, '친해지다': 1895, '레벨': 1896, '생계': 1897, '폭탄': 1898, '종이': 1899, '울리다': 1900, '자세하다': 1901, '먼저': 1902, '불구': 1903, '플레이': 1904, '잡히다': 1905, '어쩌다': 1906, '여신': 1907, '토': 1908, '연습생': 1909, '멤버': 1910, '약육강식': 1911, '마루': 1912, '아카데미': 1913, '욕': 1914, '유리': 1915, '연결': 1916, '전하': 1917, '회수': 1918, '추구': 1919, '생겨나다': 1920, '덕': 1921, '편의점': 1922, '경쟁': 1923, '찾아내다': 1924, '썩다': 1925, '암': 1926, '괴롭다': 1927, '장물': 1928, '참고': 1929, '성녀': 1930, '윗': 1931, '암투': 1932, '갑작스레': 1933, '지고': 1934, '망': 1935, '낯': 1936, '정상': 1937, '투쟁': 1938, '장수': 1939, '보스': 1940, '상식': 1941, '심하다': 1942, '비극': 1943, '그동안': 1944, '리스': 1945, '톡': 1946, '팬카페': 1947, '국밥': 1948, '개학': 1949, '일상생활': 1950, '하숙': 1951, '업뎃': 1952, '지휘': 1953, '임진왜란': 1954, '호인': 1955, '팔찌': 1956, '돌이': 1957, '아슬아슬하다': 1958, '가운데': 1959, '수상하다': 1960, '우수상': 1961, '남학생': 1962, '괴상하다': 1963, '신경': 1964, '겉': 1965, '뜻밖': 1966, '멀어지다': 1967, '떠올리다': 1968, '얼마': 1969, '일대기': 1970, '트': 1971, '사립': 1972, '설화': 1973, '셔틀': 1974, '공략': 1975, '망상': 1976, '짐승': 1977, '부자': 1978, '아치': 1979, '하이': 1980, '가출': 1981, '밟다': 1982, '호러': 1983, '흙': 1984, '기자': 1985, '이를': 1986, '움': 1987, '가끔': 1988, '병원': 1989, '다정하다': 1990, '가깝다': 1991, '교실': 1992, '대부분': 1993, '미련': 1994, '선언': 1995, '어울리다': 1996, '외톨이': 1997, '왕세자': 1998, '남극': 1999, '금수': 2000, '혼인': 2001, '참가': 2002, '가수': 2003, '의식': 2004, '피다': 2005, '콤플렉스': 2006, '방해': 2007, '안드로이드': 2008, '재수': 2009, '소속': 2010, '쌓다': 2011, '예능': 2012, '끊임없다': 2013, '풋풋하다': 2014, '어설프다': 2015, '담당': 2016, '알콩달콩': 2017, '달라지다': 2018, '오가다': 2019, '태권도': 2020, '메다': 2021, '넌': 2022, '소식': 2023, '반대': 2024, '적응하다': 2025, '기반': 2026, '노리': 2027, '호기심': 2028, '욕구': 2029, '유일': 2030, '신선': 2031, '스승': 2032, '여덟': 2033, '진상': 2034, '감상': 2035, '빌다': 2036, '등등': 2037, '각성': 2038, '도대체': 2039, '가정': 2040, '취급': 2041, '수행': 2042, '신령': 2043, '열리다': 2044, '오래되다': 2045, '고교생': 2046, '및': 2047, '소방관': 2048, '따위': 2049, '머물다': 2050, '마음속': 2051, '튀다': 2052, '휴먼': 2053, '벽': 2054, '너머': 2055, '에게나': 2056, '불만': 2057, '협박': 2058, '베다': 2059, '루나': 2060, '이성': 2061, '사오다': 2062, '재미': 2063, '수명': 2064, '교도소': 2065, '삼국지': 2066, '가상': 2067, '처리': 2068, '라니': 2069, '구역': 2070, '지구인': 2071, '불안하다': 2072, '주부': 2073, '환영': 2074, '똑같이': 2075, '일리': 2076, '머': 2077, '난관': 2078, '둘째': 2079, '족': 2080, '전문': 2081, '시장': 2082, '이현세': 2083, '꿀': 2084, '사과': 2085, '침략': 2086, '격리': 2087, '승희': 2088, '중세': 2089, '하람': 2090, '러브스토리': 2091, '기대': 2092, '분량': 2093, '온라인': 2094, '상남자': 2095, '종교': 2096, '뭔': 2097, '겁': 2098, '머릿속': 2099, '밑': 2100, '해도': 2101, '공격': 2102, '잡아먹다': 2103, '자체': 2104, '쎄다': 2105, '차지': 2106, '속이다': 2107, '반려동물': 2108, '신세': 2109, '마스터': 2110, '핸드폰': 2111, '삼각관계': 2112, '다정': 2113, '그게': 2114, '색다르다': 2115, '새내기': 2116, '합치다': 2117, '이웃': 2118, '강남': 2119, '잘못': 2120, '수능': 2121, '콤비': 2122, '천하': 2123, '신수': 2124, '영국': 2125, '통한': 2126, '피하': 2127, '넘어가다': 2128, '왕녀': 2129, '트리': 2130, '길다': 2131, '사이코': 2132, '재난': 2133, '고립': 2134, '금지': 2135, '영기': 2136, '반한': 2137, '이기': 2138, '활약': 2139, '기운': 2140, '해내다': 2141, '도플갱어': 2142, '윤하': 2143, '등교': 2144, '그런': 2145, '에나': 2146, '엉망': 2147, '대형': 2148, '쫓겨나다': 2149, '소문나다': 2150, '주위': 2151, '쪽': 2152, '남자에게': 2153, '용기': 2154, '불길하다': 2155, '놓치다': 2156, '명문': 2157, '구석': 2158, '미인': 2159, '알려지다': 2160, '배': 2161, '혜성': 2162, '굳다': 2163, '기생': 2164, '사진': 2165, '당한': 2166, '혐오': 2167, '설정': 2168, '개월': 2169, '장군': 2170, '기도': 2171, '택': 2172, '마약': 2173, '릴리': 2174, '종료': 2175, '후의': 2176, '고의': 2177, '첫째': 2178, '뛰어들다': 2179, '도술': 2180, '완성': 2181, '세다': 2182, '벨': 2183, '반장': 2184, '건네다': 2185, '나선': 2186, '심지어': 2187, '은수': 2188, '맞추다': 2189, '고자': 2190, '냐': 2191, '영희': 2192, '뺏다': 2193, '놀라다': 2194, '사악하다': 2195, '지면': 2196, '소설가': 2197, '힐러': 2198, '두운': 2199, '한가지': 2200, '변형': 2201, '훈련': 2202, '믿음': 2203, '하우스': 2204, '지혁': 2205, '먹이': 2206, '전사': 2207, '깨지다': 2208, '무리': 2209, '지영': 2210, '고시원': 2211, '용이': 2212, '재력': 2213, '연희': 2214, '대항': 2215, '북부': 2216, '으로서': 2217, '간직': 2218, '중국': 2219, '지방': 2220, '달리기': 2221, '가정부': 2222, '히': 2223, '만약': 2224, '일과': 2225, '매번': 2226, '각종': 2227, '방울': 2228, '추방': 2229, '따로': 2230, '작고': 2231, '아르': 2232, '알아보다': 2233, '정말로': 2234, '초등학생': 2235, '가보다': 2236, '화랑': 2237, '패배': 2238, '다치다': 2239, '우울증': 2240, '벚꽃': 2241, '사르다': 2242, '은둔': 2243, 'ㅠㅠ': 2244, '메이드': 2245, '역병': 2246, '기숙사': 2247, '수연': 2248, '남다르다': 2249, '치르다': 2250, '제목': 2251, '이어폰': 2252, '국제': 2253, '갑': 2254, '느낌': 2255, '위주': 2256, '분신': 2257, '식사': 2258, '유치원': 2259, '카카오': 2260, '상실': 2261, '영어': 2262, '버려지다': 2263, '일일일': 2264, '배구': 2265, '로써': 2266, '신데렐라': 2267, '연지': 2268, '미리': 2269, '크리': 2270, '동하': 2271, '가난': 2272, '가상현실': 2273, '군상': 2274, '모범생': 2275, '던': 2276, '지아': 2277, '수련': 2278, '밀다': 2279, '커피': 2280, '전세계': 2281, '뽑다': 2282, '허구': 2283, '자극': 2284, '마르다': 2285, '병기': 2286, '림': 2287, '왠지': 2288, '잡고': 2289, '면접': 2290, '전화': 2291, '중고': 2292, '어플': 2293, '격투기': 2294, '남사': 2295, '이라도': 2296, '소망': 2297, '유쾌': 2298, '새봄': 2299, '여사': 2300, '즐거움': 2301, '웃음': 2302, '의뢰': 2303, '대들다': 2304, '후손': 2305, '자각몽': 2306, '섬뜩하다': 2307, '은퇴': 2308, '제자': 2309, '기준': 2310, '광해군': 2311, '삼다': 2312, '나무': 2313, '테': 2314, '접근': 2315, '망나니': 2316, '드': 2317, '상담': 2318, '증후군': 2319, '으로써': 2320, '레온': 2321, '살벌하다': 2322, '소재': 2323, '로만': 2324, '공식': 2325, '축제': 2326, '분명': 2327, '덕분': 2328, '상대로': 2329, '증': 2330, '촌': 2331, '강력하다': 2332, '변호사': 2333, '감시': 2334, '치킨': 2335, '컨텐츠': 2336, '루키': 2337, '애매하다': 2338, '비치다': 2339, '현생': 2340, '선우': 2341, '길거리': 2342, '성별': 2343, '다난하다': 2344, '날다': 2345, '뛰어나다': 2346, '컬': 2347, '잡기': 2348, '감각': 2349, '느껴지다': 2350, '괴수': 2351, '까지는': 2352, '청': 2353, '내려가다': 2354, '지원': 2355, '시점': 2356, '지은': 2357, '얘': 2358, '그만': 2359, '하이퍼': 2360, '돕다': 2361, '냄새': 2362, '약속': 2363, '버라이어티': 2364, '비록': 2365, '실패': 2366, '톱스타': 2367, '무뚝뚝하다': 2368, '다시다': 2369, '가치': 2370, '따스하다': 2371, '깨우다': 2372, '황궁': 2373, '세자': 2374, '조차': 2375, '쇼': 2376, '등급': 2377, '은호': 2378, '연구': 2379, '파멸': 2380, '부리다': 2381, '택배': 2382, '외한': 2383, '방이': 2384, '설명': 2385, '남동생': 2386, '티': 2387, '딱': 2388, '노하우': 2389, '등대': 2390, '롭고': 2391, '친하다': 2392, '결말': 2393, '남고생': 2394, '곳곳': 2395, '잠깐': 2396, '아무리': 2397, '벗다': 2398, '독립': 2399, '육': 2400, '시스템': 2401, '낙원': 2402, '비슷하다': 2403, '역할': 2404, '황자': 2405, '구르다': 2406, '돌다': 2407, '제로': 2408, '더하다': 2409, '치기': 2410, '복숭아': 2411, '민희': 2412, '어느새다': 2413, '저지르다': 2414, '피아노': 2415, '내면': 2416, '강호': 2417, '괴생명체': 2418, '갱생': 2419, '제주도': 2420, '근무': 2421, '흔들다': 2422, '직진': 2423, '일어나고': 2424, '감독': 2425, '복': 2426, '혼': 2427, '하연': 2428, '겨우': 2429, '한강': 2430, '신기': 2431, '피해자': 2432, '하랑': 2433, '버그': 2434, '크게': 2435, '더미': 2436, '하고도': 2437, '불허': 2438, '길고양이': 2439, '연쇄살인': 2440, '주목': 2441, '차기작': 2442, '양성': 2443, '폭발': 2444, '실': 2445, '홍혜': 2446, '화이트': 2447, '잠입': 2448, '현세': 2449, '은주': 2450, '온달': 2451, '고용': 2452, '균형': 2453, '조수': 2454, '소통': 2455, '주원': 2456, '오지': 2457, '각양각색': 2458, '거짓': 2459, '뒷': 2460, '정복': 2461, '느리다': 2462, '진단': 2463, '일반': 2464, '푸다': 2465, '허무하다': 2466, '돌': 2467, '힙합': 2468, '체력': 2469, '지니': 2470, '세워지다': 2471, '까칠하다': 2472, '골': 2473, '행방': 2474, '복판': 2475, '올라가다': 2476, '직면': 2477, '쉽다': 2478, '맑은': 2479, '짓다': 2480, '꼴': 2481, '인식': 2482, '푸른': 2483, '외치다': 2484, '한적하다': 2485, '명령': 2486, '특수하다': 2487, '스트릿': 2488, '디자이너': 2489, '틈': 2490, '오염': 2491, '그릇': 2492, '느와르': 2493, '시시콜콜하다': 2494, '탐정': 2495, '스파이': 2496, '디': 2497, '수현': 2498, '견디다': 2499, '텃밭': 2500, '망가지다': 2501, '부가': 2502, '서투르다': 2503, '유학': 2504, '임금': 2505, '틀어지다': 2506, '각각': 2507, '이두호': 2508, '재다': 2509, '아깝다': 2510, '안녕하다': 2511, '게으르다': 2512, '지인': 2513, '람사': 2514, '주로': 2515, '일부': 2516, '커다랗다': 2517, '충만': 2518, '나뉘다': 2519, '소년만화': 2520, '수아': 2521, '대전': 2522, '캐다': 2523, '익명': 2524, '가두다': 2525, '제나': 2526, '비서': 2527, '흔들리다': 2528, '스무살': 2529, '핑크': 2530, '바르다': 2531, '출근': 2532, '반려견': 2533, '구해': 2534, '낼': 2535, '결': 2536, '미소녀': 2537, '참여': 2538, '빨다': 2539, '빽': 2540, '폐인': 2541, '해골': 2542, '인조': 2543, '쉬': 2544, '황당': 2545, '삼촌': 2546, '필사': 2547, '오히려': 2548, '결과': 2549, '불쾌하다': 2550, '예상': 2551, '지언': 2552, '무공': 2553, '교통사고': 2554, '짜릿하다': 2555, '무명': 2556, '여배우': 2557, '주말': 2558, '비로소': 2559, '빌리다': 2560, '떠돌이': 2561, '팩션': 2562, '낯설다': 2563, '글로벌': 2564, '적당하다': 2565, '보다도': 2566, '흡혈귀': 2567, '절정': 2568, '소개팅': 2569, '방출': 2570, '몽': 2571, '참다': 2572, '꺼내다': 2573, '메시지': 2574, '천국': 2575, '군림': 2576, '엉뚱': 2577, '우여곡절': 2578, '귀찮다': 2579, '역시': 2580, '전남친': 2581, '록': 2582, '공포증': 2583, '인도': 2584, '영상': 2585, '노을': 2586, '헤매다': 2587, '걱정': 2588, '질풍': 2589, '스마트폰': 2590, '와중': 2591, '다가가다': 2592, '피폐': 2593, '룸메이트': 2594, '뱀': 2595, '애정': 2596, '기억나다': 2597, '가기': 2598, '기념': 2599, '절친': 2600, '국가대표': 2601, '중이': 2602, '잘나가다': 2603, '결혼식': 2604, '찬란하다': 2605, '금은': 2606, '슬픔': 2607, '선정': 2608, '데이트': 2609, '비밀리': 2610, '우울하다': 2611, '찰나': 2612, '예비': 2613, '늑대인간': 2614, '자랑': 2615, '산신': 2616, '혜': 2617, '고삼': 2618, '하윤': 2619, '계략': 2620, '하자': 2621, '만지다': 2622, '너희': 2623, '본능': 2624, '감옥': 2625, '고프다': 2626, '상경': 2627, '독신': 2628, '후배': 2629, '뽀짝': 2630, '품': 2631, '오른': 2632, '만날': 2633, '빈': 2634, '가을': 2635, '창': 2636, '갖추다': 2637, '대판': 2638, '철수': 2639, '언젠가': 2640, '육성': 2641, '신비': 2642, '오컬트': 2643, '아수라': 2644, '치명': 2645, '스킬': 2646, '잔인하다': 2647, '업': 2648, '부작': 2649, '자르다': 2650, '설상가상': 2651, '과도': 2652, '애증': 2653, '칭하': 2654, '매우': 2655, '베스트': 2656, '아리': 2657, '차례': 2658, '유전자': 2659, '스며들다': 2660, '강요': 2661, '호텔': 2662, '웃기다': 2663, '여운': 2664, '민주': 2665, '해피엔딩': 2666, '반지': 2667, '열쇠': 2668, '가해자': 2669, '슈퍼히어로': 2670, '반란': 2671, '로판': 2672, '비다': 2673, '유성': 2674, '속마음': 2675, '어떻': 2676, '엘프': 2677, '이방인': 2678, '공기': 2679, '증거': 2680, '현태': 2681, '해드리다': 2682, '우리나라': 2683, '산이': 2684, '미치광이': 2685, '시각': 2686, '시집': 2687, '창궐': 2688, '진과': 2689, '해원': 2690, '한국인': 2691, '닥치다': 2692, '대통령': 2693, '매니저': 2694, '닉': 2695, '구성': 2696, '이솝': 2697, '바닥': 2698, '편지': 2699, '현상': 2700, '사탄': 2701, '나래': 2702, '프리랜서': 2703, '제임스': 2704, '보': 2705, '나름': 2706, '누군지': 2707, '작전': 2708, '그대': 2709, '제거': 2710, '승자': 2711, '희영': 2712, '반려': 2713, '빼다': 2714, '창조': 2715, '흘리다': 2716, '사라': 2717, '싸가지': 2718, '하제': 2719, '강사': 2720, '구출': 2721, '후궁': 2722, '애틋하다': 2723, '오랫동안': 2724, '표현': 2725, '하든': 2726, '약간': 2727, '옛날': 2728, '멀리': 2729, '수의': 2730, '도래': 2731, '얼다': 2732, '생물': 2733, '메일': 2734, '심다': 2735, '지극히': 2736, '눈썹': 2737, '보호자': 2738, '든지': 2739, '모순': 2740, '두리안': 2741, '퇴사': 2742, '식구': 2743, '성인': 2744, '가정폭력': 2745, '나아가다': 2746, '클럽': 2747, '우울함': 2748, '자주': 2749, '태양계': 2750, '이탈': 2751, '일어난다': 2752, '재판관': 2753, '면서': 2754, '필연': 2755, '문지기': 2756, '오리': 2757, '부의': 2758, '공원': 2759, '뵙다': 2760, '또는': 2761, '오덕': 2762, '온도': 2763, '크리스탈': 2764, '레이': 2765, '하하': 2766, '로나': 2767, '이로': 2768, '제외': 2769, '다솜': 2770, '화의': 2771, '공녀': 2772, '이드': 2773, '지웅': 2774, '잊어버리다': 2775, '복수심': 2776, '헤일리': 2777, '인체실험': 2778, '용신': 2779, '리프': 2780, '탁구': 2781, '이순신': 2782, '동맹': 2783, '데리': 2784, '아직도': 2785, '버스': 2786, '지르다': 2787, '튀어나오다': 2788, '향수': 2789, '장려상': 2790, '나영': 2791, '한계': 2792, '죽지': 2793, '취해': 2794, '때마침': 2795, '돌연': 2796, '약점': 2797, '주짓수': 2798, '특성': 2799, '난데없이': 2800, '몸부림': 2801, '노랗다': 2802, '고려': 2803, '께': 2804, '카리스마': 2805, '강렬하다': 2806, '숨막히다': 2807, '오픈': 2808, '간식': 2809, '응': 2810, '이라곤': 2811, '메': 2812, '본의': 2813, '딛다': 2814, '박살': 2815, '귀가': 2816, '제이': 2817, '탐험': 2818, '해달라다': 2819, '달려가다': 2820, '비리': 2821, '빼앗다': 2822, '요구': 2823, '다크': 2824, '위태': 2825, '이어진': 2826, '약물': 2827, '레이디': 2828, '다미': 2829, '지나가다': 2830, '기숙': 2831, '띄다': 2832, '사단': 2833, '모자라다': 2834, '적히다': 2835, '유망': 2836, '사태': 2837, '모종': 2838, '존망': 2839, '괴한': 2840, '구조': 2841, '교': 2842, '투성이': 2843, '두근거리다': 2844, '피지': 2845, '간신히': 2846, '나리': 2847, '단순하다': 2848, '검사': 2849, '연합': 2850, '컷툰': 2851, '유럽': 2852, '초딩': 2853, '악녀': 2854, '만끽': 2855, '마네킹': 2856, '잘나다': 2857, '프로그램': 2858, '고객': 2859, '천방지축': 2860, '모음': 2861, '길이': 2862, '녹이다': 2863, '남장': 2864, '싱글': 2865, '대공': 2866, '건가': 2867, '유명': 2868, '순진하다': 2869, '미호': 2870, '팩트': 2871, '재림': 2872, '사제': 2873, '컴퍼니': 2874, '특수': 2875, '호두': 2876, '미묘하다': 2877, '돼지': 2878, '머리카락': 2879, '고요': 2880, '오라버니': 2881, '만년': 2882, '미모': 2883, '빌라': 2884, '그만두다': 2885, '무의미하다': 2886, '식이': 2887, '한순간': 2888, '동갑': 2889, '로맨스코미디': 2890, '화영': 2891, '진흥': 2892, '쟁탈전': 2893, '지수': 2894, '동물원': 2895, '해체': 2896, '히든': 2897, '지우': 2898, '랜드': 2899, '진출': 2900, '안나': 2901, '혹시': 2902, '오타쿠': 2903, '안녕': 2904, '만화책': 2905, '박다': 2906, '악귀': 2907, '확실하다': 2908, '해결사': 2909, '독고': 2910, '수진': 2911, '현이': 2912, '제압': 2913, '감당': 2914, '급기야': 2915, '인가요': 2916, '공상': 2917, '시크': 2918, '건강하다': 2919, '급격하다': 2920, '등장인물': 2921, '미나': 2922, '도박': 2923, '위험천만': 2924, '지도': 2925, '쏟아지다': 2926, '에스': 2927, '이리': 2928, '타임': 2929, '대기': 2930, '최종': 2931, '정호': 2932, '사사건건': 2933, '전개': 2934, '포함': 2935, '봉': 2936, '부캐': 2937, '에너지': 2938, '시원하다': 2939, '팔고': 2940, '정이': 2941, '증명': 2942, '에서만': 2943, '출시': 2944, '두뇌': 2945, '도서관': 2946, '희망이': 2947, '구멍': 2948, '잊혀지다': 2949, '하리': 2950, '먹방': 2951, '수록': 2952, '대하': 2953, '감다': 2954, '승부': 2955, '더럽다': 2956, '잔잔하다': 2957, '영은': 2958, '아람': 2959, '초원': 2960, '나디아': 2961, '질서': 2962, '공룡': 2963, '유독': 2964, '트럭': 2965, '다화': 2966, '의지': 2967, '튀기다': 2968, '유비': 2969, '유머': 2970, '최근': 2971, '철저하다': 2972, '복학생': 2973, '철부지': 2974, '착각': 2975, '낙천': 2976, '긍정': 2977, '전염병': 2978, '답답하다': 2979, '펫': 2980, '결코': 2981, '태우다': 2982, '호령': 2983, '문의': 2984, '윤': 2985, '라피': 2986, '헌': 2987, '책임지다': 2988, '여자애': 2989, '정아': 2990, '깜찍하다': 2991, '육식동물': 2992, '더욱': 2993, '성형': 2994, '특급': 2995, '계단': 2996, '세인': 2997, '이네': 2998, '깨달': 2999, '하진': 3000, '솔이': 3001, '붙이다': 3002, '여름방학': 3003, '늦다': 3004, '카메라': 3005, '사원': 3006, '그토록': 3007, '생각나다': 3008, '용사': 3009, '뜯다': 3010, '내려지다': 3011, '승무원': 3012, '신입사원': 3013, '학과': 3014, '선비': 3015, '유정': 3016, '본': 3017, '훈훈하다': 3018, '옥상': 3019, '정글': 3020, '광휘': 3021, '지속': 3022, '소음': 3023, '복기': 3024, '보라': 3025, '일단': 3026, '나머지': 3027, '방향': 3028, '초년': 3029, '게이트': 3030, '태은': 3031, '중반': 3032, '발버둥치다': 3033, '요물': 3034, '포인트': 3035, '대장': 3036, '펭귄': 3037, '풍경': 3038, '어떤': 3039, '강도': 3040, '선호': 3041, '자존심': 3042, '사리': 3043, '패밀리': 3044, '에요': 3045, '유튜브': 3046, '때론': 3047, '멸종': 3048, '길들이다': 3049, '발현': 3050, '애가': 3051, '돌기': 3052, '엑소시스트': 3053, '평온하다': 3054, '그러하다': 3055, '인격': 3056, '충돌': 3057, '흥': 3058, '쌍': 3059, '상상력': 3060, '지나': 3061, '물들다': 3062, '언뜻': 3063, '어디서': 3064, '반항': 3065, '까지도': 3066, '북한': 3067, '초등학교': 3068, '들여다보다': 3069, '먼치킨': 3070, '다빈': 3071, '정기': 3072, '고래': 3073, '죄송하다': 3074, '전통': 3075, '하숙집': 3076, '핑계': 3077, '사회생활': 3078, '초반': 3079, '잉여': 3080, '방학': 3081, '천계': 3082, '포텐업': 3083, '사항': 3084, '술사': 3085, '과일': 3086, '에덴': 3087, '에르': 3088, '농구부': 3089, '웃픈': 3090, '가짜': 3091, '행세': 3092, '파고들다': 3093, '헷갈리다': 3094, '고장': 3095, '고난': 3096, '포식자': 3097, '짝': 3098, '난생처음': 3099, '곤충': 3100, '카툰': 3101, '홀리': 3102, '어딘': 3103, '알바로': 3104, '술자리': 3105, '이안': 3106, '혼돈': 3107, '주지': 3108, '무술': 3109, '이라니': 3110, '견우': 3111, '직녀': 3112, '끝내다': 3113, '정해진': 3114, '실질': 3115, '정령': 3116, '악질': 3117, '소박하다': 3118, '고고': 3119, '폭로': 3120, '부상': 3121, '해변': 3122, '추격': 3123, '만인': 3124, '불가': 3125, '만두': 3126, '펜션': 3127, '몰리다': 3128, '거야': 3129, '여중생': 3130, '자퇴': 3131, '딸기': 3132, '풀리다': 3133, '가르다': 3134, '거슬리다': 3135, '용의자': 3136, '호구': 3137, '둥이': 3138, '한없이': 3139, '좌절': 3140, '성기사': 3141, '전역': 3142, '원한': 3143, '챔피언': 3144, '소로': 3145, '전달': 3146, '워': 3147, '각시': 3148, '라며': 3149, '성의': 3150, '전문가': 3151, '전원': 3152, '통보': 3153, '집중': 3154, '날로': 3155, '구애': 3156, '모자': 3157, '고맙다': 3158, '노트': 3159, '급식': 3160, '질주': 3161, '수상': 3162, '초록': 3163, '기타': 3164, '상관없다': 3165, '이대로': 3166, '안경': 3167, '민지': 3168, '무작정': 3169, '룸메': 3170, '나무꾼': 3171, '늙다': 3172, '쓰기': 3173, '꽃집': 3174, '지안': 3175, '뿌리': 3176, '심각하다': 3177, '사수': 3178, '날아오다': 3179, '며칠': 3180, '기획': 3181, '죄책감': 3182, '공시생': 3183, '이유신': 3184, '동이': 3185, '광활하다': 3186, '떨리다': 3187, '소외': 3188, '교수': 3189, '재수생': 3190, '마감': 3191, '현직': 3192, '삼류': 3193, '이니까': 3194, '피어': 3195, '처지': 3196, '스쿨': 3197, '완벽': 3198, '수면': 3199, '함정': 3200, '업자': 3201, '카드': 3202, '찍다': 3203, '반갑다': 3204, '여친': 3205, '서리': 3206, '응원': 3207, '기괴하다': 3208, '종': 3209, '정규직': 3210, '피부': 3211, '달빛': 3212, '붙잡다': 3213, '다스리다': 3214, '가져오다': 3215, '분위기': 3216, '마야': 3217, '고스트': 3218, '이무기': 3219, '일생': 3220, '유행': 3221, '말로': 3222, '이레': 3223, '루크': 3224, '셋': 3225, '부원': 3226, '하일권': 3227, '지루하다': 3228, '쟁취': 3229, '꽤': 3230, '리스트': 3231, '웹': 3232, '체인지': 3233, '잔혹': 3234, '빵': 3235, '빵집': 3236, '외동딸': 3237, '화백': 3238, '서도': 3239, '버전': 3240, '정반대': 3241, '사이코패스': 3242, '단골': 3243, '회차': 3244, '선화': 3245, '전담': 3246, '엉': 3247, '겁결': 3248, '통일': 3249, '부서지다': 3250, '천마': 3251, '만렙': 3252, '물론': 3253, '뒤틀리다': 3254, '하드코어': 3255, '일수': 3256, '상금': 3257, '메이크업': 3258, '처참하다': 3259, '두번째': 3260, '소신': 3261, '이민': 3262, '먹이다': 3263, '후반': 3264, '연맹': 3265, '팔다': 3266, '당시': 3267, '용왕': 3268, '아무렇다': 3269, '도로': 3270, '건설': 3271, '마르': 3272, '광': 3273, '인턴': 3274, '대리': 3275, '일만': 3276, '밀실': 3277, '지현': 3278, '방과': 3279, '이모': 3280, '아끼다': 3281, '일제강점기': 3282, '애쓰다': 3283, '들끓다': 3284, '상단': 3285, '유별': 3286, '사명': 3287, '은혜': 3288, '간호사': 3289, '편집': 3290, '건드리다': 3291, '안내': 3292, '에이스': 3293, '자라나다': 3294, '동해': 3295, '숲속': 3296, '영문': 3297, '과학자': 3298, '나은': 3299, '스토커': 3300, '우리네': 3301, '사막': 3302, '뉴': 3303, '인성': 3304, '시끌벅적': 3305, '은지는': 3306, '단짝': 3307, '설계': 3308, '윤서': 3309, '쏘다': 3310, '오로지': 3311, '수지': 3312, '놀림': 3313, '고아': 3314, '백조': 3315, '줄거리': 3316, '대화': 3317, '부당하다': 3318, '쳐다보다': 3319, '영매': 3320, '성결': 3321, '이웃집': 3322, '갈망': 3323, '규모': 3324, '보물': 3325, '영화': 3326, '아가': 3327, '별거': 3328, '실마리': 3329, '한때': 3330, '추락': 3331, '협력': 3332, '지역': 3333, '약초': 3334, '선천': 3335, '지긋지긋하다': 3336, '망자': 3337, '필': 3338, '삭막하다': 3339, '올해': 3340, '폭풍': 3341, '필터': 3342, '개다': 3343, '누르다': 3344, '삼키다': 3345, '장미': 3346, '태현': 3347, '시연': 3348, '질투': 3349, '뻔하다': 3350, '입양': 3351, '화재': 3352, '아이템': 3353, '마고': 3354, '체험': 3355, '물의': 3356, '별명': 3357, '하렘': 3358, '토토': 3359, '이계': 3360, '휴': 3361, '베트남': 3362, '비행기': 3363, '제인': 3364, '시대극': 3365, '극한': 3366, '설마': 3367, '미워하다': 3368, '주장': 3369, '흩날리다': 3370, '호위': 3371, '부와': 3372, '분들': 3373, '강하': 3374, '고기': 3375, '블루': 3376, '되살리다': 3377, '헬': 3378, '비교': 3379, '희생': 3380, '뚫리다': 3381, '비앙카': 3382, '튜토리얼': 3383, '크리스마스': 3384, '테러리스트': 3385, '전체': 3386, '초콜릿': 3387, '그려지다': 3388, '스티': 3389, '익숙하다': 3390, '이현': 3391, '수다': 3392, '야생': 3393, '수하': 3394, '명화': 3395, '용의': 3396, '리나': 3397, '충': 3398, '듀싱': 3399, '육식': 3400, '심해': 3401, '종일': 3402, '연속': 3403, '보안': 3404, 'ㅋㅋ': 3405, '난임': 3406, '배낭': 3407, '형식': 3408, '켜다': 3409, '패턴': 3410, '간격': 3411, '이명': 3412, '잔소리': 3413, '원희': 3414, '안주': 3415, '힘내다': 3416, '반짝반짝': 3417, '월화': 3418, '목금': 3419, '생산': 3420, '요리사': 3421, '떡볶이': 3422, '기행': 3423, '댄스': 3424, '거나': 3425, '맥주': 3426, '화로': 3427, '일로': 3428, '수의사': 3429, '바닷가': 3430, '수어': 3431, '발달': 3432, '조그만': 3433, '행방불명': 3434, '무작위': 3435, '메르': 3436, '히키': 3437, '초식': 3438, '하프': 3439, '생인': 3440, '비비': 3441, '치의': 3442, '애물': 3443, '이그리': 3444, '기점': 3445, '저작권': 3446, '여군': 3447, '트위터': 3448, '미노타우로스': 3449, '떠돌다': 3450, '레진코믹스': 3451, '수단': 3452, '어리석다': 3453, '상기': 3454, '컬러': 3455, '가까이': 3456, '한채영': 3457, '후시': 3458, '다임': 3459, '히키코모리': 3460, '포스': 3461, '모험가': 3462, '푸드': 3463, '유빈': 3464, '신하': 3465, '준휘': 3466, '이정하': 3467, '돌이키다': 3468, '정문': 3469, '미이라': 3470, '옆반': 3471, '닭': 3472, '속세': 3473, '미루다': 3474, '어째': 3475, '서기': 3476, '백설': 3477, '망각': 3478, '시나': 3479, '서큐버스': 3480, '혜미': 3481, '격돌': 3482, '요기': 3483, '범고래': 3484, '상아': 3485, '수라': 3486, '후예': 3487, '상인': 3488, '폴라로이드': 3489, '포피': 3490, '만월': 3491, '포트': 3492, '열매': 3493, '새로이': 3494, '노비': 3495, '시합': 3496, '드리머': 3497, '프시케': 3498, '코른': 3499, '저항': 3500, '전송': 3501, '시력': 3502, '이어서': 3503, '몽마': 3504, '혼혈': 3505, '염라대왕': 3506, '가리키다': 3507, '상큼': 3508, '팅': 3509, '트로이': 3510, '성우': 3511, '모태': 3512, '월회': 3513, '파리스': 3514, '이세기': 3515, '치정': 3516, '유리구두': 3517, '비현실적': 3518, '제리': 3519, '해봤다': 3520, '범벅': 3521, '문어': 3522, '번호': 3523, '드리우다': 3524, '계정': 3525, '컴퓨터': 3526, '대만': 3527, '야근': 3528, '붕어빵': 3529, '무려': 3530, '당장': 3531, '치우다': 3532, '기대하다': 3533, '도령': 3534, '리더': 3535, '황금': 3536, '우등': 3537, '강시': 3538, '소동': 3539, '댕댕': 3540, '치가': 3541, '투자': 3542, '대박': 3543, '테러': 3544, '축하': 3545, '노랑': 3546, '파다': 3547, '라라': 3548, '격투': 3549, '한판': 3550, '자도': 3551, '농부': 3552, '날개': 3553, '하의': 3554, '박하': 3555, '수험생': 3556, '찍히다': 3557, '멘탈': 3558, '벼랑': 3559, '거두다': 3560, '연성': 3561, '엮이': 3562, '다모': 3563, '소이': 3564, '복귀': 3565, '단절': 3566, '맘대로': 3567, '채널': 3568, '가려진': 3569, '예부': 3570, '나노': 3571, '어긋나다': 3572, '경제': 3573, '굴': 3574, '무직': 3575, '군주': 3576, '왕궁': 3577, '종합': 3578, '사무실': 3579, '공짜': 3580, '그리기': 3581, '놀랍다': 3582, '외과': 3583, '혁': 3584, '산골': 3585, '파리': 3586, '외면': 3587, '비범하다': 3588, '세월': 3589, '다리': 3590, '하고프다': 3591, '장통': 3592, '또다른': 3593, '김선권': 3594, '고리': 3595, '피우다': 3596, '하원': 3597, '신념': 3598, '듀얼': 3599, '훼방': 3600, '핏빛': 3601, '어드벤처': 3602, '민호': 3603, '해방': 3604, '이식': 3605, '뽀뽀': 3606, '단서': 3607, '스릴': 3608, '보나파르트': 3609, '재판': 3610, '꼴통': 3611, '시티': 3612, '만큼은': 3613, '소매치기': 3614, '연애담': 3615, '꼬맹이': 3616, '꼰대': 3617, '재호': 3618, '천도': 3619, '꿀벌': 3620, '출현': 3621, '네크로맨서': 3622, '청각장애': 3623, '진창': 3624, '한자': 3625, '교내': 3626, '도망': 3627, '남아': 3628, '손길': 3629, '이슬': 3630, '도피': 3631, '묵묵하다': 3632, '부장': 3633, '어떠하다': 3634, '십년': 3635, '사생활': 3636, '엑스': 3637, '십': 3638, '외전': 3639, '기구': 3640, '화끈하다': 3641, '홀려': 3642, '전문의': 3643, '화제': 3644, '복권': 3645, '마등': 3646, '헤어': 3647, '출몰': 3648, '앞집': 3649, '경기': 3650, '끼리': 3651, '렛': 3652, '노곤': 3653, '장례': 3654, '대안': 3655, '사고뭉치': 3656, '가혹하다': 3657, '말기': 3658, '골목': 3659, '디자인': 3660, '다이어리': 3661, '스트레스': 3662, '이제야': 3663, '질병': 3664, '끝없다': 3665, '앞길': 3666, '다가': 3667, '명랑하다': 3668, '인구': 3669, '존잘': 3670, '남고': 3671, '낮다': 3672, '해수': 3673, '내내': 3674, '윈도': 3675, '스마트': 3676, '그립다': 3677, '조향사': 3678, '수습': 3679, '덜컥': 3680, '찾아보다': 3681, '똥': 3682, '마피아': 3683, '재앙': 3684, '공생': 3685, '반대편': 3686, '보석': 3687, '자연': 3688, '전래': 3689, '잭': 3690, '정오': 3691, '신영': 3692, '시끌벅적하다': 3693, '걸그룹': 3694, '얼': 3695, '법정': 3696, '가은': 3697, '어쨌든': 3698, '잠기다': 3699, '챙기다': 3700, '분홍': 3701, '만치': 3702, '광기': 3703, '일화': 3704, '별일': 3705, '기사단': 3706, '정통': 3707, '선고': 3708, '불꽃': 3709, 'ㅇㅇ': 3710, '피로': 3711, '일밤': 3712, '도현': 3713, '여자아이': 3714, '성훈': 3715, '조카': 3716, '무자비하다': 3717, '부잣집': 3718, '베스': 3719, '한국어': 3720, '코기': 3721, '강우': 3722, '코드': 3723, '주주': 3724, '디스토피아': 3725, '합류': 3726, '연예인': 3727, '지위': 3728, '명성': 3729, '악인': 3730, '데려가다': 3731, '인사': 3732, '이러하다': 3733, '소시민': 3734, '리건': 3735, '사후세계': 3736, '귀환': 3737, '맛집': 3738, '자각': 3739, '한여름': 3740, '서사시': 3741, '계란': 3742, '건지다': 3743, '가만히': 3744, '주희': 3745, '죠': 3746, '묵다': 3747, '신고': 3748, '보유': 3749, '멸문': 3750, '젠': 3751, '사상': 3752, '탐구': 3753, '이준': 3754, '무의식': 3755, '조석': 3756, '넓다': 3757, '단체': 3758, '벌레': 3759, '레': 3760, '완전': 3761, '임시': 3762, '삐뚤어지다': 3763, '밀당': 3764, '독': 3765, '밑바닥': 3766, '찌': 3767, '다난': 3768, '필요': 3769, '초토화': 3770, '예요': 3771, '라인': 3772, '시끄럽다': 3773, '당일': 3774, '보아': 3775, '르': 3776, '세계대전': 3777, '김지': 3778, '유저': 3779, '삭제': 3780, '뚝뚝': 3781, '고양': 3782, '현아': 3783, '도도': 3784, '야수': 3785, '째다': 3786, '한데': 3787, '플루': 3788, '다비': 3789, '촌스럽다': 3790, '원룸': 3791, '뉴스': 3792, '든든하다': 3793, '시비': 3794, '주먹': 3795, '이여': 3796, '따윈': 3797, '쿠데타': 3798, '씌': 3799, '평양': 3800, '애인': 3801, '시온': 3802, '수학여행': 3803, '병호': 3804, '욕심': 3805, '자제': 3806, '규칙': 3807, '생명력': 3808, '어벤저스': 3809, '레드': 3810, '맞선': 3811, '한가운데': 3812, '스캔들': 3813, '조종': 3814, '옆방': 3815, '분노하다': 3816, '인간성': 3817, '수채화': 3818, '평강': 3819, '농촌': 3820, '험담': 3821, '핫': 3822, '불쑥': 3823, '내버리다': 3824, '유배': 3825, '킥': 3826, '아홉수': 3827, '봉우리': 3828, '김신': 3829, '사형': 3830, '발령': 3831, '조조': 3832, '빨르다': 3833, '상부': 3834, '지도자': 3835, '탱': 3836, '나이트': 3837, '올': 3838, '성경': 3839, '침공': 3840, '철학': 3841, '일방': 3842, '난무': 3843, '건우': 3844, '부정': 3845, '소위': 3846, '시도': 3847, '약체': 3848, '암흑': 3849, '팔레트': 3850, '망설이다': 3851, '얼마나': 3852, '가치관': 3853, '고작': 3854, '형편': 3855, '겸': 3856, '슈퍼스타': 3857, '성과': 3858, '현도': 3859, '파탄': 3860, '접다': 3861, '스파이더맨': 3862, '평행우주': 3863, '스퍼맨': 3864, '낭만': 3865, '우주선': 3866, '사육': 3867, '실버': 3868, '스트리머': 3869, '마스크': 3870, '자락': 3871, '고뇌': 3872, '끊기다': 3873, '해치다': 3874, '니아': 3875, '최선': 3876, '인준': 3877, '들려오다': 3878, '사로잡히다': 3879, '분열': 3880, '정치': 3881, '헨리': 3882, '아일랜드': 3883, '마력': 3884, '우와': 3885, '아랫': 3886, '마니아': 3887, '팔이': 3888, '뮤지션': 3889, '포장': 3890, '소행': 3891, '약하다': 3892, '유일신': 3893, '세포': 3894, '산들': 3895, '숙적': 3896, '관상': 3897, '마치다': 3898, '도마뱀': 3899, '전과자': 3900, '물어': 3901, '관장': 3902, '월간': 3903, '경이': 3904, '하나로': 3905, '강태': 3906, '굉장하다': 3907, '성찬': 3908, '핵': 3909, '시드': 3910, '어드벤쳐': 3911, '파릇파릇': 3912, '큐피드': 3913, '용수': 3914, '그치다': 3915, '수백': 3916, '조심하다': 3917, '명인': 3918, '오징어': 3919, '박물관': 3920, '굴레': 3921, '데려오다': 3922, '단어': 3923, '후기': 3924, '시민': 3925, '뒷산': 3926, '돌아보다': 3927, '장애인': 3928, '코넬': 3929, '에어': 3930, '현원': 3931, '침범': 3932, '교환': 3933, '거의': 3934, '녹색': 3935, '라이벌': 3936, '뚝': 3937, '훈남': 3938, '첩': 3939, '코치': 3940, '어린이': 3941, '유라': 3942, '문신': 3943, '헤엄': 3944, '초아': 3945, '바다로': 3946, '한글': 3947, '줄타기': 3948, '리그': 3949, '노동자': 3950, '보장': 3951, '장의사': 3952, '짱': 3953, '인상': 3954, '끌다': 3955, '정년': 3956, '걸어가다': 3957, '넣기': 3958, '한양': 3959, '광고': 3960, '코믹스': 3961, '클릭': 3962, '대감': 3963, '짝남': 3964, '좀처럼': 3965, '윤회': 3966, '밝혀내다': 3967, '레비': 3968, '버튼': 3969, '전공': 3970, '밖에도': 3971, '안전하다': 3972, '일자리': 3973, '미우다': 3974, '진진': 3975, '특수부대': 3976, '윤지': 3977, '부임': 3978, '찬란': 3979, '폐부': 3980, '그남자': 3981, '속박': 3982, '체스': 3983, '잠자다': 3984, '군생활': 3985, '자발': 3986, '폰': 3987, '몰락': 3988, '여관': 3989, '거북이': 3990, '유나': 3991, '월드': 3992, '업계': 3993, '휩싸이다': 3994, '양궁': 3995, '한반도': 3996, '황폐': 3997, '해동': 3998, '주술': 3999, '천재소년': 4000, '구경': 4001, '폭주': 4002, '파도': 4003, '지훈': 4004, '사극': 4005, '사이즈': 4006, '팬시': 4007, '도토리': 4008, '영감': 4009, '탐욕': 4010, '인과': 4011, '유년': 4012, '주기도': 4013, '해석': 4014, '하남': 4015, '잡지': 4016, '일반인': 4017, '생사': 4018, '도달': 4019, '교환학생': 4020, '영생': 4021, '궁궐': 4022, '거장': 4023, '연못': 4024, '해귀': 4025, '물러나다': 4026, '다툼': 4027, '바디': 4028, '왕조': 4029, '지금껏': 4030, '갑사': 4031, '탐방': 4032, '원귀': 4033, '이내': 4034, '홍대': 4035, '홍천': 4036, '설킨': 4037, '수만': 4038, '이미지': 4039, '전자': 4040, '까지만': 4041, '후작': 4042, '헨': 4043, '주가': 4044, '자현': 4045, '소루': 4046, '장기': 4047, '클래시': 4048, '동일하다': 4049, '고이': 4050, '강현수': 4051, '타입': 4052, '연결하다': 4053, '개미': 4054, '감싸다': 4055, '이전': 4056, '초자연적': 4057, '빠져나가다': 4058, '질문': 4059, '초보자': 4060, 'ㅎㅎ': 4061, '고라니': 4062, '기독교': 4063, '에세이': 4064, '우울': 4065, '보조': 4066, '년생': 4067, '공단': 4068, '쌉쌀하다': 4069, '가미': 4070, '설다': 4071, '귀농': 4072, '단계': 4073, '공사': 4074, '부담': 4075, '여서': 4076, '주간': 4077, '방귀': 4078, '우현': 4079, '비만': 4080, '은근': 4081, '테이': 4082, '고단': 4083, '이런저런': 4084, '스런': 4085, '보다는': 4086, '진행중': 4087, '네모': 4088, '떠나가다': 4089, '늘어나다': 4090, '스쿨라이프': 4091, '줄곧': 4092, '각색': 4093, '옥토끼': 4094, '주리': 4095, '도화': 4096, '하수': 4097, '대세': 4098, '그리스': 4099, '천상': 4100, '사무소': 4101, '포탈': 4102, '맞춤': 4103, '황무지': 4104, '서고': 4105, '태초': 4106, '모시다': 4107, '블': 4108, '유토피아': 4109, '불안': 4110, '처용': 4111, '저희': 4112, '그렉': 4113, '지난날': 4114, '학창시절': 4115, '미궁': 4116, '흔': 4117, '걸어오다': 4118, '다름없이': 4119, '사이비': 4120, '소용돌이': 4121, '어색하다': 4122, '해킹': 4123, '행적': 4124, '캐': 4125, '악명': 4126, '도혁': 4127, '파이': 4128, '학대': 4129, '제물': 4130, '계시': 4131, '함부로': 4132, '생체': 4133, '뿌리다': 4134, '아이러니': 4135, '우비': 4136, '가입': 4137, '연락': 4138, '다자': 4139, '역대': 4140, '참새': 4141, '덮이다': 4142, '흉터': 4143, '특이점': 4144, '패배하다': 4145, '부럽다': 4146, '정점': 4147, '거꾸로': 4148, '아동': 4149, '수사극': 4150, '활용': 4151, '호감': 4152, '장악': 4153, '데스': 4154, '파란': 4155, '집다': 4156, '얼룩지다': 4157, '센스': 4158, '곱': 4159, '식탐': 4160, '복희': 4161, '연출': 4162, '으로의': 4163, '치닫다': 4164, '관종': 4165, '남지': 4166, '청산': 4167, '겨': 4168, '잖다': 4169, '사이좋다': 4170, '끈끈': 4171, '괴이': 4172, '맛보다': 4173, '부족': 4174, '오피스': 4175, '약혼': 4176, '순덕': 4177, '장례식': 4178, '자타공인': 4179, '긁다': 4180, '재현': 4181, '밀고': 4182, '쥐다': 4183, '편견': 4184, '달려들다': 4185, '내공': 4186, '해고': 4187, '시뮬레이션': 4188, '촬영': 4189, '말투': 4190, '채팅': 4191, '리얼리티': 4192, '물범': 4193, '신검': 4194, '밀리다': 4195, '검찰': 4196, '타겟': 4197, '성대': 4198, '소름': 4199, '제발': 4200, '일명': 4201, '순식간': 4202, '부하': 4203, '전락': 4204, '정리': 4205, '학업': 4206, '어르신': 4207, '진서': 4208, '불면증': 4209, '요소': 4210, '갖은': 4211, '멸시': 4212, '교의': 4213, '사생아': 4214, '익숙해지다': 4215, '친척': 4216, '잡귀': 4217, '휴학': 4218, '악착같이': 4219, '에게만': 4220, '재는': 4221, '갈수록': 4222, '페이지': 4223, '넘기다': 4224, '작아지다': 4225, '빠져나오다': 4226, '찾아다니다': 4227, '수십': 4228, '와도': 4229, '찬양': 4230, '기만': 4231, '솔직': 4232, '전의': 4233, '타락': 4234, '푹': 4235, '잠수': 4236, '이왕': 4237, '침대': 4238, '행위': 4239, '부인': 4240, '해주': 4241, '시궁창': 4242, '폭행': 4243, '리기': 4244, '발목': 4245, '베프': 4246, '원장': 4247, '의원': 4248, '다과': 4249, '독점': 4250, '가요': 4251, '프로레슬러': 4252, '출연': 4253, '복제': 4254, '노답': 4255, '태웅': 4256, '지도사': 4257, '재혼': 4258, '팔도': 4259, '매다': 4260, '만원': 4261, '줄다': 4262, '털다': 4263, '제야': 4264, '공학': 4265, '브로커': 4266, '전환': 4267, '깜빡': 4268, '폭': 4269, '살생': 4270, '불가능하다': 4271, '아무래도': 4272, '전형': 4273, '호의': 4274, '제조': 4275, '결성': 4276, '지하세계': 4277, '덴마': 4278, '사화': 4279, '수감': 4280, '무지': 4281, '주눅': 4282, '나락': 4283, '유주': 4284, '다시금': 4285, '연두': 4286, '필름': 4287, '표류': 4288, '용서': 4289, '뚫다': 4290, '영향': 4291, '새기다': 4292, '서연': 4293, '우수': 4294, '모녀': 4295, '좌천': 4296, '제패': 4297, '유아': 4298, '파트너': 4299, '유튜버': 4300, '수배': 4301, '정우': 4302, '부천': 4303, '풋내기': 4304, '하데스': 4305, '베일': 4306, '극단': 4307, '댁': 4308, '아기자기하다': 4309, '무법': 4310, '이뤄지다': 4311, '마냥': 4312, '건의': 4313, '선임': 4314, '아우르다': 4315, '노소': 4316, '비운': 4317, '테라': 4318, '마스': 4319, '장이': 4320, '끝내주다': 4321, '라피스': 4322, '오라': 4323, '우영': 4324, '욱': 4325, '윤인완': 4326, '이말년': 4327, '최훈': 4328, '겉보기': 4329, '익히다': 4330, '샌프란시스코': 4331, '스케일': 4332, '넘어오다': 4333, '모기': 4334, '금방': 4335, '소유': 4336, '오기': 4337, '티아': 4338, '성향': 4339, '예고': 4340, '추': 4341, '세간': 4342, '평정하다': 4343, '나루': 4344, '발레': 4345, '할미': 4346, '실시간': 4347, '몰락하다': 4348, '줄기': 4349, '호주': 4350, '정착': 4351, '역': 4352, '고개': 4353, '게스트': 4354, '흑막': 4355, '꼬리': 4356, '만으론': 4357, '이기도': 4358, '태인': 4359, '축': 4360, '정예': 4361, '출처': 4362, '쓴다': 4363, '낚시': 4364, '루시': 4365, '흑': 4366, '셰프': 4367, '연금술사': 4368, '주님': 4369, '부터의': 4370, '웅': 4371, '이중생활': 4372, '우린': 4373, '황미나': 4374, '작화': 4375, '뒤로': 4376, '트럼프': 4377, '대중': 4378, '널리': 4379, '보급': 4380, '제시': 4381, '번지': 4382, '골짜기': 4383, '도우': 4384, '설립': 4385, '블랙홀': 4386, '이블': 4387, '고독': 4388, '물다': 4389, '인광': 4390, '작정': 4391, '덕의': 4392, '긴박하다': 4393, '역전': 4394, '물감': 4395, '약국': 4396, '정확하다': 4397, '건데': 4398, '신관': 4399, '만으로': 4400, '렉카': 4401, '배려': 4402, '튜브': 4403, '안은수': 4404, '사서': 4405, '땅콩': 4406, '중년': 4407, '외로움': 4408, '은지': 4409, '압박': 4410, '상위': 4411, '유언': 4412, '고대': 4413, '정해지다': 4414, '샹치': 4415, '힘겹다': 4416, '안다': 4417, '메인': 4418, '끈질기다': 4419, '합의': 4420, '옥황상제': 4421, '반응': 4422, '마코토': 4423, '원치않다': 4424, '미애': 4425, '자본': 4426, '모란': 4427, '따라다니다': 4428, '넘어지다': 4429, '도쿄': 4430, '로그': 4431, '부산': 4432, '꿇다': 4433, '정지훈': 4434, '수학': 4435, '입학식': 4436, '트리오': 4437, '생생하다': 4438, '줄어들다': 4439, '스터디': 4440, '피터': 4441, '민망하다': 4442, '현자': 4443, '싱글맘': 4444, '권유': 4445, '식인': 4446, '먹잇감': 4447, '가람': 4448, '뮤즈': 4449, '떼다': 4450, '주의자': 4451, '사기꾼': 4452, '친절하다': 4453, '존경': 4454, '심심하다': 4455, '싸이코': 4456, '끈': 4457, '눈빛': 4458, '특선': 4459, '자재': 4460, '영지': 4461, '영주': 4462, '다만': 4463, '엮이면': 4464, '긴장감': 4465, '사이비종교': 4466, '레이어': 4467, '기쁘다': 4468, '성실하다': 4469, '서우': 4470, '누리다': 4471, '일간': 4472, '걸치다': 4473, '로이': 4474, '불시': 4475, '접촉': 4476, '배후': 4477, '고전': 4478, '아미': 4479, '노블레스': 4480, '렙': 4481, '도둑질': 4482, '앙': 4483, '비행': 4484, '앉다': 4485, '헬스장': 4486, '무료': 4487, '서스펜스': 4488, '미녀': 4489, '사로자다': 4490, '기발하다': 4491, '여리다': 4492, '감지': 4493, '꽃길': 4494, '무시무시하다': 4495, '김진': 4496, '사채': 4497, '비디오': 4498, '해커': 4499, '정략': 4500, '준혁': 4501, '괴': 4502, '성숙하다': 4503, '부여': 4504, '금동': 4505, '탕카': 4506, '만세': 4507, '우주인': 4508, '불타다': 4509, '레스토랑': 4510, '빙자': 4511, '깎다': 4512, '악기': 4513, '라떼': 4514, '아란': 4515, '기절': 4516, '쇼핑몰': 4517, '타워': 4518, '발발하다': 4519, '메리': 4520, '띠': 4521, '일꾼': 4522, '코인': 4523, '앱': 4524, '타락하다': 4525, '무관': 4526, '디지털': 4527, '유준': 4528, '충분하다': 4529, '장님': 4530, '커녕': 4531, '요양원': 4532, '팔자': 4533, '대뜸': 4534, '터널': 4535, '영재': 4536, '내딛다': 4537, '카이': 4538, '세종': 4539, '특공대': 4540, '웰': 4541, '체계': 4542, '명예': 4543, '존': 4544, '버티고': 4545, '로움': 4546, '신생': 4547, '태양': 4548, '적월': 4549, '근원': 4550, '최대한': 4551, '링': 4552, '사방': 4553, '제페토': 4554, '신예': 4555, '악한': 4556, '모조리': 4557, '무감각': 4558, 'ㅡ': 4559, '다지': 4560, '일어나지': 4561, '인터뷰': 4562, '제대': 4563, '고고학': 4564, '변태': 4565, '진의': 4566, '화산': 4567, '바야흐로': 4568, '남몰래': 4569, '입성': 4570, '우의': 4571, '포근하다': 4572, '강의': 4573, '좁다': 4574, '고구려': 4575, '만점': 4576, '막연하다': 4577, '토니': 4578, '근처': 4579, '퓨전': 4580, '스케치': 4581, '학교폭력': 4582, '상진': 4583, '뉴욕': 4584, '셰어': 4585, '이기심': 4586, '모델': 4587, '펑크': 4588, '엘라': 4589, '이온': 4590, '갈림길': 4591, '목적지': 4592, '모여들다': 4593, '동고동락': 4594, '슈가': 4595, '과외': 4596, '코로나': 4597, '사관': 4598, '수컷': 4599, '옹주': 4600, '일찍': 4601, '호야': 4602, '우승': 4603, '계약서': 4604, '무결': 4605, '시기하다': 4606, '빠뜨리다': 4607, '연월': 4608, '마음먹다': 4609, '횡단보도': 4610, '립스틱': 4611, '프레이': 4612, '놀부': 4613, '필드': 4614, '돋다': 4615, '멀티': 4616, '플롯': 4617, '작업실': 4618, '불신': 4619, '등골': 4620, '무한': 4621, '비명': 4622, '택시': 4623, '집의': 4624, '뒹굴뒹굴': 4625, '빙글빙글': 4626, '악동': 4627, '팬아트': 4628, '무선': 4629, '보청기': 4630, '천천히': 4631, '버튜버': 4632, '댕': 4633, '도리': 4634, '연년생': 4635, '조합': 4636, '춘기': 4637, '과장': 4638, '어린시절': 4639, '망치': 4640, '다라': 4641, '미가': 4642, '인칭': 4643, '남원': 4644, '임유': 4645, '어시스턴트': 4646, '이태리': 4647, '짬뽕': 4648, '섞다': 4649, '페이스북': 4650, '벌써': 4651, '절반': 4652, '칠흑': 4653, '항해': 4654, '앵': 4655, '호가': 4656, '한결같다': 4657, '굳이': 4658, '누': 4659, '지식': 4660, '말씨': 4661, '퇴직': 4662, '흩어지다': 4663, '동남아': 4664, '이호': 4665, '샤샤': 4666, '가장이': 4667, '진행형': 4668, '의대': 4669, '김우주': 4670, '수달': 4671, '햄스터': 4672, '때때로': 4673, '색깔': 4674, '엘리베이터': 4675, '펴다': 4676, '퐁당': 4677, '미니': 4678, '야간': 4679, '기와': 4680, '토리': 4681, '애니메이션': 4682, '의인화': 4683, '소율': 4684, '구나': 4685, '순도': 4686, '박해': 4687, '겹': 4688, '햄': 4689, '이강우': 4690, '보편': 4691, '롤': 4692, '어언': 4693, '입문': 4694, '똑': 4695, '자기혐오': 4696, 'ㅅ': 4697, '분전': 4698, '왈': 4699, '가닥': 4700, '유다': 4701, '생으로': 4702, '사후': 4703, '까마귀': 4704, '살림': 4705, '그걸': 4706, '체육': 4707, '성취': 4708, '부실': 4709, '주혁': 4710, '천진': 4711, '뒹굴': 4712, '혜원': 4713, '출판사': 4714, '언어': 4715, '장려': 4716, '의무': 4717, '과목': 4718, '지근': 4719, '유기농': 4720, '평': 4721, '행복찾기': 4722, '이모티콘': 4723, '특기': 4724, '오스트리아': 4725, '뻗다': 4726, '괴로움': 4727, '편도': 4728, '다현': 4729, '별주부전': 4730, '라이더': 4731, '코스': 4732, '통장': 4733, '작곡': 4734, '깨알': 4735, '레시피': 4736, '투': 4737, '외진': 4738, '아름': 4739, '중고품': 4740, '베이커리': 4741, '스프': 4742, '버섯': 4743, '양지': 4744, '미미하다': 4745, '북유럽': 4746, '말랑하다': 4747, '보시': 4748, '무쇠': 4749, '월목': 4750, '자존감': 4751, '간호': 4752, '동동': 4753, '긍지': 4754, '부족함': 4755, '만행': 4756, '적당': 4757, '악필': 4758, '공장': 4759, '동성애자': 4760, '차고': 4761, '팡': 4762, '토바': 4763, '업댓': 4764, '오시': 4765, '의욕': 4766, '치과': 4767, '어정쩡하다': 4768, '남생': 4769, '화인': 4770, '카레': 4771, '에의': 4772, '일편단심': 4773, '빈티': 4774, '신일': 4775, '혜연': 4776, '달랑': 4777, '방송인': 4778, '점심': 4779, '오글거리다': 4780, '승승장구': 4781, '시생': 4782, 'ㅏ': 4783, '목욕탕': 4784, '시국': 4785, '에서나': 4786, '부끄럽다': 4787, '기태': 4788, '공연': 4789, '임용고시': 4790, '잡일': 4791, '고달프다': 4792, '협업': 4793, '뮤직': 4794, '듣기': 4795, '깝': 4796, '김태희': 4797, '타나토스': 4798, '정감': 4799, '미학': 4800, '케미': 4801, '채은': 4802, '김단': 4803, '화병': 4804, '변질': 4805, '피땀': 4806, '유형': 4807, '크리스': 4808, '국뽕': 4809, '만연하다': 4810, '김치': 4811, '클리셰': 4812, '범람': 4813, '러브코미디': 4814, '아인': 4815, '그다지': 4816, '시원': 4817, '기피': 4818, '투시': 4819, '담백하다': 4820, '일렉트로닉': 4821, '비거': 4822, '운석': 4823, '플라즈마': 4824, '걸스': 4825, '레몬': 4826, '대우': 4827, '수석': 4828, '혜택': 4829, '호화롭다': 4830, '하늬': 4831, '닷': 4832, '한민': 4833, '클리': 4834, '슬': 4835, '수없이': 4836, '몹시': 4837, '부처': 4838, '본래': 4839, '얼짱': 4840, '한잔': 4841, '하듯': 4842, '멜로': 4843, '그늘': 4844, '폐해': 4845, '꼬밍': 4846, '흑백': 4847, '기차': 4848, '음력': 4849, '관리자': 4850, '헤드': 4851, '브로': 4852, '소돔': 4853, '촉법소년': 4854, '연명': 4855, '필요없다': 4856, '함장': 4857, '공감각': 4858, '날붙이': 4859, '다격': 4860, '라서': 4861, '쫓아오다': 4862, '티케': 4863, '김근우': 4864, '나이트메어': 4865, '드림캐처': 4866, '가능': 4867, '전투원': 4868, '금기': 4869, '어기': 4870, '엿': 4871, '라비': 4872, '절교': 4873, '얼음': 4874, '빙하': 4875, '터전': 4876, '우연이': 4877, '다한': 4878, '이데아': 4879, '흉': 4880, '흉하다': 4881, '협의': 4882, '파랗다': 4883, '명실': 4884, '윷놀이': 4885, '심상': 4886, '복점': 4887, '괴리감': 4888, '돈벌레': 4889, '대범': 4890, '영산': 4891, '똘끼': 4892, '크림슨': 4893, '크로스': 4894, '왕실': 4895, '군데': 4896, '신력': 4897, '화단': 4898, '파빌': 4899, '강국': 4900, '길가': 4901, '주족': 4902, '나현': 4903, '중간계': 4904, '셋째': 4905, '베': 4906, '제우스': 4907, '갱': 4908, '보증': 4909, '명훈': 4910, '초식동물': 4911, '괴팍하다': 4912, '판치다': 4913, '부조리하다': 4914, '무진': 4915, '무종': 4916, '음양사': 4917, '통치': 4918, '쓰레기통': 4919, '중요성': 4920, '그렇다고': 4921, '위태롭': 4922, '엘리': 4923, '빅토리아': 4924, '전해': 4925, '호기': 4926, '무용수': 4927, '죄업': 4928, '중생': 4929, '정소': 4930, '시간여행': 4931, '유령도시': 4932, '버프툰': 4933, '괴신': 4934, '라스': 4935, '기수': 4936, '여의주': 4937, '만이라도': 4938, '두리': 4939, '투지': 4940, '닥쳐오다': 4941, '신주': 4942, '소금물': 4943, '연금술': 4944, '레지스탕스': 4945, '보름달': 4946, '로키': 4947, '왜구': 4948, '고분': 4949, '언론': 4950, '시발': 4951, '끝내기': 4952, '미소': 4953, '로망스': 4954, '가인': 4955, '산타': 4956, '복작복작': 4957, '코스모스': 4958, '메카': 4959, '넷': 4960, '사형제': 4961, '시영': 4962, '우화': 4963, '내미다': 4964, '우렁이': 4965, '정귀': 4966, '티나': 4967, '비형랑': 4968, '학자': 4969, '룬룬': 4970, '어비스': 4971, '결합': 4972, '은빛': 4973, '줄줄이': 4974, '힌트': 4975, '자인': 4976, '핀': 4977, '즐': 4978, '유랑': 4979, '낫': 4980, '주술사': 4981, '궁극': 4982, '유희': 4983, '심판': 4984, '우도': 4985, '무법자': 4986, '미식축구': 4987, '박태균': 4988, '김지훈': 4989, '웨': 4990, '안면': 4991, '사물': 4992, '투리': 4993, '김태식': 4994, '바스': 4995, '켓볼': 4996, '서린': 4997, '숍': 4998, '흑인': 4999, '안이': 5000, '윤상': 5001, '여준': 5002, '도서실': 5003, '프로야구': 5004, '윤성': 5005, '동아시아': 5006, '파트리아': 5007, '폐가': 5008, '삼십': 5009, '복지': 5010, '정윤': 5011, '등록': 5012, '확': 5013, '진자': 5014, '유전': 5015, '형질': 5016, '유추': 5017, '따돌림': 5018, '에로스': 5019, '참가자': 5020, '집도': 5021, '차오르다': 5022, '무골': 5023, '진로': 5024, '아민': 5025, '우태': 5026, 'ㅜㅜ': 5027, '혜린': 5028, '슬아': 5029, '너저분하다': 5030, '미술가': 5031, '너무도': 5032, '디란': 5033, '실룩': 5034, '캠핑': 5035, '하디': 5036, '회색': 5037, '에서조차': 5038, '에픽': 5039, '귀속': 5040, '모브사': 5041, '명언': 5042, '유성우': 5043, '안심': 5044, '김재': 5045, '단둘': 5046, '여느': 5047, '무심하다': 5048, '당당하다': 5049, '플': 5050, '려고': 5051, '메세지': 5052, '고치다': 5053, '격정': 5054, '이득': 5055, '세르': 5056, '최우수상': 5057, '전기': 5058, '마침': 5059, '뭐라다': 5060, '출근길': 5061, '불현듯': 5062, '하이브': 5063, '프리퀄': 5064, '릴레이': 5065, '미끄러지다': 5066, '채용': 5067, '재효': 5068, '재우다': 5069, '한결': 5070, '거미': 5071, '거미줄': 5072, '성은': 5073, '클래스': 5074, '펑펑': 5075, '허용': 5076, '객관': 5077, '스타일': 5078, '서방': 5079, '명랑만화': 5080, '치매': 5081, '천진난만': 5082, '켄': 5083, '노루': 5084, '군산': 5085, '일대': 5086, '얀': 5087, '산신령': 5088, '외로워': 5089, '도망가다': 5090, '잡아먹히다': 5091, '밀려오다': 5092, '이색': 5093, '재산': 5094, '노잼': 5095, '일어서다': 5096, '마교': 5097, '학': 5098, '타임슬립': 5099, '서재': 5100, '양녀': 5101, '해나': 5102, '도희': 5103, '상민': 5104, '삼각': 5105, '강일': 5106, '일부러': 5107, '파국': 5108, '커뮤니티': 5109, '준영': 5110, '파격': 5111, '고발': 5112, '은인': 5113, '왕위': 5114, '국왕': 5115, '세이': 5116, '강자': 5117, '쥬드': 5118, '대학병원': 5119, '레지던트': 5120, '관통': 5121, '땐': 5122, '연약하다': 5123, '다큐': 5124, '에야': 5125, '곗': 5126, '바늘': 5127, '영향력': 5128, '후유증': 5129, '이중': 5130, '따라서': 5131, '버킷리스트': 5132, '우수하다': 5133, '밀착': 5134, '이랑': 5135, '물귀신': 5136, '라일락': 5137, '태진': 5138, '절체절명': 5139, '어젯밤': 5140, '폭설': 5141, '연구원': 5142, '판정': 5143, '암흑가': 5144, '후천': 5145, '클리어': 5146, '딸바보': 5147, '절벽': 5148, '끼치다': 5149, '예은': 5150, '태발': 5151, '싸인': 5152, '통째': 5153, '극장': 5154, '본적': 5155, '단태': 5156, '특수요원': 5157, '독학': 5158, '잇다': 5159, '강북': 5160, '교복': 5161, '숙소': 5162, '가까스로': 5163, '호연': 5164, '돌보다': 5165, '곤': 5166, '사이다': 5167, '화분': 5168, '우월하다': 5169, '톱': 5170, '어이없다': 5171, '극심하다': 5172, '너튜버': 5173, '진혁': 5174, '튜버': 5175, '마무리': 5176, '다지다': 5177, '천여': 5178, '머신': 5179, '송두리째': 5180, '구입': 5181, '게시판': 5182, '다년': 5183, '하영': 5184, '게시': 5185, '섹시하다': 5186, '거르': 5187, '원서': 5188, '순응': 5189, '서점': 5190, '서면': 5191, '까진': 5192, '기쁨': 5193, '마음껏': 5194, '김지용': 5195, '휘두르다': 5196, '중앙': 5197, '낙방': 5198, '손빈': 5199, '실전': 5200, '혀노': 5201, '장학생': 5202, '조사': 5203, '칼리': 5204, '풍족하다': 5205, '깨': 5206, '어보': 5207, '눕다': 5208, '부러': 5209, '컴백': 5210, '모자라': 5211, '그러자': 5212, '지오': 5213, '쓸모없다': 5214, '개판': 5215, '대충': 5216, '칭호': 5217, '아연': 5218, '원망하다': 5219, '리얼리즘': 5220, '콘텐츠': 5221, '남우': 5222, '차사': 5223, '페인': 5224, '쓸쓸하다': 5225, '버팀목': 5226, '방송국': 5227, '썸남': 5228, '오버': 5229, '네로': 5230, '태엽': 5231, '장치': 5232, '비올': 5233, '하임': 5234, '출동': 5235, '마침내': 5236, '가빈': 5237, '경호': 5238, '장가': 5239, '유체이탈': 5240, '실연': 5241, '러시아': 5242, '이주': 5243, '피바다': 5244, '저물다': 5245, '컬러풀': 5246, '유치하다': 5247, '그건': 5248, '천수': 5249, '전과': 5250, '빵셔틀': 5251, '또다시': 5252, '씌우다': 5253, '지옥도': 5254, '신선하다': 5255, '와인': 5256, '너리': 5257, '친형': 5258, '연서': 5259, '싹트다': 5260, '진도': 5261, '환하다': 5262, '무성': 5263, '신기하다': 5264, '멘트': 5265, '산촌': 5266, '유안': 5267, '살육': 5268, '황실': 5269, '황위': 5270, '태자': 5271, '학창': 5272, '왜인': 5273, '미티': 5274, '장학금': 5275, '무죄': 5276, '민석': 5277, '적극': 5278, '스테이': 5279, '터스': 5280, '정신차리다': 5281, '복서': 5282, '주일': 5283, '일삼': 5284, '조상': 5285, '인의': 5286, '랭킹': 5287, '프로게이머': 5288, '문턱': 5289, '임박': 5290, '숭배': 5291, '구마': 5292, '농장': 5293, '데이빗': 5294, '전우치': 5295, '키드갱': 5296, '시식': 5297, '감수성': 5298, '도자기': 5299, '선하다': 5300, '발탁': 5301, '레전드': 5302, '생략': 5303, '냉혹하다': 5304, '되돌아가다': 5305, '몽상': 5306, '내지': 5307, '별안간': 5308, '귀염': 5309, '패기': 5310, '저리': 5311, '그간': 5312, '청룡': 5313, '재료': 5314, '전략': 5315, '포착': 5316, '개근': 5317, '강안': 5318, '도의': 5319, '낚시꾼': 5320, '신혼부부': 5321, '대출': 5322, '비혼': 5323, '아찔하다': 5324, '요한': 5325, '돌아다니다': 5326, '표범': 5327, '물든': 5328, '공평하다': 5329, '태평': 5330, '횟집': 5331, '둔갑': 5332, '젊은이': 5333, '신랑감': 5334, '루트': 5335, '장사': 5336, '루시퍼': 5337, '리안': 5338, '의기': 5339, '투합': 5340, '대수롭다': 5341, '성진': 5342, '한다인': 5343, '거주': 5344, '락': 5345, '작곡가': 5346, '생김새': 5347, '매직': 5348, '유리아': 5349, '만으로도': 5350, '폐': 5351, '텅': 5352, '체질': 5353, '하녀': 5354, '칸': 5355, '부작용': 5356, '회의': 5357, '마술사': 5358, '다가서다': 5359, '전수': 5360, '연주': 5361, '찢다': 5362, '허리': 5363, '릴': 5364, '서열': 5365, '독살': 5366, '어지럽다': 5367, '실현': 5368, '초대형': 5369, '버스터': 5370, '꽃님': 5371, '메트로': 5372, '이재': 5373, '피아니스트': 5374, '영하': 5375, '중범죄': 5376, '수감자': 5377, '탈옥': 5378, '모텔': 5379, '모퉁이': 5380, '개방': 5381, '균열': 5382, '단우': 5383, '척박하다': 5384, '대머리': 5385, '무용': 5386, '알쏭달쏭': 5387, '의료': 5388, '비호감': 5389, '지각': 5390, '고급': 5391, '황준호': 5392, '비밀요원': 5393, '불가사의하다': 5394, '아쉽다': 5395, '효율': 5396, '고증': 5397, '불도저': 5398, '토대': 5399, '킹': 5400, '먹이사슬': 5401, '취한': 5402, '푼': 5403, '지름신': 5404, '숨쉬다': 5405, '장인': 5406, '표적': 5407, '바퀴': 5408, '요청': 5409, '블록버스터': 5410, '서윤': 5411, '주중': 5412, '삼봉이발소': 5413, '소금': 5414, '슬라임': 5415, '톡톡': 5416, '정사': 5417, '진실하다': 5418, '손맛': 5419, '리사': 5420, '트레인': 5421, '우승자': 5422, '메뉴': 5423, '애화': 5424, '전속': 5425, '용납': 5426, '랑은': 5427, '제어': 5428, '화사': 5429, '신암행어사': 5430, '귀의': 5431, '거란': 5432, '생활고': 5433, '흐름': 5434, '천리마': 5435, '버프': 5436, '호통': 5437, '방실이': 5438, '체포': 5439, '바퀴벌레': 5440, '허름': 5441, '초라하다': 5442, '면모': 5443, '상무': 5444, '털': 5445, '칭': 5446, '배우자': 5447, '전용': 5448, '트롤': 5449, '오리온': 5450, '리온': 5451, '마다의': 5452, '짊어지': 5453, '광경': 5454, '스트리밍': 5455, '구현': 5456, '외치': 5457, '깡패': 5458, '자처': 5459, '도주': 5460, '들러붙다': 5461, '무장해제': 5462, '은채': 5463, '공백': 5464, '약혼자': 5465, '춘장': 5466, '감사': 5467, '폭정': 5468, '환각': 5469, '출생': 5470, '산업혁명': 5471, '소수': 5472, '사교계': 5473, '불만족': 5474, '맞춤법': 5475, '해몽': 5476, '지화': 5477, '외딴': 5478, '화학': 5479, '테러범': 5480, '공백기': 5481, '드림': 5482, '아웃사이더': 5483, '하드보일드': 5484, '차투스': 5485, '시저': 5486, '히트': 5487, '무너': 5488, '천외': 5489, '달님': 5490, '처녀': 5491, '재개발': 5492, '스페인': 5493, '산티아고': 5494, '업보': 5495, '당주': 5496, '유포': 5497, '인생역전': 5498, '특종': 5499, '셀럽': 5500, '시안': 5501, '지지': 5502, '잠식': 5503, '어지럽히다': 5504, '흡혈': 5505, '도르다': 5506, '내부': 5507, '투명인간': 5508, '으로서의': 5509, '온전': 5510, '정신과': 5511, '나날이': 5512, '감히': 5513, '헌옷수거함': 5514, '상대방': 5515, '둘리': 5516, '십대': 5517, '사이버': 5518, '퍼': 5519, '소시오패스': 5520, '겸비': 5521, '질색': 5522, '사이드': 5523, '바나나': 5524, '다해': 5525, '교미': 5526, '집행': 5527, '조심': 5528, '경고': 5529, '마피아게임': 5530, '신호': 5531, '제하': 5532, '자로': 5533, '이연': 5534, '맥': 5535, '패러디': 5536, '손권': 5537, '모집': 5538, '이제껏': 5539, '유현': 5540, '염색': 5541, '샤인': 5542, '지배자': 5543, '훨씬': 5544, '쿨': 5545, '연하다': 5546, '가스': 5547, '성덕': 5548, '김철': 5549, '상하': 5550, '시계': 5551, '보육': 5552, '고액': 5553, '숫자': 5554, '속삭이다': 5555, '야기': 5556, '완료': 5557, '달동': 5558, '답장': 5559, '레오': 5560, '라곤': 5561, '무기한': 5562, '위치': 5563, '연상': 5564, '간첩': 5565, '아나운서': 5566, '이불': 5567, '궁금증': 5568, '먹기': 5569, '민후': 5570, '갑질': 5571, '통합': 5572, '법사': 5573, '달기': 5574, '고집불통': 5575, '태희': 5576, '김찬': 5577, '한정': 5578, '신급': 5579, '꿋꿋': 5580, '술래잡기': 5581, '직딩': 5582, '성질': 5583, '날뛰다': 5584, '공고': 5585, '스토킹': 5586, '유괴': 5587, '방구': 5588, '강원도': 5589, '막무가내': 5590, '스페이스': 5591, '으로도': 5592, '매칭': 5593, '시어머니': 5594, '국회의원': 5595, '주제': 5596, '최광식': 5597, '동행': 5598, '신도림': 5599, '약소국': 5600, '참석': 5601, '보도': 5602, '생명체': 5603, '프로그래머': 5604, '냉소': 5605, '탐사': 5606, '라리': 5607, '닫히다': 5608, '종잡': 5609, '겉모습': 5610, '옥죄': 5611, '전파': 5612, '개봉': 5613, '기이': 5614, '해안가': 5615, '강력': 5616, '무강': 5617, '아마': 5618, '확장': 5619, '본성': 5620, '화목': 5621, '잡음': 5622, '유폐': 5623, '정진': 5624, '입히다': 5625, '섬세하다': 5626, '담담하다': 5627, '서늘하다': 5628, '살피다': 5629, '뒷전': 5630, '다래': 5631, '하은': 5632, '입장': 5633, '레인저': 5634, '월일': 5635, '싸이코패스': 5636, '연쇄살인범': 5637, '훈': 5638, '무덤': 5639, '모로': 5640, '첨단': 5641, '배고프다': 5642, '휴대폰': 5643, '연대기': 5644, '회복': 5645, '아웃': 5646, '그럭저럭': 5647, '윤리': 5648, '잡아들이다': 5649, '이해관계': 5650, '도구': 5651, '자립': 5652, '철천지원수': 5653, '벌이': 5654, '캡틴': 5655, '선사': 5656, '편리하다': 5657, '홍조': 5658, '단조롭다': 5659, '추천': 5660, '눈부시다': 5661, '몰려오다': 5662, '혈청': 5663, '지대': 5664, '강동구': 5665, '티격태격': 5666, '본질': 5667, '김민지': 5668, '궁리': 5669, '분식집': 5670, '꾸준하다': 5671, '씨름': 5672, '가격': 5673, '이사오': 5674, '집주인': 5675, '진달래': 5676, '춤추다': 5677, '금남': 5678, '여탕': 5679, '김수호': 5680, '분양': 5681, '메뉴얼': 5682, '대군': 5683, '뜬금없이': 5684, '쏠남': 5685, '사빠': 5686, '잡혀가다': 5687, '진범': 5688, '의존': 5689, '빈자리': 5690, '친근하다': 5691, '생선': 5692, '덕심': 5693, '오란씨': 5694, '필수': 5695, '험하다': 5696, '도적': 5697, '기지': 5698, '자루': 5699, '영광': 5700, '앤': 5701, '리치': 5702, '재단': 5703, '박정': 5704, '연관': 5705, '인어공주': 5706, '임명': 5707, '핥다': 5708, '모금': 5709, '짐': 5710, '택하': 5711, '강하나': 5712, '제의': 5713, '타지': 5714, '컨셉': 5715, '구하라': 5716, '망치다': 5717, '비우다': 5718, '쟁탈': 5719, '민들레': 5720, '오즈': 5721, '마일': 5722, '모의': 5723, '온실': 5724, '아영': 5725, '한마디': 5726, '마디': 5727, '야식': 5728, '주소': 5729, '호화': 5730, '선희': 5731, '허니문': 5732, '아줌마': 5733, '보살피다': 5734, '회복하다': 5735, '뚱뚱하다': 5736, '주방': 5737, '와일드': 5738, '잼': 5739, '누리': 5740, '여의': 5741, '주사': 5742, '오명': 5743, '집념': 5744, '남다름': 5745, '파랑': 5746, '숲테바': 5747, '상한': 5748, '운수': 5749, '진지': 5750, '특정': 5751, '늦': 5752, '엘레나': 5753, '은율': 5754, '선율': 5755, '수리': 5756, '투수': 5757, '포수': 5758, '별로': 5759, '단추': 5760, '왕도': 5761, '병사': 5762, '이복': 5763, '손자': 5764, '크루': 5765, '윈터': 5766, '동명이인': 5767, '유미': 5768, '국수': 5769, '관우': 5770, '장비': 5771, '율리': 5772, '맡기다': 5773, '박히다': 5774, '진주': 5775, '조정': 5776, '김규삼': 5777, '복제인간': 5778, '탄하': 5779, '조이다': 5780, '불타': 5781, '실존': 5782, '편집자': 5783, '브루스': 5784, '헐크': 5785, '부서': 5786, '혜진': 5787, '장교': 5788, '시공': 5789, '자청': 5790, '계로': 5791, '넘어서다': 5792, '도발': 5793, '원시': 5794, '소가': 5795, '일어': 5796, '코딩': 5797, '아역': 5798, '타투': 5799, '탈주': 5800, '가르치다': 5801, '침묵': 5802, '계층': 5803, '오신': 5804, '싸': 5805, '월드컵': 5806, '자율': 5807, '휴식': 5808, '한낱': 5809, '하찮다': 5810, '절': 5811, '일용직': 5812, '부풀다': 5813, '해오': 5814, '보람': 5815, '이라고는': 5816, '웹소설': 5817, '빼': 5818, '일련': 5819, '약탈': 5820, '오름': 5821, '강희': 5822, '핵인': 5823, '알아내다': 5824, '글씨': 5825, '차도': 5826, '다각': 5827, '천지': 5828, '나발': 5829, '애쉴리': 5830, '로크': 5831, '이목': 5832, '패치': 5833, '조난': 5834, '작전명': 5835, '집밥': 5836, '한국판': 5837, '슬럼프': 5838, '람': 5839, '이하': 5840, '드럽다': 5841, '해외': 5842, '방랑': 5843, '서자': 5844, '처형': 5845, '떡': 5846, '통증': 5847, '경기장': 5848, '소우주': 5849, '꼴찌': 5850, '악하다': 5851, '동급생': 5852, '범의': 5853, '실용음악': 5854, '재학': 5855, '주리다': 5856, '로마': 5857, '재일': 5858, '민수': 5859, '중립': 5860, '중매': 5861, '외상': 5862, '난폭하다': 5863, '노출': 5864, '실직': 5865, '장녀': 5866, '염': 5867, '전제': 5868, '세영': 5869, '찻집': 5870, '대낮': 5871, '허덕이다': 5872, '경우': 5873, '드미트리': 5874, '장남': 5875, '차남': 5876, '압도': 5877, '선인': 5878, '현역': 5879, '문장': 5880, '최면': 5881, '강성재': 5882, '학점': 5883, '덤': 5884, '도저히': 5885, '원고': 5886, '소현': 5887, '청소': 5888, '차분하다': 5889, '무단': 5890, '키워지다': 5891, '직감': 5892, '시시하다': 5893, '다큐멘터리': 5894, '보상': 5895, '민욱': 5896, '렌즈': 5897, '초감각': 5898, '언덕': 5899, '예외': 5900, '갈구다': 5901, '따돌리다': 5902, '습관성': 5903, '소인배': 5904, '좇는': 5905, '겨루다': 5906, '겨루기': 5907, '나하': 5908, '루비': 5909, '잡초': 5910, '흥미진진': 5911, '제보': 5912, '역겹다': 5913, '소행성': 5914, '지성': 5915, '성체': 5916, '과잉': 5917, '부업': 5918, '냉철하다': 5919, '이한영': 5920, '김예': 5921, '올라서다': 5922, '막내딸': 5923, '백지': 5924, '소진': 5925, '기원': 5926, '대대로': 5927, '펀': 5928, '마는': 5929, '옮기다': 5930, '없어지다': 5931, '가야': 5932, '한눈': 5933, '강인하다': 5934, '캐슬': 5935, '소프트': 5936, '성수': 5937, '에디터': 5938, '들뜨다': 5939, '선원': 5940, '정석': 5941, '캔버스': 5942, '조그마하다': 5943, '쥐': 5944, '호에': 5945, '아티스트': 5946, '우체부': 5947, '부러지다': 5948, '제비': 5949, '프리': 5950, '어째서': 5951, '라틸': 5952, '최소': 5953, '도무지': 5954, '학살': 5955, '까치': 5956, '현대인': 5957, '에밀리': 5958, '큐피트': 5959, '건강': 5960, '물망초': 5961, '바리': 5962, '해일': 5963, '보금자리': 5964, '아낌없이': 5965, '마수': 5966, '말단': 5967, '목사': 5968, '흑곰': 5969, '직속': 5970, '헬창': 5971, '진국': 5972, '혀': 5973, '추궁': 5974, '천군': 5975, '반인반수': 5976, '착호': 5977, '가우리': 5978, '덩치': 5979, '데리다': 5980, '성불': 5981, '보좌': 5982, '탁월하다': 5983, '며느리': 5984, '명중': 5985, '퍼트': 5986, '목줄': 5987, '홍시호': 5988, '맹인': 5989, '안평대군': 5990, '검수': 5991, '청명': 5992, '자객': 5993, '독하다': 5994, '또래': 5995, '추가': 5996, '은진': 5997, '똑똑하다': 5998, '몸속': 5999, '장점': 6000, '황태자비': 6001, '간택': 6002, '손꼽다': 6003, '귀요미': 6004, '허당': 6005, '선지': 6006, '두르다': 6007, '출세': 6008, '사절': 6009, '효과': 6010, '절묘하다': 6011, '슈트': 6012, '연예계': 6013, '여우별': 6014, '오감': 6015, '어째선': 6016, '변종': 6017, '묶이다': 6018, '월급': 6019, '강해진': 6020, '여름날': 6021, '되게': 6022, '초조하다': 6023, '조율': 6024, '프로듀싱': 6025, '세번': 6026, '주년': 6027, '콜라보': 6028, '캠프': 6029, '내주다': 6030, '팔리다': 6031, '최정': 6032, '날짜': 6033, '주황': 6034, '오수': 6035, '진리': 6036, '는걸': 6037, '투명하다': 6038, '태국': 6039, '보리': 6040, '업뎃합니': 6041, '자폐': 6042, '발달장애': 6043, '탐구생활': 6044, '터닝': 6045, '해주시': 6046, '케이크': 6047, '살라': 6048, '원만하다': 6049, '알비노': 6050, '나사': 6051, '리뉴얼': 6052, '어린이집': 6053, '반년': 6054, '러': 6055, '매체': 6056, '한송이': 6057, '소도시': 6058, '뵈다': 6059, '구라': 6060, '쓸데없다': 6061, '실적': 6062, '와장창': 6063, '브랜드': 6064, '남북': 6065, '해프닝': 6066, '인방': 6067, '댓글': 6068, '투게더': 6069, '이니': 6070, '겨자': 6071, '잔망스럽다': 6072, '달라붙다': 6073, '제각기': 6074, '각국': 6075, '소방': 6076, '서부': 6077, '어느덧다': 6078, '예술가': 6079, '공용': 6080, '깨달음': 6081, '홍차': 6082, '화금': 6083, '제주': 6084, '인생살이': 6085, '권장': 6086, '치즈': 6087, '평온': 6088, '일기장': 6089, '마누라': 6090, '이브': 6091, '숙이다': 6092, '미국인': 6093, '육군': 6094, '살랑이다': 6095, '간혹': 6096, '멍청이': 6097, '흡': 6098, '담임': 6099, '매니아': 6100, '배낭여행': 6101, '극적': 6102, '투닥투닥': 6103, '대원': 6104, '우리말': 6105, '유자': 6106, '브로콜리': 6107, '시시콜콜': 6108, '쌉싸름하다': 6109, '콩': 6110, '우유부단하다': 6111, '신애': 6112, '짤막하다': 6113, '책장': 6114, '친환경': 6115, '위인': 6116, '홀릭': 6117, '호유': 6118, '희극': 6119, '퇴근': 6120, '도난': 6121, '입원': 6122, '부조리': 6123, '난하다': 6124, '사우나': 6125, '허세': 6126, '수난': 6127, '재건': 6128, '국면': 6129, '동진': 6130, '세이렌': 6131, '도하': 6132, '육상': 6133, '재의': 6134, '루안': 6135, '신장': 6136, '규율': 6137, '틀': 6138, '우진': 6139, '낙인찍히다': 6140, '디아': 6141, '한시': 6142, '심쿵하다': 6143, '단군신화': 6144, '모티브': 6145, '셀': 6146, '테로': 6147, '오스': 6148, '적대': 6149, '시설': 6150, '웨이': 6151, '마도': 6152, '통신': 6153, '나린': 6154, '모이': 6155, '몽유병': 6156, '예약': 6157, '생물체': 6158, '멋대로': 6159, '머리색': 6160, '카카오페이지': 6161, '낭': 6162, '야매': 6163, '미정': 6164, '인디언': 6165, '사설': 6166, '담비': 6167, '눈사람': 6168, '노도': 6169, '보내오다': 6170, '롱': 6171, '건축': 6172, '으로만': 6173, '소꿉': 6174, '사회인': 6175, '봄꽃': 6176, '재윤': 6177, '시인': 6178, '캔디': 6179, '오자': 6180, '다국적': 6181, '가우스전자': 6182, '모면': 6183, '간질간질': 6184, '당첨': 6185, '밸': 6186, '말랑말랑하다': 6187, '바리스타': 6188, '식다': 6189, '랏데': 6190, '흥분하다': 6191, '학력': 6192, '성품': 6193, '악랄하다': 6194, '아임펫': 6195, '어도': 6196, '따내다': 6197, '승진': 6198, '영민': 6199, '독차지': 6200, '투견': 6201, '개편': 6202, '번번이': 6203, '순진': 6204, '다다르다': 6205, '오오': 6206, '준성': 6207, '마켓': 6208, '구매': 6209, '기녀': 6210, '갓길': 6211, '블러드': 6212, '설표': 6213, '민재': 6214, '스럽게': 6215, '일편단심화': 6216, '윤수': 6217, '투입': 6218, '성사': 6219, '건달': 6220, '막막하다': 6221, '흥신소': 6222, '산속': 6223, '돌변': 6224, '폐쇄': 6225, '백성': 6226, '한과': 6227, '무적핑크': 6228, '정복기': 6229, '경자': 6230, '안락하다': 6231, '재동': 6232, '주신': 6233, '추모': 6234, '애도': 6235, '룡': 6236, '삼룡': 6237, '일제': 6238, '전해지다': 6239, '대학입학': 6240, '전격': 6241, '반쪽': 6242, '저녁식사': 6243, '휴가': 6244, '탈탈': 6245, '광마': 6246, '교주': 6247, '경민': 6248, '어차피': 6249, '승환': 6250, '어가': 6251, '학생증': 6252, '웬걸': 6253, '시시': 6254, '팽팽': 6255, '밴드': 6256, '완': 6257, '단역': 6258, '줄이다': 6259, '산호': 6260, '맨날': 6261, '파라': 6262, '악전': 6263, '국립': 6264, '마저도': 6265, '점령': 6266, '칼리오페': 6267, '억지로': 6268, '꺾다': 6269, '자폐증': 6270, '소아': 6271, '선의': 6272, '오늘날': 6273, '나마': 6274, '귀인': 6275, '적국': 6276, '은커녕': 6277, '쌈': 6278, '영아': 6279, '아이디어': 6280, '만만하다': 6281, '정민': 6282, '랜덤': 6283, '안티팬': 6284, '떠들썩하다': 6285, '불륜': 6286, '시중': 6287, '행진': 6288, '강풍': 6289, '금붕어': 6290, '저가': 6291, '점심시간': 6292, '러닝': 6293, '러너': 6294, '열광하다': 6295, '서버': 6296, '운영자': 6297, '규어': 6298, '브릭': 6299, '아르토': 6300, '항구': 6301, '테마': 6302, '파크': 6303, '단죄': 6304, '김부': 6305, '전여친': 6306, '매몰': 6307, '직급': 6308, '모토': 6309, '꼰': 6310, '산산조각': 6311, '꿀잠': 6312, '다짜고짜': 6313, '하주': 6314, '위안': 6315, '까지와': 6316, '류준': 6317, '조의': 6318, '운조': 6319, '박수': 6320, '실명': 6321, '오류로': 6322, '이대': 6323, '학급': 6324, '책임': 6325, '한주': 6326, '폐지': 6327, '지기': 6328, '런던': 6329, '로그아웃': 6330, '전장': 6331, '정지혜': 6332, '공자': 6333, '조롱': 6334, '연합군': 6335, '한탄': 6336, '붓': 6337, '어찌': 6338, '서나래': 6339, '바위': 6340, '야만': 6341, '되풀이': 6342, '의혹': 6343, '벗기다': 6344, '살랑살랑': 6345, '홀': 6346, '결의': 6347, '말고': 6348, '뒷바라지': 6349, '내과': 6350, '킹카': 6351, '배꼽': 6352, '찰': 6353, '백합': 6354, '기대다': 6355, '멍멍': 6356, '메모': 6357, '불과하다': 6358, '암호': 6359, '화폐': 6360, '현금': 6361, '정주리': 6362, '예방': 6363, '상냥하다': 6364, '국경': 6365, '조선인': 6366, '자작나무': 6367, '황혼': 6368, '오싹하다': 6369, '집앞': 6370, '서랍': 6371, '편이': 6372, '체격': 6373, '강연': 6374, '힝': 6375, '무겁다': 6376, '주사위': 6377, '다이스': 6378, '굴리': 6379, '일러스트': 6380, '닥터': 6381, '으로부터의': 6382, '무력감': 6383, '엄': 6384, '꿰뚫다': 6385, '탄탄': 6386, '항문': 6387, '단군': 6388, '마시다': 6389, '혈액': 6390, '윤이나': 6391, '세면소': 6392, '클렌징': 6393, '잠재우다': 6394, '월영': 6395, '궁녀': 6396, '해소': 6397, '태호': 6398, '앙숙': 6399, '닭강정': 6400, '연루': 6401, '정직': 6402, '제도': 6403, '신휘': 6404, '철벽남': 6405, '발칙하다': 6406, '비비안': 6407, '자마자': 6408, '대학원': 6409, '연구실': 6410, '삼부카': 6411, '불로불사': 6412, '퀸즈': 6413, '난이도': 6414, '입부': 6415, '아티': 6416, '끝장': 6417, '성전': 6418, '카일': 6419, '지목': 6420, '인재': 6421, '가온': 6422, '해피': 6423, '문화재': 6424, '솔직담백하다': 6425, '투표': 6426, '조작': 6427, '엔터테인먼트': 6428, '청첩장': 6429, '준수': 6430, '무렵': 6431, '유품': 6432, '담당자': 6433, '부로': 6434, '김창남': 6435, '건조하다': 6436, '차마': 6437, '백호': 6438, '호로': 6439, '운동화': 6440, '때우다': 6441, '국적': 6442, '단정': 6443, '소명': 6444, '강물': 6445, '사이보그': 6446, '천상천': 6447, '독존': 6448, '권능': 6449, '라스트': 6450, '고교야구': 6451, '라커': 6452, '속수무책': 6453, '무조건': 6454, '이강': 6455, '이삭': 6456, '임진국': 6457, '레드카펫': 6458, '부턴': 6459, '캐스팅': 6460, '레나': 6461, '충족': 6462, '베르크': 6463, '판매': 6464, '나앉다': 6465, '대사제': 6466, '펠릭스': 6467, '은반': 6468, '달성': 6469, '다나': 6470, '여장': 6471, '수락': 6472, '웬디': 6473, '악취': 6474, '정향': 6475, '아스': 6476, '킬리언': 6477, '에리': 6478, '아크': 6479, '부리고': 6480, '종결': 6481, '몸매': 6482, '김모': 6483, '성인식': 6484, '오른손': 6485, '바람둥이': 6486, '신공': 6487, '테스트': 6488, '김기봉': 6489, '단단하다': 6490, '의사소통': 6491, '영장': 6492, '밀림': 6493, '곽재용': 6494, '말년': 6495, '병장': 6496, '맨몸': 6497, '겁니다': 6498, '블로거': 6499, '요절': 6500, '복통': 6501, '고금': 6502, '에다': 6503, '코앞': 6504, '전날': 6505, '가이드': 6506, '교수인형': 6507, '우월한하루': 6508, '앞날': 6509, '서준': 6510, '막상': 6511, '습관': 6512, '관심사': 6513, '클론': 6514, '빅터': 6515, '비관': 6516, '나로': 6517, '훌륭하다': 6518, '서슬': 6519, '퍼렇다': 6520, '의외로': 6521, '간단하다': 6522, '해제': 6523, '격전': 6524, '적연': 6525, '짙다': 6526, '묘령': 6527, '끝없이': 6528, '유연': 6529, '계심': 6530, '세아': 6531, '주호민': 6532, '변동': 6533, '명감': 6534, '이행': 6535, '지정': 6536, '해녀': 6537, '환수': 6538, '바이올린': 6539, '운전사': 6540, '포신': 6541, '격동': 6542, '전무': 6543, '욕실': 6544, '수증기': 6545, '샤워': 6546, '싸늘하다': 6547, '황': 6548, '미혼': 6549, '강철중': 6550, '사람인': 6551, '이지현': 6552, '군사': 6553, '순애': 6554, '비타': 6555, '실천': 6556, '워커홀릭': 6557, '탕진': 6558, '경로': 6559, '백신': 6560, '후안': 6561, '방대하다': 6562, '신참': 6563, '낚는': 6564, '오묘': 6565, '목욕': 6566, '저울': 6567, '무게': 6568, '황천': 6569, '알아주다': 6570, '배트맨': 6571, '지룡': 6572, '사촌동생': 6573, '씻다': 6574, '호랑': 6575, '악사': 6576, '경일': 6577, '직관': 6578, '번개': 6579, '기동대': 6580, '번데기': 6581, '야구단': 6582, '김유리': 6583, '로펌': 6584, '이직': 6585, '친절': 6586, '베풀다': 6587, '꾸미다': 6588, '지영은': 6589, '조가': 6590, '알거지': 6591, '재기': 6592, '선혜': 6593, '외할아버지': 6594, '어서': 6595, '가능성': 6596, '충성': 6597, '왕진': 6598, '뷰티': 6599, '가년': 6600, '도연': 6601, '올리비아': 6602, '루카스': 6603, '자연인': 6604, '우기': 6605, '아리다': 6606, '형체': 6607, '유부': 6608, '증기기관': 6609, '셀리나': 6610, '다마': 6611, '건민': 6612, '몽언': 6613, '행': 6614, '외부': 6615, '파발': 6616, '입소': 6617, '내뿜는': 6618, '여자도': 6619, '브랜든': 6620, '몬작': 6621, '페이': 6622, '암살자': 6623, '나야': 6624, '개입': 6625, '국정원': 6626, '커버': 6627, '투신': 6628, '강혁': 6629, '유니버스': 6630, '크로스오버': 6631, '윤정': 6632, '명석': 6633, '처치': 6634, '순박하다': 6635, '업체': 6636, '주영': 6637, '아이콘': 6638, '스테파니': 6639, '주영은': 6640, '백제': 6641, '패자': 6642, '고인': 6643, '안도': 6644, '몸무게': 6645, '감소': 6646, '체중': 6647, '하굣길': 6648, '방금': 6649, '일념': 6650, '마음대로': 6651, '육체': 6652, '수족관': 6653, '세리': 6654, '백도현': 6655, '즐비하다': 6656, '위층': 6657, '끌': 6658, '졸': 6659, '수술': 6660, '마술': 6661, '이스트': 6662, '우르': 6663, '깐깐하다': 6664, '사육사': 6665, '육감': 6666, '분출': 6667, '영도': 6668, '조슈아': 6669, '맹세': 6670, '설계자': 6671, '추정': 6672, '삼국': 6673, '메신저': 6674, '오물': 6675, '상연': 6676, '성범죄자': 6677, '출발': 6678, '진솔하다': 6679, '애기': 6680, '젱': 6681, '안쓰럽다': 6682, '천상계': 6683, '철벽': 6684, '못마땅하다': 6685, '강수': 6686, '어택': 6687, '앞뒤': 6688, '사키': 6689, '아련하다': 6690, '얼간이': 6691, '우유부단': 6692, '일본인': 6693, '유학생': 6694, '재수없다': 6695, '황미애': 6696, '트러블': 6697, '노화': 6698, '한류': 6699, '스타인': 6700, '수기': 6701, '탈락': 6702, '귓가': 6703, '고아원': 6704, '민트': 6705, '김돌벽': 6706, '반성': 6707, '발짝': 6708, '유타': 6709, '안티': 6710, '어처구니없다': 6711, '항의': 6712, '재등장': 6713, '축구선수': 6714, '결핍': 6715, '뻥뻥': 6716, '보고서': 6717, '최규석': 6718, '래퍼': 6719, '방과후': 6720, '쫓아가다': 6721, '골목길': 6722, '리라': 6723, '에서와': 6724, '수희': 6725, '사사롭다': 6726, '염원': 6727, '대미': 6728, '아우라': 6729, '대선': 6730, '잘리다': 6731, '음침하다': 6732, '가비': 6733, '파커': 6734, '재탄생': 6735, '선거': 6736, '코미디언': 6737, '헤어디자이너': 6738, '붕괴': 6739, '승호': 6740, '알록달록': 6741, '모임': 6742, '백영은': 6743, '회원': 6744, '시에라': 6745, '클로드': 6746, '달래다': 6747, '홧김': 6748, '뒤엎': 6749, '떼돈': 6750, '김범': 6751, '쥬얼': 6752, '본국': 6753, '소라': 6754, '보배': 6755, '우비다': 6756, '분리수거': 6757, '숙취': 6758, '미영': 6759, '입증': 6760, '취재': 6761, '노노': 6762, '하트': 6763, '절대로': 6764, '불량': 6765, '정이현': 6766, '상징': 6767, '법무': 6768, '꾀': 6769, '포악하다': 6770, '자유분방하다': 6771, '연구소': 6772, '상해': 6773, '흐릿하': 6774, '유년기': 6775, '이솝우화': 6776, '떨다': 6777, '조류': 6778, '안식처': 6779, '토막살인': 6780, '전성기': 6781, '당해': 6782, '뭉클하다': 6783, '유도': 6784, '한나': 6785, '부적': 6786, '물이': 6787, '기름': 6788, '워킹': 6789, '알파': 6790, '도덕': 6791, '잔인무도하다': 6792, '우선': 6793, '공통점': 6794, '은비': 6795, '거들다': 6796, '어른스럽다': 6797, '구의': 6798, '매진': 6799, '복잡': 6800, '셀레스티': 6801, '어르다': 6802, '전두엽': 6803, '도망자': 6804, '대폭발': 6805, '초상': 6806, '삼대': 6807, '애쉬': 6808, '쪽방': 6809, '월세': 6810, '헬스': 6811, '계나리': 6812, '저렴하다': 6813, '세금': 6814, '학군': 6815, '상목': 6816, '본디': 6817, '구미': 6818, '남작': 6819, '포토툰': 6820, '성준': 6821, '구아바': 6822, '용모': 6823, '남중': 6824, '오중': 6825, '연옥': 6826, '인주': 6827, '봉사활동': 6828, '열녀': 6829, '이몽': 6830, '열렬하다': 6831, '하성': 6832, '되돌리기': 6833, '누적': 6834, '뽐내다': 6835, '무릎': 6836, '심란하다': 6837, '당기다': 6838, '오월': 6839, '양심': 6840, '도영': 6841, '억수': 6842, '연기력': 6843, '스카웃': 6844, '곽사': 6845, '비난': 6846, '기본': 6847, '심청': 6848, '대면': 6849, '징징': 6850, '옥타곤': 6851, '무영': 6852, '향로': 6853, '강미': 6854, '지시': 6855, '덫': 6856, '검정고시': 6857, '업그레이드': 6858, '입술': 6859, '연화': 6860, '익다': 6861, '불청객': 6862, '성균관': 6863, '호안': 6864, '연정': 6865, '박태준': 6866, '수강': 6867, '용족': 6868, '여야': 6869, '졸지': 6870, '데닐': 6871, '패': 6872, '트릭': 6873, '귀차니즘': 6874, '시베리아': 6875, '박열': 6876, '이우주': 6877, '겟네임': 6878, '강타': 6879, '경영': 6880, '채현': 6881, '매미': 6882, '김인': 6883, '미처': 6884, '안개': 6885, '무색': 6886, '라이딩': 6887, '이유리': 6888, '사심': 6889, '도련님': 6890, '부수': 6891, '안기다': 6892, '인테리어': 6893, '박문수': 6894, '어사': 6895, '능': 6896, '아날로그': 6897, '되돌아오다': 6898, '우유': 6899, '배너': 6900, '그땐': 6901, '저돌': 6902, '오래전': 6903, '또렷하다': 6904, '은태': 6905, '킬': 6906, '봉사': 6907, '찌들다': 6908, '시운': 6909, '스킨십': 6910, '펜싱': 6911, '강점': 6912, '건너다': 6913, '러블리': 6914, '유이': 6915, '수마': 6916, '특별대우': 6917, '자판기': 6918, '은혁': 6919, '수애': 6920, '승천': 6921, '고서': 6922, '예보': 6923, '재생': 6924, '최강희': 6925, '마음씨': 6926, '글리': 6927, '무너뜨릴': 6928, '잠재력': 6929, '류시환': 6930, '신약': 6931, '서원': 6932, '수험': 6933, '논리': 6934, '슈': 6935, '퍼스트': 6936, '자리다': 6937, '감방': 6938, '제타': 6939, '책방': 6940, '재주': 6941, '수장': 6942, '홍보': 6943, '형법': 6944, '박의': 6945, '생애': 6946, '순위': 6947, '파혼': 6948, '테오': 6949, '예의': 6950, '오싹': 6951, '티비': 6952, '합주': 6953, '류환': 6954, '중증': 6955, '두근': 6956, '프리스타일': 6957, '방치': 6958, '안간힘': 6959, '예찬': 6960, '민결': 6961, '진화': 6962, '그렇지만': 6963, '전력': 6964, '산송장': 6965, '위퍼': 6966, '의인': 6967, '뒷모습': 6968, '교권': 6969, '융': 6970, '설휘': 6971, '카신': 6972, '화악골': 6973, '짝꿍': 6974, '맹수': 6975, '김찬규': 6976, '게이머': 6977, '거치': 6978, '보트': 6979, '딱하다': 6980, '끝판': 6981, '돌파': 6982, '현월': 6983, '해적': 6984, '해양': 6985, '무아': 6986, '신혼여행': 6987, '명함': 6988, '통쾌하다': 6989, '청부': 6990, '소희': 6991, '최금혁': 6992, '금혁이': 6993, '달아나다': 6994, '탈영병': 6995, '울컥': 6996, '대장정': 6997, '태릉선수촌': 6998, '사이먼': 6999, '묻히다': 7000, '붙잡히다': 7001, '근황': 7002, '교생': 7003, '대작': 7004, '밀교': 7005, '아니스': 7006, '브레이커': 7007, '상관': 7008, '정권': 7009, '방화': 7010, '박주연': 7011, '라테': 7012, '라이트': 7013, '알리다': 7014, '런': 7015, '무도': 7016, '표': 7017, '선도': 7018, '주마': 7019, '구천': 7020, '안드로메다': 7021, '안드로': 7022, '득실대다': 7023, '참사': 7024, '다혜': 7025, '인근': 7026, '강태오': 7027, '유림': 7028, '하미': 7029, '계약금': 7030, '공중': 7031, '가작': 7032, '패륜': 7033, '설득': 7034, '싱크홀': 7035, '리피터': 7036, '핑크레이디': 7037, '사배': 7038, '더러': 7039, '아벨': 7040, '지혜': 7041, '국서': 7042, '하북팽': 7043, '하슬라': 7044, '반역': 7045, '네빌': 7046, '요새': 7047, '냉이': 7048, '한섬': 7049, '상구': 7050, '신묘하다': 7051, '한천': 7052, '해루': 7053, '종식': 7054, '상급': 7055, '지로': 7056, '라이브': 7057, '장광': 7058, '식단': 7059, '온통': 7060, '기호': 7061, '호랭총각': 7062, '사도': 7063, '한무': 7064, '대학시절': 7065, '금선': 7066, '책봉': 7067, '골드': 7068, '이소현': 7069, '샬': 7070, '리오니': 7071, '이재인': 7072, '기안': 7073, '뷔시': 7074, '이화': 7075, '바루다': 7076, '사형수': 7077, '데드': 7078, '데이즈': 7079, '엠젯': 7080, '강철': 7081, '금발': 7082, '어시': 7083, '해림': 7084, '긴장': 7085, '다투다': 7086, '설레임': 7087, '도형': 7088, '무지개': 7089, '감금': 7090, '산책': 7091, '철민': 7092, '바꿈': 7093, '개체': 7094, '엎친데': 7095, '기후변화': 7096, '이력서': 7097, '종자': 7098, '논의': 7099, '난의': 7100, '과학고': 7101, '채똘': 7102, '마흔': 7103, '심보': 7104, '가지각색': 7105, '부비': 7106, '깨끗하다': 7107, '올바르다': 7108, '이정': 7109, '미화원': 7110, '코코아': 7111, '물체': 7112, '연락처': 7113, '수익': 7114, '올려주다': 7115, '헤헿': 7116, '김우진': 7117, '군필': 7118, '마라도': 7119, '자장면': 7120, '통인': 7121, '유세': 7122, '맞벌이': 7123, '이민아': 7124, '예수': 7125, '도시남녀': 7126, '뒷이야기': 7127, '회상': 7128, '건방지다': 7129, '불손하다': 7130, '어리둥절': 7131, '여건': 7132, '원대하다': 7133, '오찬미': 7134, '평균': 7135, '말걸': 7136, '삼이': 7137, '주임': 7138, '우소': 7139, '제빵': 7140, '수긍': 7141, '김네몽': 7142, '는가': 7143, '컴': 7144, '컴온': 7145, '목격담': 7146, '제철': 7147, '골칫거리': 7148, '고야': 7149, '채채': 7150, '플러스': 7151, '정유': 7152, '비법': 7153, '오존': 7154, '헬린': 7155, '피티': 7156, '프로필': 7157, '쑤다': 7158, '다어쭌': 7159, '블랙코미디': 7160, '보풀': 7161, '냉장고': 7162, '카나': 7163, '윤덩': 7164, '오사카': 7165, '꾸리': 7166, '상세': 7167, '인공수정': 7168, '시험관': 7169, '분야': 7170, '헤딩': 7171, '차후': 7172, '횡단하': 7173, '순례': 7174, '여행자': 7175, '보가': 7176, '닻별': 7177, '자퇴생': 7178, '찌개': 7179, '최장수': 7180, '가즈': 7181, '닲': 7182, '우미': 7183, '일말': 7184, '고앵': 7185, '뭐길': 7186, '음악공감': 7187, '와리': 7188, '만하': 7189, '딩폴': 7190, '청호': 7191, '난치병': 7192, '전구': 7193, '실소': 7194, '끄적': 7195, '여보': 7196, '씨앗': 7197, '유민': 7198, '찍기': 7199, '말레이시아': 7200, '마이웨이': 7201, '뭉가': 7202, '김말이': 7203, '철썩': 7204, '순두부': 7205, '딸아이': 7206, '걱정스럽다': 7207, '아이디': 7208, '숙회': 7209, '스윗': 7210, '깜빵': 7211, '요나': 7212, '소란': 7213, '첨가': 7214, '순은': 7215, '도마도': 7216, '낫론': 7217, '포레스트': 7218, '맥시멀': 7219, '트이다': 7220, '미니멀리즘': 7221, '욤뽀': 7222, '범죄인': 7223, '반지하': 7224, '디테일': 7225, '원트': 7226, '왁자지껄': 7227, '윤제영': 7228, '파릇파릇하다': 7229, '뽕': 7230, '냉면': 7231, '토깽': 7232, 'ㅁ': 7233, '넥타이': 7234, '와이셔츠': 7235, '직종': 7236, '쟝': 7237, '본부': 7238, '골칫덩': 7239, '분신사바': 7240, '알뜰살뜰': 7241, '신비학': 7242, '가젤': 7243, '쥬노': 7244, '엮어': 7245, '아스테리스크': 7246, '여한': 7247, '퐁': 7248, '파티쉐': 7249, '마롱': 7250, '머핀': 7251, '납짝코': 7252, '꿀잼': 7253, '야무지다': 7254, '아르바이트생': 7255, '외국': 7256, '오레오': 7257, '어둡다': 7258, '기어이': 7259, '겠다': 7260, '누렁이': 7261, '빵글': 7262, '동산': 7263, '곰보': 7264, '허무': 7265, '호소': 7266, '류월류': 7267, '타운': 7268, '올인': 7269, '시나리오': 7270, '하소': 7271, '볼룸': 7272, '유방암': 7273, '신비가': 7274, '랄랄라': 7275, '천체': 7276, '롯': 7277, '콩닥콩닥': 7278, '도울': 7279, '훤': 7280, '적성': 7281, '영업': 7282, '쿤이': 7283, '덥석': 7284, '도시락': 7285, '스튜디오': 7286, '디렉터': 7287, '비기다': 7288, '프렌치': 7289, '머스터드': 7290, '하양': 7291, '수조': 7292, '쌀롱': 7293, '가물치': 7294, '매운탕': 7295, '대동강': 7296, '우메기': 7297, '꿩': 7298, '측': 7299, '시라': 7300, '경아': 7301, '부활동': 7302, '특이': 7303, '뽀': 7304, '옴똥': 7305, '쥐덕덕덕덕덕': 7306, '덴마크': 7307, '맘봉': 7308, '생쥐': 7309, '솜': 7310, '임란': 7311, '전라도': 7312, '왜군': 7313, '방어': 7314, '우연찮': 7315, '핍박': 7316, '특징': 7317, '임수호': 7318, '연달': 7319, '개구리': 7320, '좀베창궐': 7321, '숭': 7322, '효효': 7323, '강가': 7324, '세라': 7325, '대명사': 7326, '코디': 7327, '총학생회': 7328, '찝찝하다': 7329, '서폿': 7330, '폿': 7331, '노안': 7332, '드릴': 7333, '말씀': 7334, '국산': 7335, '캥거루': 7336, '요섹남': 7337, '망은': 7338, '수강신청': 7339, '줌마': 7340, '곰팡이': 7341, '연중': 7342, '달걀': 7343, '지리': 7344, '비기너': 7345, '짓떼': 7346, '미트볼': 7347, '스파게티': 7348, '싸이클': 7349, '맛깔': 7350, '당근': 7351, '일기자': 7352, '세한': 7353, '콩깍지': 7354, '심리상담가': 7355, '저서': 7356, '토닥토닥': 7357, '호치민': 7358, '사이공': 7359, '모야': 7360, '불규칙하다': 7361, '이삿짐': 7362, '꿈틀': 7363, '스토어': 7364, '북스': 7365, '선선': 7366, '샴고양이': 7367, '한우': 7368, '시세': 7369, '고집': 7370, '거구': 7371, '국장': 7372, '이송희': 7373, '교회': 7374, '배드': 7375, '드로': 7376, '재임': 7377, '윤소미': 7378, '항해사': 7379, '바다이야기': 7380, '한철': 7381, '차나무': 7382, '심리상담': 7383, '거주지': 7384, '컷잠': 7385, '싸이언스': 7386, '매트리스': 7387, '가라앉다': 7388, '차녀': 7389, '랄라': 7390, '통근': 7391, '외갓집': 7392, '발랄하다': 7393, '수줍음': 7394, '로웰': 7395, '람지': 7396, '육지': 7397, '상어': 7398, '요란': 7399, '법석': 7400, '마카롱': 7401, '팍팍하다': 7402, '달콤쌉싸롬': 7403, '게임개발자': 7404, '비글': 7405, '일요': 7406, '무식하다': 7407, '성숙': 7408, '럽': 7409, '금녹': 7410, '구상': 7411, '천진난만하다': 7412, '래브라도': 7413, '리트리버': 7414, '수화': 7415, '혜림': 7416, '도예': 7417, '대로의': 7418, '뻘짓하': 7419, '저자': 7420, '이슬람교': 7421, '퀴어': 7422, '대형견': 7423, '구씨': 7424, '저출산': 7425, '토제': 7426, '버니': 7427, '똥개': 7428, '민구': 7429, '복고': 7430, '오줌': 7431, '영식': 7432, '도롯씌': 7433, '다락방': 7434, '웽': 7435, '웽툰': 7436, '히말라야': 7437, '데인': 7438, '비암': 7439, '비김': 7440, '어게인': 7441, '개나리': 7442, '밀웜': 7443, '포지션': 7444, '군화': 7445, '곰신': 7446, '국방': 7447, '쏭이': 7448, '무녹': 7449, '애완견': 7450, '한평생': 7451, '개남': 7452, '견': 7453, '개발자': 7454, '교과': 7455, '형태': 7456, '가세': 7457, '가전': 7458, '히터': 7459, '근육남': 7460, '민아': 7461, '아웃브레이크': 7462, '프리터': 7463, '다중인격': 7464, '한소리': 7465, '헛헛': 7466, '나열': 7467, '리듬': 7468, '요일': 7469, '침녀': 7470, '쨍아': 7471, '해지': 7472, '열혈남아': 7473, '남발': 7474, '파업': 7475, '홍애리': 7476, '김은규': 7477, '꽁냥꽁': 7478, '알짜': 7479, '트러블메이커': 7480, '엘리자베스': 7481, '엘리자': 7482, '벳': 7483, '내신': 7484, '보심': 7485, '구질구질하다': 7486, '오늘내일': 7487, '뜨개질': 7488, '유쾌하': 7489, '네일': 7490, '겜': 7491, '젴': 7492, '식성': 7493, '한서윤': 7494, '경선': 7495, '큰곰': 7496, '루노': 7497, '개점': 7498, '김저키': 7499, '배속': 7500, '종업원': 7501, '외형': 7502, '루리웹': 7503, '빼기': 7504, '암살': 7505, '남한': 7506, '구설': 7507, '날씬하다': 7508, '엮어놓': 7509, '환불': 7510, '커먼': 7511, '먹거리': 7512, '상급자': 7513, '동질감': 7514, '우물쭈물': 7515, '로동': 7516, '심문': 7517, '최성국': 7518, '남조선': 7519, '두둑하다': 7520, '구직': 7521, '해군': 7522, '애매모호하다': 7523, '냥빠': 7524, '배서': 7525, '노모': 7526, '캔': 7527, '꾸숑': 7528, '네컷만화': 7529, '완석': 7530, '위암': 7531, '병과': 7532, '금주': 7533, '모래알': 7534, '터키': 7535, '여간': 7536, '쩍': 7537, '미용실': 7538, '지영옥': 7539, '탑빵': 7540, '명가': 7541, '균산': 7542, '전골': 7543, '희노애락': 7544, '장기간': 7545, '대완': 7546, '집안일': 7547, '수월하다': 7548, '격인': 7549, '미나리': 7550, '제갈현': 7551, '정학': 7552, '등교거부': 7553, '한부모': 7554, '믹스견': 7555, '시녅': 7556, '가가': 7557, '자반': 7558, '제제': 7559, '갱년기': 7560, '이라기': 7561, '차이점': 7562, '심쿵사': 7563, '피카': 7564, '합': 7565, '꾹꾹': 7566, '느루': 7567, '꾸물꾸물': 7568, '미묘': 7569, '오드아이': 7570, '에릭': 7571, '리먼': 7572, '끈기': 7573, '배호': 7574, '올빼미': 7575, '의의': 7576, '노동': 7577, '착취': 7578, '옵쌀': 7579, '핸드': 7580, '볼빨': 7581, '간씨': 7582, '꼬매': 7583, '사색': 7584, '노후': 7585, '영고': 7586, '적금': 7587, '일러스트레이터': 7588, '흙내': 7589, '초등': 7590, '여대': 7591, '파스타': 7592, '솔남': 7593, '꽃감': 7594, '라빠': 7595, '봄날': 7596, '용림': 7597, '느닷없다': 7598, '허황': 7599, '알차다': 7600, '천성': 7601, '격주내': 7602, '모의고사': 7603, '찹쌀': 7604, '고집쟁이': 7605, '따님': 7606, '해롭다': 7607, '율과': 7608, '대략': 7609, '난감하다': 7610, '괴기': 7611, '찿': 7612, '쉬는시간': 7613, '키므네': 7614, '선달': 7615, '고소하다': 7616, '가동': 7617, '우동': 7618, '너구리': 7619, '젠체': 7620, '야시': 7621, '원숭이': 7622, '몽씨': 7623, '상념들': 7624, '할퀴다': 7625, '밥몽': 7626, '미코': 7627, '낑깡': 7628, '이본': 7629, '가사': 7630, '시소': 7631, '진짜진짜': 7632, '과묵': 7633, '세심': 7634, '우주여행': 7635, '땀': 7636, '기세': 7637, '뚜껑': 7638, '툭': 7639, '자갈치': 7640, '동지': 7641, '우기다': 7642, '스리랑카': 7643, '알밤': 7644, '포': 7645, '하만': 7646, '졸업식': 7647, '뽀니': 7648, 'ㅇ': 7649, '퐌': 7650, '스틱': 7651, '붕싸': 7652, '미국생활': 7653, '스라이': 7654, '팅견': 7655, '홍일점': 7656, '주쫑쫑': 7657, '딕셔': 7658, '몬딕': 7659, '딸리다': 7660, '유난히': 7661, '꺼리다': 7662, '쏠트': 7663, '쿠마': 7664, '칼복': 7665, '빼먹다': 7666, '불효': 7667, '막심': 7668, '졸업장': 7669, '해사': 7670, '롤랜드': 7671, '사계절': 7672, '빗대다': 7673, '뿔': 7674, '마미': 7675, '밤하늘': 7676, '옴': 7677, '오물오물': 7678, '앙증맞다': 7679, '발사': 7680, '부시다': 7681, '우프': 7682, '긋다': 7683, '향속': 7684, '희끗': 7685, '어데인': 7686, '주름': 7687, '복부비만': 7688, '근심': 7689, '미그': 7690, '고도': 7691, '무쌍': 7692, '구성지다': 7693, '유기동물': 7694, '정해준': 7695, '부딫힌': 7696, '인문학': 7697, '조화롭다': 7698, '능곡': 7699, '주머니': 7700, '세종대왕': 7701, '빙': 7702, '혹독하다': 7703, '사이일': 7704, '내추럴': 7705, '새댁': 7706, '병영': 7707, '동색': 7708, '사유': 7709, '쏠쏠하다': 7710, '베개': 7711, '버럭': 7712, '투닥': 7713, '달자': 7714, '쌍콤': 7715, '심의': 7716, '규정': 7717, '모자이크': 7718, '떤다': 7719, '댕시': 7720, '시사': 7721, '구리': 7722, '깔다': 7723, '앙탈': 7724, '로멘틱': 7725, '블링유': 7726, '뽀또짜구쪼꼬포비': 7727, '야미어': 7728, '피펨': 7729, '즈그': 7730, '인하': 7731, '해답': 7732, '발키리': 7733, '머나멀다': 7734, '한일': 7735, '슭이': 7736, '하마': 7737, '하여가': 7738, '슈슈': 7739, '케이쿤': 7740, '곰팅이': 7741, '벙어리': 7742, '꽁': 7743, '따오다': 7744, '대란': 7745, '두목': 7746, '묵호파그': 7747, '교우': 7748, '중간고사': 7749, '혼내다': 7750, '살림살이': 7751, '새해': 7752, '박주': 7753, '매수': 7754, '박훈': 7755, '해안': 7756, '재해': 7757, '백반': 7758, '한솔': 7759, '원만': 7760, 'ㅣ': 7761, '공로': 7762, '파손': 7763, '중학': 7764, '높이뛰기': 7765, '양자경': 7766, '리머': 7767, '퍼뜨린': 7768, '승인': 7769, '소요': 7770, '유람선': 7771, '교차로': 7772, '장도리': 7773, '진정': 7774, '썰렁하다': 7775, '개그맨': 7776, '파르스': 7777, '전령': 7778, '니케': 7779, '반영': 7780, '핳': 7781, '용궁': 7782, '물르다': 7783, '상사병': 7784, '이롭다': 7785, '저러다': 7786, '열병': 7787, '앙드레': 7788, '유기체': 7789, '날아가다': 7790, '성유빈': 7791, '쏙': 7792, '팥': 7793, '쿵': 7794, '지은이': 7795, '잦다': 7796, '크나크다': 7797, '화환': 7798, '꽃다발': 7799, '다급하다': 7800, '부다': 7801, '년년': 7802, '알아채다': 7803, '엄근진': 7804, '학폭': 7805, '서양철학자': 7806, '출중': 7807, '훌륭': 7808, '결점': 7809, '아이엠': 7810, '가차': 7811, '도담': 7812, '돼': 7813, '피트니스': 7814, '신세계': 7815, '지침': 7816, '서모': 7817, '바이블': 7818, '교대': 7819, '간판': 7820, '사업자': 7821, '등록증': 7822, '자격증': 7823, '불법체류자': 7824, '사표': 7825, '내야': 7826, '명명': 7827, '휘음': 7828, '박기웅': 7829, 'ㅎ': 7830, '강적': 7831, '설키': 7832, '동원': 7833, '괴력': 7834, '라이센스': 7835, '어이': 7836, '판타지아': 7837, '어필': 7838, '로라': 7839, '광팬': 7840, '플루토': 7841, '심리학': 7842, '깝치': 7843, '아틀레냐': 7844, '옹기종기': 7845, '플래터': 7846, '여행가': 7847, '씹다': 7848, '보화': 7849, '진미': 7850, '하인': 7851, '공주고': 7852, '고속도로': 7853, '활짝': 7854, '사모': 7855, '단장': 7856, '앨런': 7857, '맥락': 7858, '근본': 7859, '건망증': 7860, '댄싱': 7861, '이지오': 7862, '두봉': 7863, '미연시': 7864, '백골': 7865, '사체': 7866, '그리하여': 7867, '아더왕': 7868, '아랑': 7869, '러브레터': 7870, '대필': 7871, '유전학': 7872, '특전사': 7873, '김장군': 7874, '중사': 7875, '치사량': 7876, '초과': 7877, '조치': 7878, '레퀴에스': 7879, '나르시스트': 7880, '헬렌': 7881, '법학과': 7882, '송하나': 7883, '삐걱': 7884, '오렌지': 7885, '오우거': 7886, '된장녀': 7887, '이중인격': 7888, '고라': 7889, '홍콩할매귀신': 7890, '망태기': 7891, '할아범': 7892, '자유로': 7893, '오누이': 7894, '해님': 7895, '호족': 7896, '천이': 7897, '보정': 7898, '지연': 7899, '야심': 7900, '배리': 7901, '프리킥': 7902, '빡': 7903, '가로': 7904, '세로': 7905, '무투': 7906, '위화': 7907, '간섭': 7908, '자체발광': 7909, '드립': 7910, '지민': 7911, '에나멜': 7912, '링크': 7913, '쉐퍼드': 7914, '추친': 7915, '얀카': 7916, '더키': 7917, '떳떳하다': 7918, '가르침': 7919, '촉': 7920, '위현': 7921, '오성': 7922, '불황': 7923, '드라큘라': 7924, '책속': 7925, '시리어스': 7926, '교훈': 7927, '최현': 7928, '털북숭이계': 7929, '왕씨': 7930, '사각': 7931, '애실': 7932, '안카': 7933, '디저트': 7934, '촉수': 7935, '남하': 7936, '건장하다': 7937, '마인드': 7938, '병약': 7939, '모과': 7940, '밥집': 7941, '옥좌': 7942, '묵색': 7943, '안중': 7944, '상의': 7945, '떡집': 7946, 'ㄷㄷ': 7947, '청사': 7948, '리무진': 7949, '낮음': 7950, '차등': 7951, '부르주아': 7952, '기존': 7953, '이하늬': 7954, '계세영': 7955, '될까엮': 7956, '앞일': 7957, '옳다': 7958, '그름': 7959, '멘붕': 7960, '모산': 7961, '빈탕': 7962, '쵸': 7963, '키노': 7964, '어연': 7965, '정벌기': 7966, '가다가': 7967, '진선': 7968, '아리땁다': 7969, '휴지': 7970, '보험사': 7971, '하나같이': 7972, '조적': 7973, '수니': 7974, '철통': 7975, '양철': 7976, '정지우': 7977, '전달자': 7978, '마구마구': 7979, '명탐정': 7980, '백준호': 7981, '합법': 7982, '값': 7983, '네스': 7984, '청소부': 7985, '웃프다는': 7986, '지극': 7987, '유창': 7988, '최약': 7989, '라임': 7990, '남여': 7991, '음유시인': 7992, '뮤지컬': 7993, '알렉산더': 7994, '조기': 7995, '발명가': 7996, '김창식': 7997, '임업': 7998, '자만': 7999, '적응도': 8000, '마님': 8001, '점년': 8002, '환타스띠끄': 8003, '유니': 8004, '개화': 8005, '쁘스따': 8006, '골동품': 8007, '남쪽': 8008, '과학소년': 8009, '물류': 8010, '서서': 8011, '담배': 8012, '민담': 8013, '찌애': 8014, '재치': 8015, '위트': 8016, '해학': 8017, '풍자': 8018, '세균': 8019, '이승환': 8020, '삼식이': 8021, '마로': 8022, '북극곰': 8023, '꾸꼼': 8024, '귄귄이': 8025, '쫌': 8026, '발화': 8027, '레이첼': 8028, '혐의': 8029, '붐': 8030, '간수': 8031, '현철': 8032, '뉴트리아': 8033, '포장마차': 8034, '포샵': 8035, '허상': 8036, '항시': 8037, '어장': 8038, '다행': 8039, '간지럽다': 8040, '라기보단': 8041, '순진무구': 8042, '무녀': 8043, '이만원': 8044, '오천원': 8045, '아프리카': 8046, '조숙하다': 8047, '훈희': 8048, '잿빛': 8049, '보구': 8050, '펜촉': 8051, '변봉': 8052, '스맨': 8053, '성운': 8054, '전면': 8055, '신수현': 8056, '대게': 8057, '인거': 8058, '드라코': 8059, '넬': 8060, '접수': 8061, '선별': 8062, '듭': 8063, '주황색': 8064, '은발': 8065, '로이첼그': 8066, '장로': 8067, '분기': 8068, '뼛속': 8069, '랍니': 8070, '타당': 8071, '한남': 8072, '이과': 8073, '정각': 8074, '슬라크트': 8075, '히슨': 8076, '뻐킹': 8077, '킬링': 8078, '평생토록': 8079, '곤욕': 8080, '선구': 8081, '기막히다': 8082, '하이델': 8083, '봉산': 8084, '오브젝트': 8085, '믹': 8086, '대량': 8087, '텍스트': 8088, '송하': 8089, '메르헨': 8090, '껍데기': 8091, '펫터펫터': 8092, '라퓌셀': 8093, '다린': 8094, '푸른빛': 8095, '배반': 8096, '구호': 8097, '제나르트': 8098, '소녀가장': 8099, '찜찜하다': 8100, '종소리': 8101, '기어오르다': 8102, '인디켓': 8103, '사형선고': 8104, '형수': 8105, '즉각': 8106, '제단': 8107, '과용': 8108, '흥미': 8109, '섥혀있는': 8110, '꼬임': 8111, '회정': 8112, '장편': 8113, '주택': 8114, '볼루': 8115, '비드': 8116, '얼리다': 8117, '한물가다': 8118, '이세현': 8119, '회연': 8120, '재시': 8121, '데크': 8122, '우스': 8123, '으로서는': 8124, '전투함': 8125, '레로텔라': 8126, '장벽': 8127, '단속': 8128, '형벌': 8129, '사일': 8130, '일개': 8131, '강서': 8132, '이인': 8133, '집캉스': 8134, '거실': 8135, '펜트': 8136, '속속': 8137, '기진': 8138, '변방': 8139, '에스테': 8140, '계주': 8141, '힐': 8142, '똑바로': 8143, '천대': 8144, '피오': 8145, '즉': 8146, '퀸': 8147, '단위': 8148, '잡화': 8149, '끌어내리다': 8150, '업데': 8151, '소피아': 8152, '이치': 8153, '맞닥뜨리': 8154, '이리저리': 8155, '야안': 8156, '공정': 8157, '떠돌아다니다': 8158, '하모': 8159, '파악': 8160, '오늘이': 8161, '에서부터': 8162, '살날': 8163, '정적': 8164, '공석': 8165, '등살': 8166, '떠밀다': 8167, '백설공주': 8168, '정원': 8169, '녹아내리다': 8170, '상실하다': 8171, '심령': 8172, '구부': 8173, '모험물': 8174, '하급': 8175, '최슬기': 8176, '가속': 8177, '치면': 8178, '문물': 8179, '중심지': 8180, '다이애나': 8181, '행인': 8182, '알렉산드라': 8183, '프로이센': 8184, '파우스트': 8185, '메피스토펠레스': 8186, '달토끼': 8187, '게임폐인': 8188, '티레시아스': 8189, '하선': 8190, '촉법': 8191, '윤여몽': 8192, '한수현': 8193, '이든지': 8194, '존재도': 8195, '창작': 8196, '고령': 8197, '직위': 8198, '무채색': 8199, '물매': 8200, '솔로몬': 8201, '길드': 8202, '명둘': 8203, '망조': 8204, '십장생': 8205, '아케': 8206, '태고': 8207, '아찬': 8208, '황치웅': 8209, '마가': 8210, '길잡이': 8211, '넷째': 8212, '선견자': 8213, '소하': 8214, '갈수': 8215, '외딴섬': 8216, '아마도': 8217, '해운대': 8218, '헨젤': 8219, '러셀': 8220, '엔피씨': 8221, '오르드': 8222, '불순': 8223, '검호': 8224, '범례': 8225, '차윤': 8226, '악괴': 8227, '갑작스럼': 8228, '허기': 8229, '무주': 8230, '고혼': 8231, '가무': 8232, '어쩌다가': 8233, '수호천사': 8234, '충견': 8235, '타로카드': 8236, '키슈': 8237, '신분제': 8238, '가위바위보': 8239, '일식': 8240, '월식': 8241, '의술': 8242, '어룰려': 8243, '디플로마': 8244, '티코': 8245, '백귀야행': 8246, '신성하다': 8247, '도신': 8248, '이해도': 8249, '알리': 8250, '최진혁': 8251, '신계': 8252, '록펠러': 8253, '장터': 8254, '로시': 8255, '짤툰': 8256, '휴고': 8257, '조선팔도': 8258, '명부': 8259, '염마': 8260, '세탁소': 8261, '시들다': 8262, '소수만': 8263, '따갑다': 8264, '수년': 8265, '호별': 8266, '유입': 8267, '치졸하다': 8268, '강력범죄': 8269, '별나라': 8270, '조력자': 8271, '채광': 8272, '변해진': 8273, '날씨': 8274, '나라새': 8275, '기우제': 8276, '약장': 8277, '따먹다': 8278, '김문영': 8279, '덕목': 8280, '대적': 8281, '벤다': 8282, '태남': 8283, '포식': 8284, '심각해지다': 8285, '식인종': 8286, '영역': 8287, '땅거미': 8288, '드리워지다': 8289, '짙어지다': 8290, '싫어지다': 8291, '중간지점': 8292, '변환': 8293, '트랜스': 8294, '도준': 8295, '콤달콤': 8296, '서왕모': 8297, '밭': 8298, '삼천갑자': 8299, '동방삭': 8300, '헤': 8301, '국더': 8302, '헤리스국': 8303, '다차원': 8304, '라베': 8305, '튜베로즈': 8306, '매출': 8307, '올려놓다': 8308, '유능하다': 8309, '나쁜남자': 8310, '혼재': 8311, '어반': 8312, '인조인간': 8313, '인계': 8314, '증가': 8315, '루시드': 8316, '무쓸력': 8317, '시윤': 8318, '맴도': 8319, '태원': 8320, '윤태준': 8321, '추출': 8322, '이익': 8323, '은별': 8324, '백도': 8325, '헤라': 8326, '안세정': 8327, '동락': 8328, '신파극': 8329, '명사': 8330, '진부하다': 8331, '브': 8332, '마인': 8333, '할로윈': 8334, '건너오다': 8335, '리콜': 8336, '이백': 8337, '동족': 8338, '미제': 8339, '삼장': 8340, '오공': 8341, '기요': 8342, '오천만원': 8343, '오케이': 8344, '라노': 8345, '이규희': 8346, '세남자': 8347, '흩다': 8348, '버스사고': 8349, '태경': 8350, '승하': 8351, '환경오염': 8352, '식충식물': 8353, '권모술수': 8354, '바람직하다': 8355, '라그나로크': 8356, '윤오랜': 8357, '난투극': 8358, '개척': 8359, '실험실': 8360, '자행': 8361, '한창': 8362, '이준석': 8363, '준석': 8364, '비물질': 8365, '오목눈이': 8366, '흔쾌하다': 8367, '살길': 8368, '쥐꼬리': 8369, '알아듣다': 8370, '실리다': 8371, '내쫓다': 8372, '열두': 8373, '십이지신': 8374, '더럽히다': 8375, '해령': 8376, '견족': 8377, '불완전하다': 8378, '찍': 8379, '반돌': 8380, '나오니': 8381, '마토': 8382, '카브르': 8383, '배틀로얄': 8384, '엄친딸': 8385, '시루': 8386, '지워지다': 8387, '요술': 8388, '왼쪽': 8389, '주요한': 8390, '피아': 8391, '몽룡': 8392, '증대': 8393, '치안': 8394, '대두': 8395, '블루칩': 8396, '막대': 8397, '이분': 8398, '두마': 8399, '선발': 8400, '폭발사고': 8401, '물증': 8402, '대치': 8403, '원일': 8404, '상이': 8405, '반룡': 8406, '무료함': 8407, '윌': 8408, '앨빈': 8409, '하루빨리': 8410, '내처': 8411, '육도': 8412, '항하사': 8413, '삼세': 8414, '명설': 8415, '응시': 8416, '항하': 8417, '육도윤회': 8418, '선봉': 8419, '어기다': 8420, '천녀': 8421, '내세': 8422, '습작': 8423, '지긋지긋': 8424, '백의사': 8425, '역모': 8426, '견호': 8427, '갈고': 8428, '닦다': 8429, '래세': 8430, '탐색': 8431, '보존': 8432, '의중': 8433, '케이': 8434, '게임중독': 8435, '김영': 8436, '가하다': 8437, '지신': 8438, '비루하다': 8439, '주전자': 8440, '자연스레': 8441, '관찰자': 8442, '변치': 8443, '순리': 8444, '이변': 8445, '엘레': 8446, '백상아리': 8447, '집합': 8448, '섬기다': 8449, '제정일치': 8450, '다브': 8451, '교황': 8452, '뽑기': 8453, '신탁': 8454, '여우비': 8455, '주환': 8456, '후회되다': 8457, '테크놀로지': 8458, '생업': 8459, '역신': 8460, '빈센트': 8461, '천자': 8462, '제신': 8463, '인검': 8464, '팔괘': 8465, '에루': 8466, '라면서': 8467, '지겹다': 8468, '구별': 8469, '항아': 8470, '사하': 8471, '앗': 8472, '평화로': 8473, '강민혁': 8474, '도입': 8475, '범죄예방': 8476, '함대': 8477, '돌입': 8478, '마나': 8479, '찰칵': 8480, '수인': 8481, '헤스': 8482, '톤': 8483, '몰두하다': 8484, '에게로': 8485, '독신남': 8486, '아이아이': 8487, '비트윈': 8488, '레버': 8489, '가든': 8490, '무릉도원': 8491, '이철하': 8492, '포뢰': 8493, '어부': 8494, '채월': 8495, '으뜸': 8496, '군무': 8497, '화음': 8498, '일품': 8499, '가쵸': 8500, '나치': 8501, '알아차리다': 8502, '스팀': 8503, '히틀러': 8504, '야망': 8505, '저지': 8506, '빛비': 8507, '테이밍': 8508, '거스른': 8509, '시선집중': 8510, '조연': 8511, '대쉬': 8512, '세명': 8513, '메시아': 8514, '옐로': 8515, '이지은': 8516, '영리하다': 8517, '웃기': 8518, '배관': 8519, '디스크': 8520, '사용자': 8521, '로빈': 8522, '판권': 8523, '린델': 8524, '워커': 8525, '펠던': 8526, '탄압': 8527, '원시인': 8528, '싱크로': 8529, '요격': 8530, '리베': 8531, '각박하다': 8532, '이교도': 8533, '주어': 8534, '이소리': 8535, '명소': 8536, '조디': 8537, '화장': 8538, '길목': 8539, '비련': 8540, '줄리엣': 8541, '어둑서': 8542, '만족하다': 8543, '방관': 8544, '루브르': 8545, '홍유': 8546, '태그': 8547, '철밥통': 8548, '팽이': 8549, '유태': 8550, '구더기': 8551, '라드': 8552, '하피': 8553, '안준': 8554, '리젤': 8555, '발악': 8556, '미샤': 8557, '용품': 8558, '소혜': 8559, '유명인사': 8560, '루이스': 8561, '기업인': 8562, '클라우드': 8563, '세피아': 8564, '첩보': 8565, '남해': 8566, '다바람': 8567, '다스': 8568, '몬트': 8569, '섀도우': 8570, '중순': 8571, '무장': 8572, '땅집': 8573, '셴위': 8574, '정물': 8575, '남준': 8576, '활빈당': 8577, '과거제': 8578, '루이': 8579, '파고': 8580, '애로우': 8581, '골로': 8582, '미용': 8583, '정력': 8584, '말르다': 8585, '격는': 8586, '후버': 8587, '그레이': 8588, '된거': 8589, '노미': 8590, '예정자': 8591, '제아': 8592, '찌꺼기': 8593, '하루살이': 8594, '아이덴': 8595, '굴절': 8596, '괴기하다': 8597, '플럭스': 8598, '통로': 8599, '다기': 8600, '김도진': 8601, '주발': 8602, '내륙': 8603, '키로': 8604, '어새신': 8605, '환타지': 8606, '헥헥': 8607, '웨이커스': 8608, '볼일': 8609, '익사': 8610, '벽돌': 8611, '굼벵이': 8612, '극악하다': 8613, '혜지': 8614, '리즈시절': 8615, '인삼': 8616, '공학자': 8617, '미카': 8618, '강민우': 8619, '구조대': 8620, '스타더스트': 8621, '류솔': 8622, '류봄': 8623, '순직': 8624, '정무': 8625, '이신아': 8626, '생판': 8627, '순다': 8628, '유래': 8629, '치레': 8630, '득세': 8631, '불평등': 8632, '프리트': 8633, '어의': 8634, '에셰크': 8635, '마스코트': 8636, '쥬브나일스': 8637, '환석': 8638, '천부인': 8639, '여태': 8640, '바난': 8641, '위탁': 8642, '가루': 8643, '묘단': 8644, '사욕': 8645, '성채': 8646, '빌리버': 8647, '무용담': 8648, '작성': 8649, '설문지': 8650, '고요한': 8651, '기담': 8652, '동백': 8653, '마렴': 8654, '시엘': 8655, '로사': 8656, '코르': 8657, '안데르센': 8658, '어린소년': 8659, '마당': 8660, '선잭': 8661, '심리전': 8662, '잘해주다': 8663, '줄줄': 8664, '에라도': 8665, '홀린': 8666, '박스': 8667, '진실인': 8668, '마그': 8669, '못난이': 8670, '눔': 8671, '이점': 8672, '서은수': 8673, '리브': 8674, '지하감옥': 8675, '죄수': 8676, '고요하다': 8677, '동심파괴': 8678, '천진교': 8679, '공동체': 8680, '의견': 8681, '발발': 8682, '연합국': 8683, '도나': 8684, '뚱녀': 8685, '종적': 8686, '낌새': 8687, '힐데르트': 8688, '벨라': 8689, '요쉬드': 8690, '흉내': 8691, '만사': 8692, '로체': 8693, '골비': 8694, '무지하다': 8695, '틈새': 8696, '자철': 8697, '현상금': 8698, '발휘': 8699, '악용': 8700, '동분서주': 8701, '정처': 8702, '해하': 8703, '오브': 8704, '챔프': 8705, '디지털싱글': 8706, '발표': 8707, '삼국유사': 8708, '아르테': 8709, '파헤': 8710, '진현': 8711, '만물상': 8712, '방랑자': 8713, '판타스틱': 8714, '로기': 8715, '셀러브리티': 8716, '죄인': 8717, '너와나': 8718, '일때': 8719, '찬얼': 8720, '화실': 8721, '근근히': 8722, '마몬': 8723, '자녀': 8724, '조엘': 8725, '창공': 8726, '윤호': 8727, '입신': 8728, '르노': 8729, '자지': 8730, '도심': 8731, '판자촌': 8732, '고릴라': 8733, '대장장이': 8734, '판티움': 8735, '산물': 8736, '우우': 8737, '충무공': 8738, '드라마틱': 8739, '전모': 8740, '행월': 8741, '얼결': 8742, '재개': 8743, '나누어지다': 8744, '후진': 8745, '침수': 8746, '폴리스': 8747, '반어': 8748, '비리다': 8749, '라네': 8750, '홍연': 8751, '온건': 8752, '샤프': 8753, '주된': 8754, '임종': 8755, '불사조': 8756, '수퍼히어로': 8757, '왕루': 8758, '쿤': 8759, '탈환': 8760, '후식': 8761, '사적': 8762, '인섹': 8763, '키메라': 8764, '이방원': 8765, '메모리': 8766, '아폴로': 8767, '모른체': 8768, '정지': 8769, '마샤': 8770, '기면증': 8771, '간병': 8772, '은자': 8773, '페이블': 8774, '파블': 8775, '요람': 8776, '누비': 8777, '기프트': 8778, '민족': 8779, '국기': 8780, '사방신': 8781, '소은': 8782, '변경': 8783, '바로가기': 8784, '렛타': 8785, '부동산': 8786, '씰': 8787, '신룡': 8788, '겉옷': 8789, '사전': 8790, '순우리말': 8791, '글레이저': 8792, '꼴다': 8793, '은월': 8794, '백의': 8795, '통틀어': 8796, '파르카': 8797, '일컫다': 8798, '당돌하다': 8799, '윤회전생': 8800, '생전': 8801, '옥황': 8802, '샷건': 8803, '병행': 8804, '분만': 8805, '상류층': 8806, '강익': 8807, '내무': 8808, '김태리': 8809, '봇': 8810, '파스': 8811, '은폐': 8812, '다차': 8813, '인간펫': 8814, '결탁': 8815, '탐관': 8816, '대중화': 8817, '케이트': 8818, '와이드': 8819, '극화': 8820, '무표정': 8821, '변모': 8822, '제프': 8823, '윈스턴': 8824, '버팔로': 8825, '발전소': 8826, '속속히': 8827, '민낯': 8828, '잔해': 8829, '빔볼': 8830, '알파메일': 8831, '현성': 8832, '초랭': 8833, '응징': 8834, '한진우': 8835, '못지않다': 8836, '크로니클': 8837, '건축가': 8838, '고정': 8839, '무인': 8840, '문인': 8841, '네오': 8842, '정키': 8843, '억압': 8844, '투옥': 8845, '전국구': 8846, '화요': 8847, '천궁': 8848, '주드': 8849, '노바': 8850, '왜소하다': 8851, '난후': 8852, '대처': 8853, '높이다': 8854, '매년': 8855, '영진': 8856, '김치우': 8857, '아성': 8858, '티라노사우루스': 8859, '특구': 8860, '정천': 8861, '환락가': 8862, '유통': 8863, '속죄': 8864, '총동원': 8865, '모세': 8866, '야산': 8867, '풋살': 8868, '라벨': 8869, '늪': 8870, '이몽룡': 8871, '성춘향': 8872, '루프': 8873, '득실': 8874, '본토': 8875, '이드를': 8876, '명준': 8877, '저스티스': 8878, '대준': 8879, '로보택': 8880, '틱': 8881, '스게': 8882, '강세현': 8883, '핏줄': 8884, '발렌티노': 8885, '얼토당토않다': 8886, '코놈': 8887, '시술': 8888, '리벤지': 8889, '음지': 8890, '가림': 8891, '온당': 8892, '유천': 8893, '오예': 8894, '일후': 8895, '방밖': 8896, '소탕': 8897, '퇴역': 8898, '날라리': 8899, '무당파': 8900, '금지법': 8901, '뉴클리어': 8902, '진원': 8903, '진산군': 8904, '복리': 8905, '곽창호': 8906, '잔인': 8907, '포스트': 8908, '로드': 8909, '협객': 8910, '세기말': 8911, '권세가': 8912, '택견': 8913, '염증': 8914, '커서': 8915, '태식': 8916, '이상향': 8917, '극소': 8918, '로마시대': 8919, '검투사': 8920, '묘기': 8921, '엇': 8922, '훈육': 8923, '이따금': 8924, '경화': 8925, '번잡': 8926, '동떨어지다': 8927, '월령': 8928, '제사장': 8929, '청월': 8930, '화연': 8931, '다발': 8932, '감염병': 8933, '대구': 8934, '초신성': 8935, '베텔게우스': 8936, '기다림': 8937, '서럽다': 8938, '설기': 8939, '마취': 8940, '치트키': 8941, '신형': 8942, '절도': 8943, '호텔리어': 8944, '네가지': 8945, '차민현': 8946, '이상만': 8947, '무급': 8948, '악덕': 8949, '고용주': 8950, '코트': 8951, '이재혁': 8952, '육각형': 8953, '연예인병': 8954, '역도': 8955, '파워리프팅': 8956, '과방': 8957, '베이지': 8958, '순백': 8959, '임수아': 8960, '도경': 8961, '화장실': 8962, '깜깜': 8963, '상자': 8964, '나뒹굴다': 8965, '미도': 8966, '집사람': 8967, '윙': 8968, '발칙': 8969, '장금': 8970, '백종원': 8971, '김지현': 8972, '이가연': 8973, '난생': 8974, '장관': 8975, '민영은': 8976, '구사일생': 8977, '퇴임': 8978, '혜란': 8979, '피난민': 8980, '칼렘': 8981, '테노': 8982, '기미': 8983, '참담하다': 8984, '날테노': 8985, '천거': 8986, '세자익위사': 8987, '보병': 8988, '대인': 8989, '복숭': 8990, '오흥': 8991, '흥선': 8992, '양친': 8993, '아이든': 8994, '둘러싸이다': 8995, '곰인형': 8996, '강단': 8997, '종현': 8998, '시미': 8999, '카오리': 9000, '빚쟁이': 9001, '공중보건': 9002, '도지': 9003, '사생': 9004, '잔류': 9005, '출입': 9006, '사감': 9007, '야구선수': 9008, '폴': 9009, '갖가지': 9010, '막노동': 9011, '인력': 9012, '정서연': 9013, '전수진': 9014, '내막': 9015, '강수혁': 9016, '당사자': 9017, '까풀': 9018, '의구': 9019, '앞가림': 9020, '천장': 9021, '내려앉다': 9022, '깨뜨리다': 9023, '숙면': 9024, '남돌': 9025, '최윤서': 9026, '직무': 9027, '월음': 9028, '인조반정': 9029, '폐위': 9030, '측근': 9031, '휘하': 9032, '송희립': 9033, '유성룡': 9034, '국난': 9035, '광해': 9036, '의족': 9037, '외발': 9038, '익스트림': 9039, '발자취': 9040, '동명': 9041, '서프': 9042, '써니': 9043, '프': 9044, '송': 9045, '시청': 9046, '목화': 9047, '연리지': 9048, '과극': 9049, '타락천사': 9050, '파벌': 9051, '아트디렉터': 9052, '유봄': 9053, '아이돌가수': 9054, '대공국': 9055, '페마': 9056, '황국': 9057, '귀염둥이': 9058, '궁정': 9059, '신라': 9060, '퍙': 9061, '브리더스': 9062, '정준': 9063, '회포': 9064, '캠': 9065, '루머': 9066, '로코': 9067, '출전': 9068, '고덕': 9069, '명망': 9070, '독서': 9071, '김영길': 9072, '영길': 9073, '출판': 9074, '체념하다': 9075, '진득': 9076, '윤초': 9077, '작일': 9078, '대다수': 9079, '무관심': 9080, '암울하다': 9081, '공수혁': 9082, '동운': 9083, '쩜': 9084, '오반': 9085, '이용자': 9086, '성태': 9087, '노빠꾸': 9088, '이틀': 9089, '박두': 9090, '안전': 9091, '패스트푸드': 9092, '친부': 9093, '갱신': 9094, '일정': 9095, '일자': 9096, '심연': 9097, '승아': 9098, '보컬': 9099, '성연': 9100, '통령': 9101, '보이즈': 9102, '싹': 9103, '트기': 9104, '길초롱': 9105, '달린다': 9106, '시내': 9107, '한정우': 9108, '룩': 9109, '나빌레라': 9110, '자연환경': 9111, '이십': 9112, '대악': 9113, '명분': 9114, '태훈': 9115, '설전': 9116, '장래': 9117, '사주': 9118, '화수': 9119, '데이터': 9120, '다주': 9121, '다트': 9122, '정선': 9123, '시월': 9124, '짜이다': 9125, '섥힌': 9126, '국내성': 9127, '백면서생': 9128, '비툰': 9129, '구완': 9130, '남미': 9131, '뽑히다': 9132, '나인': 9133, '김개시': 9134, '강향': 9135, '고왕': 9136, '차영': 9137, '편성': 9138, '솔로인': 9139, '지름': 9140, '그까짓': 9141, '임진년': 9142, '건국': 9143, '국토': 9144, '휩쓸다': 9145, '민초': 9146, '세모': 9147, '아물다': 9148, '동그랗다': 9149, '정다운': 9150, '송세하': 9151, '수정과': 9152, '이진수': 9153, '맞은편': 9154, '각고': 9155, '노오': 9156, '렀': 9157, '서진': 9158, '교환일기': 9159, '문석호': 9160, '익명성': 9161, '추악하다': 9162, '톡방': 9163, '괴사': 9164, '진광': 9165, '사하다': 9166, '해시태그': 9167, '도레미': 9168, '유야': 9169, '이호경': 9170, '애나': 9171, '동양인': 9172, '한지붕': 9173, '서먹하다': 9174, '친한친구': 9175, '초현': 9176, '장거리': 9177, '스트리트': 9178, '강설': 9179, '림혼': 9180, '조심스럽다': 9181, '비유': 9182, '버릇': 9183, '이소담': 9184, '변수': 9185, '이아': 9186, '연극인': 9187, '등지': 9188, '민하': 9189, '문학': 9190, '자율학습': 9191, '유럽인': 9192, '룽': 9193, '류비': 9194, '저기': 9195, '보단': 9196, '현상금사냥꾼': 9197, '달콥': 9198, '치약': 9199, '성하': 9200, '은한': 9201, '팬사인회': 9202, '썸남썸녀': 9203, '점술': 9204, '인내': 9205, '곡선': 9206, '롤러코스터': 9207, '요동치다': 9208, '오리속': 9209, '전화기': 9210, '준웅': 9211, '민태현': 9212, '중턱': 9213, '한쪽': 9214, '팔로': 9215, '박정민': 9216, '강언': 9217, '구명': 9218, '색칠': 9219, '밑그림': 9220, '몽상가': 9221, '흐려지다': 9222, '단박': 9223, '배팅': 9224, '뻐렁치': 9225, '일코': 9226, '화별': 9227, '접시': 9228, '호실': 9229, '부정부패': 9230, '사오': 9231, '권필': 9232, '경주마': 9233, '좌우': 9234, '경마': 9235, '은행': 9236, '지하도': 9237, '박편': 9238, '체크': 9239, '단풍': 9240, '정시': 9241, '김현우': 9242, '수염': 9243, '양아버지': 9244, '릴리안': 9245, '오라비': 9246, '면식': 9247, '신사': 9248, '로맨스소설': 9249, '싸이다': 9250, '윤제': 9251, '시범': 9252, '마운틴': 9253, '위드': 9254, '춘몽': 9255, '기획사': 9256, '왕권': 9257, '청소년기': 9258, '안정': 9259, '손발': 9260, '더쿠': 9261, '부기': 9262, '키알': 9263, '미백': 9264, '바코드': 9265, '따끈하다': 9266, '천벌': 9267, '조장': 9268, '묶인': 9269, '충실하다': 9270, '시급': 9271, '애달프다': 9272, '엄지': 9273, '백마': 9274, '남신': 9275, '웨딩드레스': 9276, '왕관': 9277, '평등하다': 9278, '엽서': 9279, '트라이앵글': 9280, '자수정': 9281, '옷감': 9282, '국도': 9283, '남루하다': 9284, '순수': 9285, '원택': 9286, '마익훈': 9287, '언더그라운드': 9288, '루키였던': 9289, '이글': 9290, '간부': 9291, '무미건조하다': 9292, '칫솔': 9293, '물개': 9294, '마피': 9295, '재온': 9296, '중편': 9297, '초대장': 9298, '식비': 9299, '생활비': 9300, '학비': 9301, '낮선': 9302, '뇌구조': 9303, '꿍꿍': 9304, '당췌': 9305, '러브픽션': 9306, '익스트림스포츠': 9307, '의제': 9308, '의자': 9309, '세친구': 9310, '샌드위치': 9311, '곰돌이': 9312, '길냥이': 9313, '신고식': 9314, '춤': 9315, '리세': 9316, '뮤직스타': 9317, '들레다': 9318, '줄리': 9319, '투더': 9320, '퓨쳐': 9321, '세준': 9322, '집고양이': 9323, '마마': 9324, '고시생': 9325, '소임': 9326, '레이스': 9327, '프로레슬링': 9328, '디바': 9329, '날다람쥐': 9330, '데스티니': 9331, '펜팔': 9332, '호프': 9333, '도화살': 9334, '나뭇잎': 9335, '까르륵': 9336, '예종': 9337, '고냥이': 9338, '신후': 9339, '동화작가': 9340, '윤동화': 9341, '격려': 9342, '초롱': 9343, '뚜렷하다': 9344, '마사': 9345, '강찬': 9346, '유시': 9347, '교차': 9348, '숨지다': 9349, '궐': 9350, '제멋대로': 9351, '변화구': 9352, '권하다': 9353, '깔끔쟁': 9354, '이재익': 9355, '허완': 9356, '미심': 9357, '장하다': 9358, '법대': 9359, '격해지다': 9360, '나호': 9361, '이탈리아': 9362, '이신': 9363, '요양': 9364, '김하람': 9365, '훈훈': 9366, '함묵': 9367, '대시': 9368, '장본인': 9369, '장선호': 9370, '커플링': 9371, '고리대금업': 9372, '자초': 9373, '수온': 9374, '정길영': 9375, '불길': 9376, '길동': 9377, '판단력': 9378, '화홍각': 9379, '노름': 9380, '무연': 9381, '줏대': 9382, '이조': 9383, '못자다': 9384, '보름': 9385, '오유진': 9386, '백아리': 9387, '유사': 9388, '딱지': 9389, '투명': 9390, '짭짤하다': 9391, '잔향': 9392, '천씨': 9393, '자격지심': 9394, '큐레이터': 9395, '맑다': 9396, '화창하다': 9397, '중종': 9398, '진성대군': 9399, '이역': 9400, '고조선': 9401, '순의': 9402, '옛이야기': 9403, '삼은': 9404, '뿌듯하다': 9405, '부농': 9406, '부드러움': 9407, '멘스': 9408, '별똥별': 9409, '고로': 9410, '가정교사': 9411, '스완': 9412, '몬티첼로': 9413, '가연': 9414, '소울메이트': 9415, '울면': 9416, '백산': 9417, '썸씽': 9418, '방한': 9419, '왕세손': 9420, '타계': 9421, '도선': 9422, '머무르다': 9423, '이어도': 9424, '곡': 9425, '옜날': 9426, '실황': 9427, '금녀': 9428, '구락부': 9429, '제갈량': 9430, '퓨젼': 9431, '다빈치': 9432, '박복하다': 9433, '다세포': 9434, '가표': 9435, '총구': 9436, '윈': 9437, '낙': 9438, '바깥': 9439, '호풍': 9440, '의리': 9441, '마케팅': 9442, '곽백수': 9443, '한나나': 9444, '윤세이': 9445, '아수아': 9446, '개인정보': 9447, '수집': 9448, '홀연': 9449, '칠이': 9450, '로또': 9451, '유은워': 9452, '흉내내': 9453, '소용없다': 9454, '곁들이다': 9455, '콤보': 9456, '유은': 9457, '작물': 9458, '틀어막다': 9459, '짓누르다': 9460, '기세계': 9461, '반니': 9462, '동우': 9463, '신토': 9464, '드랍': 9465, '비트': 9466, '송강기': 9467, '계열': 9468, '갓트': 9469, '육식계': 9470, '트집': 9471, '박성기': 9472, '부위': 9473, '박진': 9474, '강변': 9475, '야영지': 9476, '자세': 9477, '이요한': 9478, '좁히다': 9479, '근대': 9480, '리피': 9481, '열기': 9482, '검도장': 9483, '명동': 9484, '세진': 9485, '집요하다': 9486, '뚜치': 9487, '뚜': 9488, '임원': 9489, '여직원': 9490, '틀어박히다': 9491, '개밥': 9492, '안부': 9493, '배당': 9494, '개장': 9495, '아마란스': 9496, '바울': 9497, '휠체어': 9498, '나진': 9499, '퇴짜': 9500, '갸': 9501, '몸값': 9502, '장만': 9503, '강현': 9504, '떼': 9505, '불우하다': 9506, '거상': 9507, '김만덕': 9508, '구봉': 9509, '격투게임': 9510, '피스': 9511, '윤시우': 9512, '맨더': 9513, '지루함': 9514, '재패': 9515, '파루': 9516, '은정': 9517, '남일': 9518, '약골': 9519, '상쇄되': 9520, '격기반': 9521, '극지': 9522, '절륜': 9523, '군단': 9524, '순경': 9525, '욜로': 9526, '겨눈': 9527, '남도': 9528, '친일': 9529, '징크스': 9530, '볕': 9531, '경비원': 9532, '인적': 9533, '드물다': 9534, '경비실': 9535, '주도': 9536, '싹수': 9537, '농사': 9538, '호드': 9539, '육경': 9540, '쉴드': 9541, '학벌': 9542, '의아': 9543, '실내': 9544, '사무직': 9545, '계룡산': 9546, '벙': 9547, '이순': 9548, '효시': 9549, '길창덕': 9550, '깊이': 9551, '오래도록': 9552, '야후': 9553, '부머': 9554, '원효대사': 9555, '키루': 9556, '루키루': 9557, '마삼룡': 9558, '식민': 9559, '친일파': 9560, '대지주': 9561, '몸종': 9562, '독립운동가': 9563, '의현': 9564, '풋풋': 9565, '대책': 9566, '만가': 9567, '용비': 9568, '불패': 9569, '강룡': 9570, '강유': 9571, '우암': 9572, '골방': 9573, '환상곡': 9574, '워니': 9575, '블론디': 9576, '흑표범': 9577, '몬자': 9578, '반박': 9579, '문과': 9580, '되다최삡뺩': 9581, '자괴': 9582, '대일': 9583, '김용': 9584, '비경': 9585, '쥐뿔': 9586, '교장': 9587, '꾸리다': 9588, '홍삼': 9589, '과지': 9590, '대놓고': 9591, '하그': 9592, '객잔': 9593, '로티': 9594, '용철': 9595, '청담': 9596, '핫걸': 9597, '초코': 9598, '접속': 9599, '그야말로': 9600, '생방송': 9601, '풍요롭': 9602, '홍상': 9603, '연꽃': 9604, '전전': 9605, '홍년': 9606, '제약': 9607, '이강일': 9608, '홍의': 9609, '구석구석': 9610, '파파라치': 9611, '기웅그': 9612, '불치': 9613, '크기': 9614, '인체': 9615, '빠': 9616, '청정': 9617, '흐릿': 9618, '손해': 9619, '축구장': 9620, '해만': 9621, '변기': 9622, '자미': 9623, '천만원': 9624, '지급': 9625, '잔고': 9626, '미달': 9627, '퇴학': 9628, '세실고': 9629, '배신자': 9630, '훗날': 9631, '국세청': 9632, '탈세': 9633, '잡아내다': 9634, '찬탈': 9635, '변국': 9636, '블러디': 9637, '고결하다': 9638, '이름나다': 9639, '인접': 9640, '알펜시아': 9641, '외교': 9642, '약탈혼': 9643, '북': 9644, '이병': 9645, '탈남': 9646, '천식': 9647, '제갈': 9648, '카이저': 9649, '헤비급': 9650, '버': 9651, '무수': 9652, '서번트': 9653, '박시온': 9654, '동전': 9655, '양면': 9656, '정상인': 9657, '한심하다': 9658, '소굴': 9659, '도천동': 9660, '흉가': 9661, '입자': 9662, '암행어사': 9663, '증강': 9664, '왜곡': 9665, '음기': 9666, '갈취': 9667, '세민': 9668, '다점': 9669, '입가': 9670, '자네': 9671, '개도': 9672, '걸세': 9673, '만둣가': 9674, '친우': 9675, '부관': 9676, '조국': 9677, '루시펠': 9678, '아이딘': 9679, '리그베다': 9680, '이영아': 9681, '렌': 9682, '브레히트': 9683, '유원': 9684, '최우식': 9685, '전교꼴등': 9686, '최웅': 9687, '초도': 9688, '국연': 9689, '어리석음': 9690, '시계탑': 9691, '이영은': 9692, '미스테리물': 9693, '벗겨지다': 9694, '표정': 9695, '정모': 9696, '흑염룡': 9697, '후준': 9698, '이근영': 9699, '융자': 9700, '해인': 9701, '컴플렉스': 9702, '오바람': 9703, '맴돈다': 9704, '북극': 9705, '무분별': 9706, '벌리다': 9707, '설윤': 9708, '월흔': 9709, '들르다': 9710, '이아름': 9711, '저편': 9712, '혹': 9713, '득': 9714, '진수': 9715, '실로': 9716, '서클': 9717, '간지': 9718, '골키퍼': 9719, '바이오': 9720, '임상실험': 9721, '의수': 9722, '증식': 9723, '연습': 9724, '움직': 9725, '물러서다': 9726, '기사도': 9727, '기타리스트': 9728, '포츠': 9729, '연주가': 9730, '발걸음': 9731, '형님': 9732, '룰': 9733, '완다': 9734, '띄우다': 9735, '남산타워': 9736, '은희': 9737, '미키': 9738, '로드무비': 9739, '상주': 9740, '스핀오프': 9741, '빠루': 9742, '최창무': 9743, '맹물': 9744, '뱅': 9745, '단아': 9746, '고하': 9747, '불어': 9748, '김남주': 9749, '발길질': 9750, '건물붕괴': 9751, '정황': 9752, '다수': 9753, '밀실살인': 9754, '기성세대': 9755, '꼰대들': 9756, '발언': 9757, '법도': 9758, '츄리닝': 9759, '신국': 9760, '후광': 9761, '황재호': 9762, '차리기': 9763, '사생팬': 9764, '연극배우': 9765, '은솔': 9766, '아카시아': 9767, '쪽잠': 9768, '취임식': 9769, '최정민': 9770, '각지': 9771, '빌딩': 9772, '자산': 9773, '하락': 9774, '주입': 9775, '네팔': 9776, '동일': 9777, '폐공': 9778, '천운': 9779, '무병장수': 9780, '치웅리그곳': 9781, '속물': 9782, '이대환': 9783, '만복': 9784, '강주': 9785, '구실': 9786, '더니': 9787, '어째돈': 9788, '갈피': 9789, '생명보험': 9790, '다운로드': 9791, '기주': 9792, '저음': 9793, '꽂히다': 9794, '비쩍': 9795, '대아': 9796, '회비': 9797, '이현민': 9798, '퇴근길': 9799, '서성이다': 9800, '해리포터': 9801, '럭셔리': 9802, '퍼스트클래스': 9803, '유신': 9804, '각오': 9805, '우주력': 9806, '간이': 9807, '파레': 9808, '나태': 9809, '단련하다': 9810, '전리품': 9811, '은우': 9812, '재희': 9813, '정윤환': 9814, '사자혁': 9815, '주유': 9816, '귀귀': 9817, '은총': 9818, '도가니': 9819, '등록금': 9820, '평가자': 9821, '중갑작스레': 9822, '누굴까': 9823, '서치': 9824, '리플리': 9825, '앰버': 9826, '부흥': 9827, '깔끔하다': 9828, '키시': 9829, '시오': 9830, '수민': 9831, '그러니까': 9832, '파이터': 9833, '너투버': 9834, '타칭': 9835, '눈덩이': 9836, '차결': 9837, '양육': 9838, '나대다': 9839, '얌전하다': 9840, '주자': 9841, '인고': 9842, '의학': 9843, '윤시아': 9844, '라고는': 9845, '김민호': 9846, '최준': 9847, '웅세': 9848, '연한': 9849, '보신': 9850, '닥치고': 9851, '안하무인': 9852, '뚱냥': 9853, '차혜성': 9854, '집기': 9855, '나주': 9856, '덕이': 9857, '뿜뿜': 9858, '기유': 9859, '난감': 9860, '빠방': 9861, '블록': 9862, '슛': 9863, '승찬': 9864, '출연자': 9865, '점핑': 9866, '조니': 9867, '산업': 9868, '연장': 9869, '근후': 9870, '억원': 9871, '재경': 9872, '권한': 9873, '억이': 9874, '황금색': 9875, '캐리어': 9876, '처자': 9877, '로섬': 9878, '뉴심칩': 9879, '창의': 9880, '깡촌': 9881, '김순': 9882, '손고': 9883, '부숭부숭': 9884, '연해주': 9885, '아비지옥': 9886, '껍질': 9887, '비료': 9888, '무간지옥': 9889, '다리다': 9890, '쌉싸르': 9891, '가담': 9892, '항설': 9893, '니나': 9894, '유치': 9895, '뽕짝': 9896, '다부지다': 9897, '미기': 9898, '문구': 9899, '스티커': 9900, '거짓말쟁이': 9901, '몰리': 9902, '미움': 9903, '씩씩하다': 9904, '참치': 9905, '돌고래': 9906, '도장': 9907, '야야': 9908, '꼬셔봐': 9909, '꼬실': 9910, '동태': 9911, '심리학자': 9912, '프로스트': 9913, '습하다': 9914, '덧': 9915, '닥터프로스트': 9916, '윤성아': 9917, '하운드': 9918, '산부인과': 9919, '논문': 9920, '중구': 9921, '난방': 9922, '단기': 9923, '이래': 9924, '제한': 9925, '급증': 9926, '숙성': 9927, '제작사': 9928, '킹스턴': 9929, '와이': 9930, '천문학': 9931, '박하다': 9932, '부당': 9933, '사르르': 9934, '렌징': 9935, '딘': 9936, '김주': 9937, '김달수': 9938, '수퍼': 9939, '포로': 9940, '연오': 9941, '황귀비': 9942, '대성': 9943, '부계': 9944, '협잡': 9945, '정실': 9946, '선요': 9947, '이동건': 9948, '기계로': 9949, '전교생': 9950, '양도': 9951, '이체': 9952, '거액': 9953, '답안': 9954, '손가락질': 9955, '맹': 9956, '철옹성': 9957, '함락': 9958, '그다음': 9959, '큰일': 9960, '저런': 9961, '서운하다': 9962, '고산': 9963, '미라클': 9964, '백승혁': 9965, '병아리': 9966, '다예': 9967, '군기': 9968, '고열': 9969, '트레이너': 9970, '강숙희': 9971, '섭외': 9972, '경주로': 9973, '끓다': 9974, '탐험가': 9975, '거머': 9976, '스테치': 9977, '아텔리어': 9978, '메멘토': 9979, '템': 9980, '장대': 9981, '데드퀸': 9982, '바티칸': 9983, '다혈질': 9984, '근신': 9985, '도거': 9986, '취했다': 9987, '한지훈': 9988, '어리광': 9989, '손가락': 9990, '낙엽': 9991, '햇살': 9992, '꽃봉오리': 9993, '나일': 9994, '백정': 9995, '삼복': 9996, '장손': 9997, '전우진': 9998, '백화': 9999, '간청': 10000, '짐작': 10001, '올라타다': 10002, '하태수': 10003, '차량': 10004, '전복': 10005, '기억상실증': 10006, '전선': 10007, '지푸라기': 10008, '심정': 10009, '첫인상': 10010, '무명도': 10011, '술술': 10012, '외교부': 10013, '문관': 10014, '가라': 10015, '징역': 10016, '비주': 10017, '꼬셔': 10018, '김성모': 10019, '숙청': 10020, '칼라일': 10021, '자신감': 10022, '도완': 10023, '상우': 10024, '수강생': 10025, '의과': 10026, '토의': 10027, '어리둥절하다': 10028, '미안': 10029, '임자': 10030, '뼈': 10031, '라미': 10032, '서건우': 10033, '민서연': 10034, '김태경': 10035, '김승민': 10036, '직행': 10037, '탈퇴': 10038, '인원': 10039, '합체': 10040, '주작': 10041, '현무': 10042, '증표': 10043, '석촌': 10044, '광렬경찰': 10045, '제보자': 10046, '들개': 10047, '광렬': 10048, '굴덕': 10049, '넘겨주다': 10050, '감생': 10051, '표피': 10052, '따개비': 10053, '고해성사': 10054, '주홍글씨': 10055, '으른들': 10056, '품행': 10057, '모범': 10058, '결하': 10059, '강백현': 10060, '내부고발자': 10061, '한직': 10062, '뺑소니': 10063, '최용규': 10064, '찜질방': 10065, '냉동': 10066, '보관': 10067, '라나': 10068, '톱니바퀴': 10069, '남양주': 10070, '힌타': 10071, '캐넛': 10072, '연하늘': 10073, '진분홍': 10074, '비상구': 10075, '가버리다': 10076, '오프너': 10077, '하민이': 10078, '데뷰': 10079, '준우': 10080, '원픽': 10081, '디맨': 10082, '영화감독': 10083, '레인보우': 10084, '루벨': 10085, '가련하다': 10086, '띠롱': 10087, '사냥개': 10088, '현주': 10089, '불로소득': 10090, '수산': 10091, '일보': 10092, '어촌': 10093, '빠찌': 10094, '신문수': 10095, '로봇찌빠': 10096, '김상욱': 10097, '로봇빠찌': 10098, '페르세포네': 10099, '초장': 10100, '롤랑': 10101, '루이사': 10102, '교단': 10103, '경호원': 10104, '구슬': 10105, '삽화가': 10106, '바스티안': 10107, '에펜베르크': 10108, '비셸': 10109, '평탄하다': 10110, '임달영': 10111, '이수현': 10112, '소울': 10113, '폐업': 10114, '모바일': 10115, '컵': 10116, '벌칙': 10117, '손태': 10118, '규': 10119, '근성': 10120, '화차': 10121, '부술': 10122, '리트': 10123, '리츠': 10124, '에드워드': 10125, '슬럼': 10126, '바꿔치다': 10127, '엔터': 10128, '언론플레이': 10129, '늦추다': 10130, '다행하다': 10131, '간만': 10132, '용이산다': 10133, '우려': 10134, '퀴록': 10135, '꿰': 10136, '동준': 10137, '진희': 10138, '채윤': 10139, '생매장': 10140, '과부': 10141, '에타': 10142, '요부': 10143, '근대화': 10144, '안식': 10145, '휘황': 10146, '더군다나': 10147, '만물': 10148, '깨우치다': 10149, '정작': 10150, '소유자': 10151, '시종': 10152, '카헬': 10153, '루아': 10154, '브마': 10155, '다마스코': 10156, '해독': 10157, '단숨': 10158, '도리어': 10159, '남용': 10160, '원로': 10161, '더블': 10162, '뭍': 10163, '가다리': 10164, '카라': 10165, '준인': 10166, '간계': 10167, '엉엉': 10168, '마이너스': 10169, '애사': 10170, '낱낱이': 10171, '안경희': 10172, '케어': 10173, '목조건축': 10174, '교감': 10175, '기계공학': 10176, '븟새': 10177, '육질': 10178, '구사': 10179, '년도': 10180, '천남': 10181, '남욱': 10182, '이준익': 10183, '최현우': 10184, '이제석': 10185, '최희': 10186, '등각': 10187, '각층': 10188, '난리': 10189, '밀리터리': 10190, '한서': 10191, '하사': 10192, '말뚝': 10193, '주현': 10194, '그만큼': 10195, '정쟁': 10196, '기재': 10197, '여색': 10198, '키라': 10199, '성능': 10200, '퇴': 10201, '참혹': 10202, '적용': 10203, '물가': 10204, '샛골': 10205, '멍': 10206, '메이크': 10207, '지하철역': 10208, '팀겟네임그들': 10209, '전지': 10210, '싱숑': 10211, '사나이': 10212, '정답': 10213, '서준이': 10214, '창창하다': 10215, '앙골모아': 10216, '안위': 10217, '멸종위기': 10218, '이해해': 10219, '편입': 10220, '테스': 10221, '외도': 10222, '폐기': 10223, '최신': 10224, '완자': 10225, '스피드': 10226, '레이서': 10227, '이시윤': 10228, '외국어': 10229, '갑부': 10230, '대수': 10231, '멀쩡하다': 10232, '어렵사리': 10233, '고급스럽다': 10234, '액자': 10235, '건너편': 10236, '매직미러': 10237, '일촉즉발': 10238, '목욕관리사': 10239, '때밀이': 10240, '코드네임': 10241, '데빌': 10242, '무난': 10243, '약도': 10244, '수시로': 10245, '몽홀그': 10246, '뫼': 10247, '불멸': 10248, '황좌': 10249, '경연': 10250, '제위': 10251, '첨예하다': 10252, '해치': 10253, '김동진': 10254, '으로선': 10255, '모제': 10256, '마한': 10257, '고리국': 10258, '로마제국': 10259, '검투': 10260, '딱좋다': 10261, '속도': 10262, '중계': 10263, '족피': 10264, '도생': 10265, '해신': 10266, '저수지': 10267, '두통': 10268, '이채': 10269, '한동안': 10270, '다물다': 10271, '해수면': 10272, '상승': 10273, '배다': 10274, '판단': 10275, '젤리빈': 10276, '레이싱': 10277, '미물': 10278, '또띠또띠': 10279, '뀌꼬르떼': 10280, '구생': 10281, '활기': 10282, '빡세': 10283, '장난감': 10284, '한경미': 10285, '경미': 10286, '미시령': 10287, '신변': 10288, '지경': 10289, '이재현': 10290, '인기척': 10291, '관능': 10292, '숨소리': 10293, '물줄기': 10294, '뿌옇다': 10295, '촤악': 10296, '커튼': 10297, '다이크': 10298, '로마니': 10299, '헤이젠': 10300, '공세': 10301, '숫': 10302, '이의영': 10303, '웨딩': 10304, '예비신랑': 10305, '퀴즈': 10306, '연발': 10307, '급박하다': 10308, '스트러글': 10309, '언데드': 10310, '두루': 10311, '감초': 10312, '식량': 10313, '실없다': 10314, '위급하다': 10315, '척척': 10316, '솜씨': 10317, '눈보라': 10318, '발데': 10319, '경영지도사': 10320, '홋카이도': 10321, '원안': 10322, '교무': 10323, '임광': 10324, '묵': 10325, '감치': 10326, '희진': 10327, '반달가슴곰': 10328, '바름': 10329, '거금': 10330, '이라기보단': 10331, '골칫덩이': 10332, '바람나다': 10333, '바치': 10334, '화신': 10335, '욜': 10336, '준희': 10337, '은행강도': 10338, '사망률': 10339, '울림': 10340, '맴돌다': 10341, '선재': 10342, '에서야': 10343, '안달': 10344, '복달': 10345, '제왕': 10346, '톨킨': 10347, '전입': 10348, '얹다': 10349, '윤의': 10350, '피신': 10351, '습득': 10352, '변덕쟁이': 10353, '고지식하다': 10354, '불성': 10355, '어중간하다': 10356, '다이빙': 10357, '아르타': 10358, '하일': 10359, '망겜': 10360, '초낙운': 10361, '밥풀': 10362, '때기': 10363, '다이내믹': 10364, '은재': 10365, '다우': 10366, '시커멓다': 10367, '썩이다': 10368, '효자': 10369, '창문': 10370, '데이': 10371, '다집': 10372, '민훈이': 10373, '신방': 10374, '천평': 10375, '홍고': 10376, '측정': 10377, '방정': 10378, '노릇': 10379, '토너먼트': 10380, '결승전': 10381, '유선': 10382, '한시준': 10383, '흑역사': 10384, '서쪽': 10385, '아라하': 10386, '저열': 10387, '루베': 10388, '서영': 10389, '가축': 10390, '숙명': 10391, '오류': 10392, '스티그마': 10393, '랭커': 10394, '주행': 10395, '헤스티아': 10396, '루스': 10397, '직후': 10398, '꿋꿋하다': 10399, '정글고': 10400, '로보트': 10401, '뭉치': 10402, '미스코리아': 10403, '임대': 10404, '닝': 10405, '미수': 10406, '자백': 10407, '명품': 10408, '과시': 10409, '프렌드': 10410, '콜렉터': 10411, '포텐': 10412, '단주': 10413, '발판': 10414, '마련': 10415, '짜증': 10416, '럼': 10417, '오크': 10418, '이민자': 10419, '위장취업': 10420, '별처럼': 10421, '징조': 10422, '멸룡도가': 10423, '절박': 10424, '장담': 10425, 'ㄱ': 10426, '나니': 10427, '발신': 10428, '먹음': 10429, '힙찔이': 10430, '뉴튜버들': 10431, '뉴튜버': 10432, '주치의': 10433, '오지랖': 10434, '초이': 10435, '무책임': 10436, '한새': 10437, '불가하다': 10438, '진사고': 10439, '보살': 10440, '야차': 10441, '법화': 10442, '권도혁': 10443, '싱어송라이터': 10444, '노골': 10445, '유리천장': 10446, '부딪치다': 10447, '일구다': 10448, '하모니': 10449, '워킹맘': 10450, '심성': 10451, '조여': 10452, '론': 10453, '빈민가': 10454, '결별': 10455, '계승': 10456, '덤덤하다': 10457, '중병': 10458, '패션왕': 10459, '도부': 10460, '김태': 10461, '유가': 10462, '훈장': 10463, '소일': 10464, '김선': 10465, '평안': 10466, '덕영': 10467, '신음': 10468, '임지원': 10469, '김시후': 10470, '정현주': 10471, '결투': 10472, '발명': 10473, '만배': 10474, '중원': 10475, '기득권': 10476, '원리': 10477, '만일': 10478, '입수': 10479, '성남시': 10480, '분당구': 10481, '구미동': 10482, '무림맹': 10483, '타파': 10484, '기립': 10485, '몸안': 10486, '흡수': 10487, '이유정': 10488, '엽기': 10489, '에어소프트': 10490, '염세': 10491, '췐무궹': 10492, '주저': 10493, '정의감': 10494, '동방': 10495, '몽인들': 10496, '부치다': 10497, '실시': 10498, '여몽': 10499, '모략': 10500, '유목민족': 10501, '의탁': 10502, '푸념': 10503, '전화번호': 10504, '정우현': 10505, '조우': 10506, '약품': 10507, '폭발물': 10508, '봉준': 10509, '타깃': 10510, '최강전': 10511, '백수경': 10512, '축구공': 10513, '축구팀': 10514, '할렘': 10515, '올미': 10516, '인게': 10517, '리타': 10518, '타샤': 10519, '로마노프': 10520, '발자국': 10521, '울보': 10522, '텔레파시': 10523, '룸': 10524, '잔당': 10525, '위도': 10526, '속삭임': 10527, '얄짤없': 10528, '노스트': 10529, '보험': 10530, '단돈': 10531, 'ㅇㅋ': 10532, '노스트라': 10533, '상품': 10534, '구세주': 10535, '민백': 10536, '레인': 10537, '후속작': 10538, '이정우': 10539, '김종일': 10540, '임의': 10541, '윤정희': 10542, '백발': 10543, '김성희': 10544, '천새': 10545, '탐사선': 10546, '비행사': 10547, '박령': 10548, '안지혜': 10549, '비둘기': 10550, '뇌': 10551, '빨': 10552, '곤란': 10553, '재원': 10554, '가로지르다': 10555, '들판': 10556, '세찬': 10557, '베히모스': 10558, '대규모': 10559, '집회': 10560, '광장': 10561, '혜나': 10562, '원식': 10563, '보안요원': 10564, '형주': 10565, '대행': 10566, '메우다': 10567, '기레기': 10568, '레이더': 10569, '찌라시': 10570, '아비': 10571, '빅맨': 10572, '볼보이': 10573, '선망': 10574, '싸이': 10575, '충동': 10576, '모로스': 10577, '자제력': 10578, '대재앙': 10579, '터트려': 10580, '송나라': 10581, '감량': 10582, '술집': 10583, '관음': 10584, '스스럼없이': 10585, '사노라면': 10586, '뜰': 10587, '어우러지다': 10588, '투척': 10589, '썸녀': 10590, '뺘아': 10591, '전세훈': 10592, '감성터치': 10593, '사촌': 10594, '평강공주': 10595, '약사': 10596, '세운': 10597, '새싹': 10598, '고과': 10599, '부합': 10600, '낙하산': 10601, '개똥': 10602, '아쿠아리움': 10603, '김죄': 10604, '삼수': 10605, '이이': 10606, '김이랑': 10607, '잉': 10608, '송아람': 10609, '정진우': 10610, '발끝': 10611, '남지은': 10612, '김인호': 10613, '혼수상태': 10614, '혼령': 10615, '카피': 10616, '망신': 10617, '야만인': 10618, '견제': 10619, '온에어': 10620, '이슈': 10621, '이차': 10622, '유명인': 10623, '한빛고': 10624, '무소식': 10625, '희소식': 10626, '숏애': 10627, '중성': 10628, '잠그다': 10629, '박성현': 10630, '도널드': 10631, '이도우': 10632, '마윤': 10633, '하반신': 10634, '몹쓸': 10635, '게이': 10636, '특파': 10637, '강덕': 10638, '심오': 10639, '고리타분하다': 10640, '충실': 10641, '사파리': 10642, '과감': 10643, '강산': 10644, '잠잠하다': 10645, '지후': 10646, '두석': 10647, '신생활': 10648, '건너가다': 10649, '시신': 10650, '부둥켜안다': 10651, '실신': 10652, '되돌아보다': 10653, '미남자': 10654, '버겁다': 10655, '정선영': 10656, '채린': 10657, '검은색': 10658, '서은영': 10659, '쇼핑': 10660, '목록': 10661, '강지영': 10662, '불가촉천민': 10663, '중경시': 10664, '신도시': 10665, '은지를': 10666, '위촉': 10667, '고구려인': 10668, '백제인': 10669, '전투기': 10670, '변변찮': 10671, '만큼만': 10672, '처럼은': 10673, '불공평하다': 10674, '단합': 10675, '먀오': 10676, '카운트': 10677, '다중': 10678, '대혁명': 10679, '샐러리맨': 10680, '영초': 10681, '귀향': 10682, '어나': 10683, '오는': 10684, '성범죄': 10685, '기습': 10686, '계급': 10687, '용호': 10688, '홀어머니': 10689, '막내아들': 10690, '아랑곳': 10691, '리가': 10692, '후은': 10693, '나주시': 10694, '화관': 10695, '치자': 10696, '홍화': 10697, '쪽빛': 10698, '조화': 10699, '위투버': 10700, '벙커': 10701, '운동신경': 10702, '잿밥': 10703, '평탄': 10704, '재결합': 10705, '형제자매': 10706, '박수호': 10707, '드루이드': 10708, '가랑비': 10709, '젖다': 10710, '밤새': 10711, '나잇': 10712, '다야': 10713, '화장품': 10714, '직선': 10715, '오카': 10716, '류지': 10717, '슬기': 10718, '파드': 10719, '말초': 10720, '성스럽다': 10721, '관인': 10722, '렘브러리': 10723, '듣보다': 10724, '게임기': 10725, '강박증': 10726, '준호': 10727, '화만': 10728, '치즈인더트랩': 10729, '순끼': 10730, '심화': 10731, '제정': 10732, '굴복': 10733, '법칙': 10734, '에어로빅': 10735, '엘케도니': 10736, '후원자': 10737, '소공녀': 10738, '쾌락': 10739, '자수': 10740, '경찰서': 10741, '세탁': 10742, '패션모델': 10743, '김혜진': 10744, '과격하다': 10745, '맘씨': 10746, '오리가': 10747, '혜저주': 10748, '투닥대': 10749, '네임드': 10750, '이희': 10751, '행보': 10752, '전투력': 10753, '측정기': 10754, '퇴장': 10755, '확보': 10756, '확률': 10757, '정무기': 10758, '통과': 10759, '붙이': 10760, '해선': 10761, '마에노': 10762, '자키': 10763, '어엿하다': 10764, '예슬': 10765, '최연': 10766, '김민준': 10767, '구시': 10768, '똥차': 10769, '손쉽다': 10770, '브이': 10771, '진알': 10772, '엿보다': 10773, '날카롭다': 10774, '원주민': 10775, '습지': 10776, '생태': 10777, '강건': 10778, '마메': 10779, '건마': 10780, '랩': 10781, '정통하다': 10782, '정보통': 10783, '조양': 10784, '김해': 10785, '작심삼일': 10786, '불확실하다': 10787, '전작': 10788, '남무': 10789, '조수희': 10790, '쓰리다': 10791, '슈안': 10792, '가신': 10793, '비통하다': 10794, '그럴듯하다': 10795, '변명': 10796, '앨범': 10797, '와루': 10798, '개조': 10799, '옷깃': 10800, '스치다': 10801, '당대': 10802, '스쿨홀릭': 10803, '애석하다': 10804, '민똥통': 10805, '스테어': 10806, '식칼': 10807, '비보': 10808, '좇았': 10809, '백동': 10810, '어메이징': 10811, '불기둥': 10812, '자단': 10813, '밀폐': 10814, '트랩': 10815, '맞닥뜨린': 10816, '김기두': 10817, '정자': 10818, '염력': 10819, '본원': 10820, '은하계': 10821, '직선제': 10822, '시행': 10823, '박성용': 10824, '스포': 10825, '나위': 10826, '롬': 10827, '송이듬': 10828, '이듬': 10829, 'ㄴㄱ': 10830, '조르다': 10831, '시댁': 10832, '우발': 10833, '혁년': 10834, '공소': 10835, '시효': 10836, '법안': 10837, '서인주': 10838, '폐교': 10839, '따라가다': 10840, '김자': 10841, '신군': 10842, '홍령': 10843, '만우절': 10844, '난새': 10845, '점철': 10846, '쌔끈': 10847, '환향': 10848, '생소하다': 10849, '뛰어내리다': 10850, '한치': 10851, '힘없다': 10852, '마천': 10853, '고찰': 10854, '연일': 10855, '종영': 10856, '사슴': 10857, '냇가': 10858, '파쿠르': 10859, '오순도순': 10860, '잘살다': 10861, '막강': 10862, '로즈': 10863, '이그드라실': 10864, '사두': 10865, '여명': 10866, '고온': 10867, '곯다': 10868, '핏자국': 10869, '알리바이': 10870, '비롯': 10871, '진술': 10872, '이시언': 10873, '영화로': 10874, '호평': 10875, '미라': 10876, '심층': 10877, '고부': 10878, '시월드': 10879, '결집': 10880, '이결': 10881, '건만': 10882, '이영': 10883, '구교': 10884, '풍랑': 10885, '박건': 10886, '부류': 10887, '의심스럽다': 10888, '법인': 10889, '노블': 10890, '내재': 10891, '서먹서먹하다': 10892, '아사': 10893, '무량': 10894, '자멸': 10895, '모리스': 10896, '와이번': 10897, '책임감': 10898, '초청': 10899, '아이리스': 10900, '아이소포스': 10901, '주안': 10902, '어나더': 10903, '뒷담화': 10904, '타가': 10905, '입지': 10906, '전남편': 10907, '은설': 10908, '사과나무': 10909, '녹스': 10910, '마네': 10911, '일가': 10912, '외줄': 10913, '애절하다': 10914, '홍어': 10915, '어쩌라고': 10916, '차기': 10917, '흡사하다': 10918, '비열하다': 10919, '조잡하다': 10920, '수로': 10921, '만능': 10922, '순심': 10923, '태평하다': 10924, '년종': 10925, '방불': 10926, '케': 10927, '정형': 10928, '형상': 10929, '봉강': 10930, '과내': 10931, '조훈': 10932, '나기': 10933, '우승상금': 10934, '악플러': 10935, '초자연': 10936, '청량미': 10937, '착': 10938, '입도': 10939, '원칙': 10940, '경서': 10941, '모나': 10942, '액정': 10943, '말나': 10944, '세고': 10945, '치한': 10946, '김원준': 10947, '나탈리': 10948, '주드로': 10949, '에이전트': 10950, '황호': 10951, '고영은': 10952, '뱃사공': 10953, '파검법': 10954, '진시황': 10955, '선근': 10956, '보육원': 10957, '타래': 10958, '마지노선': 10959, '낭비': 10960, '가브리엘': 10961, '라파엘': 10962, '우리엘': 10963, '일인': 10964, '유해하다': 10965, '인맥': 10966, '음해': 10967, '사법': 10968, '체제': 10969, '실망하다': 10970, '야자': 10971, '야채': 10972, '봄방학': 10973, '마기': 10974, '은장': 10975, '백사': 10976, '소연': 10977, '관광': 10978, '흉측하다': 10979, '무거워': 10980, '고여': 10981, '자민': 10982, '생자': 10983, '만자': 10984, '철구': 10985, '이원': 10986, '슈퍼빌런': 10987, '리저드': 10988, '뷰글': 10989, '머슨': 10990, '소집': 10991, '응답': 10992, '팬서': 10993, '마블': 10994, '오딘': 10995, '백만': 10996, '블레이드': 10997, '콜슨': 10998, '건아': 10999, '김정현': 11000, '김호': 11001, '민감하다': 11002, '성냥갑': 11003, '늘어서다': 11004, '얹혀살다': 11005, '눈칫밥': 11006, '명절': 11007, '민철': 11008, '그러면': 11009, '조직폭력배': 11010, '훼손': 11011, '패가망신': 11012, '홍왜': 11013, '런가': 11014, '선행': 11015, '검객': 11016, '류진': 11017, '복원': 11018, '언럭키': 11019, '럭키': 11020, '맨션': 11021, '미세먼지': 11022, '양부': 11023, '김철수': 11024, '세태': 11025, '김우민': 11026, '인자하다': 11027, '외할머니': 11028, '팜킨': 11029, '일당': 11030, '칵테일': 11031, '메이비': 11032, '이광수': 11033, '김세훈': 11034, '맥코이': 11035, '친부모': 11036, '구분': 11037, '가혼': 11038, '흑화': 11039, '츤데레': 11040, '어마': 11041, '으아': 11042, '갈래': 11043, '실세': 11044, '꼬박꼬박': 11045, '팸': 11046, '나아': 11047, '정인지': 11048, '자잘하다': 11049, '화하다': 11050, '팔인': 11051, '골석': 11052, '조승훈': 11053, '급성': 11054, '시름': 11055, '샅바': 11056, '트롯': 11057, '작사가': 11058, '간단명료': 11059, '흑룡': 11060, '대정': 11061, '적룡': 11062, '한대용': 11063, '숨쉬기': 11064, '옥탑방': 11065, '아래층': 11066, '모델링': 11067, '돌려주다': 11068, '호강': 11069, '온유': 11070, '신채': 11071, '리두': 11072, '너비': 11073, '놀이': 11074, '호란': 11075, '보은': 11076, '부담스럽다': 11077, '천리': 11078, '글쓰기': 11079, '토목공학': 11080, '퍼펙트': 11081, '교통': 11082, '최상': 11083, '쾌적하다': 11084, '원스톱': 11085, '프리미엄': 11086, '프론테': 11087, '선착순': 11088, '급상승': 11089, '직캠': 11090, '역주행': 11091, '아윤마': 11092, '사납다': 11093, '김현아': 11094, '시언': 11095, '대충대충': 11096, '공허하다': 11097, '정남': 11098, '서나': 11099, '프로파일러': 11100, '하교': 11101, '냉랭하다': 11102, '흉기': 11103, '유발': 11104, '꼬셔보려': 11105, '혼례': 11106, '엎친': 11107, '우물': 11108, '판박이': 11109, '박씨': 11110, '동상': 11111, '다대': 11112, '불안감': 11113, '시험지': 11114, '입덕': 11115, '박도': 11116, '멘티': 11117, '열무': 11118, '박민경': 11119, '불화': 11120, '누굴': 11121, '관문': 11122, '대부모': 11123, '꾀임': 11124, '엽사': 11125, '규환': 11126, '엽총': 11127, '뷰': 11128, '스위트홈': 11129, '끝내': 11130, '최삡뺩': 11131, '퍼렁': 11132, '식품': 11133, '서민준': 11134, '밀접하다': 11135, '이사장': 11136, '탁치': 11137, '꼭대기': 11138, '태음': 11139, '완력': 11140, '노다지': 11141, '탁': 11142, '쾅': 11143, '선입견': 11144, '굴지': 11145, '윤의민': 11146, '리스크': 11147, '오수빈': 11148, '눈엣': 11149, '루드베키아': 11150, '허수아비': 11151, '규리': 11152, '다인': 11153, '윤진': 11154, '개뿔': 11155, '돈독하다': 11156, '넘겨받다': 11157, '부채': 11158, '압력': 11159, '장마철': 11160, '수재민': 11161, '일확천금': 11162, '진태': 11163, '봉팔': 11164, '합세': 11165, '장마': 11166, '가책': 11167, '참회': 11168, '경과': 11169, '비즈니스': 11170, '급속도': 11171, '일사천리': 11172, '삼국시대': 11173, '성급하다': 11174, '지령': 11175, '빵점녀': 11176, '재활': 11177, '정재민': 11178, '석우': 11179, '기고': 11180, '오로라': 11181, '매장': 11182, '탄로': 11183, '칩': 11184, '날아들다': 11185, '쐬다': 11186, '친오빠': 11187, '마찬가지': 11188, '새엄마': 11189, '명세': 11190, '바로바로': 11191, '영화배우': 11192, '영길리': 11193, '셜록': 11194, '왓슨': 11195, '한음': 11196, '섬세': 11197, '유승진': 11198, '혈관': 11199, '송유관': 11200, '도유꾼': 11201, '석유': 11202, '도로시': 11203, '울릉도': 11204, '미끼': 11205, '락샤사': 11206, '목걸이': 11207, '오파츠': 11208, '현명하다': 11209, '휘성': 11210, '아마추어': 11211, '정환': 11212, '박력': 11213, '전율': 11214, '이휘성': 11215, '비상': 11216, '천신': 11217, '땅굴': 11218, '스산': 11219, '출구': 11220, '화초': 11221, '미튜버': 11222, '헤어지자': 11223, '냅다': 11224, '올가미': 11225, '옭아매다': 11226, '봄바람': 11227, '잎': 11228, '해갈': 11229, '김군': 11230, '패가': 11231, '도국': 11232, '어떡하다': 11233, '명옥': 11234, '민성은': 11235, '협상': 11236, '자그마하다': 11237, '유생': 11238, '민중': 11239, '화현': 11240, '이청': 11241, '청혼': 11242, '치욕': 11243, '북방': 11244, '루저': 11245, '필립': 11246, '어려움': 11247, '요리왕': 11248, '합기도': 11249, '환골탈태': 11250, '새침하다': 11251, '승격': 11252, '정교': 11253, '용돈': 11254, '표본': 11255, '여유': 11256, '플렉스': 11257, '보주': 11258, '제라': 11259, '희원': 11260, '추대': 11261, '문희': 11262, '류완': 11263, '최고봉': 11264, '김민수': 11265, '박정수': 11266, '참수': 11267, '당수': 11268, '용물': 11269, '펫시터': 11270, '스키': 11271, '엠티': 11272, '부침개': 11273, '어마어마하다': 11274, '괴짜': 11275, '술꾼': 11276, '미소년': 11277, '기선': 11278, '나우': 11279, '털북숭': 11280, '산악인': 11281, '에베레스트': 11282, '희문': 11283, '풍기': 11284, '광년': 11285, '점보늬그녀': 11286, '운빨': 11287, '공가': 11288, '리베라': 11289, '정화': 11290, '웅이': 11291, '부림': 11292, '리셋': 11293, '테일러': 11294, '담소': 11295, '혼처': 11296, '우락부락': 11297, '방심하다': 11298, '곳그': 11299, '상쾌': 11300, '통쾌': 11301, '가방': 11302, '로얄': 11303, '남아프리카': 11304, '보보': 11305, '워셔': 11306, '바둑': 11307, '김선희': 11308, '윙크': 11309, '패전': 11310, '안시': 11311, '백태': 11312, '힘차다': 11313, '위닝샷': 11314, '던지기': 11315, '유기한': 11316, '집값': 11317, '너넨': 11318, '진압': 11319, '봉쇄': 11320, '종은': 11321, '인종': 11322, '해파리공주': 11323, '시무라': 11324, '아키코': 11325, '뒤덮히다': 11326, '완강': 11327, '혜리': 11328, '추남': 11329, '정유림': 11330, '베스트셀러': 11331, '윌외모': 11332, '청순': 11333, '터프가이': 11334, '진혼': 11335, '금속': 11336, '공예': 11337, '권유리': 11338, '많아지다': 11339, '김유미': 11340, '발동': 11341, '투자가': 11342, '촉나라': 11343, '주식회사': 11344, '탁무': 11345, '류민': 11346, '쿠': 11347, '무치다': 11348, '쿠무치': 11349, '동쪽': 11350, '완포세대': 11351, '구석기': 11352, '무리하다': 11353, '떡락': 11354, '허송': 11355, '석기': 11356, '신지훈': 11357, '꼿꼿하다': 11358, '헝클어뜨리다': 11359, '오만': 11360, '지폐': 11361, '미안하다': 11362, '귀걸이': 11363, '관아': 11364, '다급해지다': 11365, '토벌': 11366, '무과': 11367, '급제': 11368, '안손': 11369, '홍킬동': 11370, '태백산': 11371, '환성': 11372, '성현': 11373, '김강우': 11374, '눈길': 11375, '김상우': 11376, '이보': 11377, '미지근하다': 11378, '불씨': 11379, '태도': 11380, '김로': 11381, '콜센터': 11382, '예롬': 11383, '초국': 11384, '비위': 11385, '절치': 11386, '부심': 11387, '노어': 11388, '진입': 11389, '민송아': 11390, '스푼': 11391, '서유기': 11392, '무임': 11393, '승차': 11394, '확립': 11395, '몽실몽실하다': 11396, '빛깔': 11397, '팔다리': 11398, '속눈썹': 11399, '승준': 11400, '의연': 11401, '무력하다': 11402, '감마': 11403, '품격': 11404, '유효': 11405, '간극': 11406, '경험치': 11407, '김진현': 11408, '구두': 11409, '까탈': 11410, '매너': 11411, '구제': 11412, '사샤': 11413, '일등': 11414, '공신': 11415, '발각': 11416, '태권': 11417, '물푸레': 11418, '말괄량이': 11419, '떨어뜨리다': 11420, '보건': 11421, '반격': 11422, '일격': 11423, '꺼풀': 11424, '무리다': 11425, '응급실': 11426, '술독': 11427, '뒷골목': 11428, '노숙자': 11429, '아이크': 11430, '해리스': 11431, '드루': 11432, '이그': 11433, '영원': 11434, '핵전쟁': 11435, '발의': 11436, '핵폭탄': 11437, '멸각': 11438, '방사': 11439, '폭력조직': 11440, '대폭': 11441, '수용': 11442, '마비': 11443, '태수': 11444, '얽매이다': 11445, '알콜중독자': 11446, '호준': 11447, '보호관찰': 11448, '대상자': 11449, '찮': 11450, '촬영장': 11451, '억지': 11452, '떵떵거리': 11453, '다공': 11454, '자동': 11455, '손제호': 11456, '소녀더와일즈': 11457, '꼬꼬댁씨': 11458, '투닭투닭': 11459, '일상날개짓': 11460, '헤드폰': 11461, '마이크': 11462, '반포': 11463, '몸소': 11464, '훈민정음': 11465, '참뜻': 11466, '혈교': 11467, '교관': 11468, '사부로': 11469, '정파': 11470, '사부': 11471, '골방환상곡': 11472, '첫키스': 11473, '한비': 11474, '군더더기': 11475, '쫙': 11476, '몸짱': 11477, '남아공': 11478, '주문': 11479, '비타민': 11480, '기특하다': 11481, '아뿔싸': 11482, '츄카피': 11483, '한호': 11484, '박도영': 11485, '무산': 11486, '만취': 11487, '양은': 11488, '무예': 11489, '성인극': 11490, '잡다하다': 11491, '김상': 11492, '분풀이': 11493, '단신': 11494, '최겸': 11495, '플라워즈': 11496, '비밀연애': 11497, '경비': 11498, '이오': 11499, '월등하다': 11500, '이외': 11501, '비급': 11502, '미명': 11503, '치닥': 11504, '서슴다': 11505, '기후': 11506, '폭우': 11507, '후년': 11508, '기상청': 11509, '정확도': 11510, '기상이변': 11511, '이례': 11512, '폭풍우': 11513, '심상찮': 11514, '호신': 11515, '고호': 11516, '번복': 11517, '데시벨': 11518, '안녕하십니까': 11519, '총살': 11520, '조정우': 11521, '택한다': 11522, '무기력증': 11523, '솔빈': 11524, '폭죽': 11525, '민간인': 11526, '급하다': 11527, '대피': 11528, '카리': 11529, '가호': 11530, '힐데': 11531, '에르킨': 11532, '의강': 11533, '벌벌': 11534, '유골': 11535, '떨어트린': 11536, '권법': 11537, '웹사이트': 11538, '펜': 11539, '정찬열': 11540, '끌어당기다': 11541, '찬열': 11542, '일종': 11543, '총수': 11544, '버금': 11545, '궁지': 11546, '전대': 11547, '서적': 11548, '제등': 11549, '대입': 11550, '추스른다하': 11551, '루테하': 11552, '카넬': 11553, '리언': 11554, '로지': 11555, '화석': 11556, '굴곡': 11557, '완주': 11558, '쥬스': 11559, '목포': 11560, '혈통': 11561, '완수': 11562, '미각': 11563, '로세': 11564, '삼합회': 11565, '대동': 11566, '권수': 11567, '유석': 11568, '김남훈': 11569, '죽마고우': 11570, '어간': 11571, '긴밀하다': 11572, '커넥션': 11573, '오정': 11574, '표절': 11575, '금세기': 11576, '람그': 11577, '다흐': 11578, '연제원': 11579, '구가': 11580, '면치': 11581, '실생활': 11582, '밀접': 11583, '저잣거리': 11584, '시호': 11585, '초란': 11586, '냉혈': 11587, '조쉬': 11588, '사치': 11589, '고준형': 11590, '폭등': 11591, '스탯': 11592, '적의': 11593, '엔딩크레딧': 11594, '화상': 11595, '전염': 11596, '빤스': 11597, '강윤': 11598, '윤지민': 11599, '용하다': 11600, '글쎄': 11601, '속옷': 11602, '고해': 11603, '듯이': 11604, '뻔': 11605, '화도': 11606, '미숙': 11607, '정은': 11608, '연필': 11609, '백모란': 11610, '성기': 11611, '시가': 11612, '금일': 11613, '이즈': 11614, '레즈': 11615, '개또': 11616, '왕족': 11617, '도르가': 11618, '류빈': 11619, '텔레포트': 11620, '멜로홀릭': 11621, '감명': 11622, '가출팸': 11623, '한주리': 11624, '겨날': 11625, '데남': 11626, '아이돌스타': 11627, '분수': 11628, '베니스': 11629, '조총련': 11630, '의장': 11631, '송류환': 11632, '김태림': 11633, '문병원': 11634, '의상': 11635, '애정결핍': 11636, '쪼끔': 11637, '편안하다': 11638, '존엄': 11639, '박정우': 11640, '엮어가': 11641, '고시': 11642, '지병': 11643, '부정맥': 11644, '멎다': 11645, '좇': 11646, '대사': 11647, '패밀리맨': 11648, '정필': 11649, '하이브리드': 11650, '허물': 11651, '구조조정': 11652, '냉': 11653, '라가': 11654, '융화': 11655, '정지원': 11656, '지원이': 11657, '유지원': 11658, '김지원': 11659, '바랬던': 11660, '송해나': 11661, '정우진': 11662, '훈뭘': 11663, '지세': 11664, '정운경': 11665, '에볼루션': 11666, '주오': 11667, '밈': 11668, '영주권자': 11669, '광고대행사': 11670, '리턴': 11671, '텐트': 11672, '백은영': 11673, '중용': 11674, '징글': 11675, '유지아': 11676, '공률': 11677, '굴욕': 11678, '유서': 11679, '작년': 11680, '젊꼰': 11681, '금사': 11682, '한세영': 11683, '김진서': 11684, '기생충': 11685, '상장': 11686, '부교수': 11687, '남상현': 11688, '묵회': 11689, '한가하다': 11690, '다실': 11691, '오중석': 11692, '걸인': 11693, '답지': 11694, '중석': 11695, '유사하다': 11696, '화기': 11697, '고백록': 11698, '보호국': 11699, '나화': 11700, '한가람': 11701, '호수': 11702, '금세': 11703, '틀리다': 11704, '싸움닭': 11705, '채수': 11706, '연세': 11707, '퍼즐': 11708, '대단원': 11709, '세습': 11710, '유장': 11711, '려': 11712, '사흉': 11713, '중혁': 11714, '평판': 11715, '태왕': 11716, '각주': 11717, '사마귀': 11718, '비객': 11719, '파의': 11720, '종명': 11721, '정찰': 11722, '고비': 11723, '지문': 11724, '양호': 11725, '생중계': 11726, '김전': 11727, '오토바이': 11728, '회부': 11729, '육교': 11730, '행패': 11731, '소마': 11732, '가공': 11733, '마령': 11734, '모니터': 11735, '철벽녀': 11736, '세이브': 11737, '엽': 11738, '배틀필드': 11739, '체감': 11740, '에르고스피어': 11741, '어벤져': 11742, '안타깝다': 11743, '취사': 11744, '박종원': 11745, '팍팍': 11746, '이다몽': 11747, '로망따윈': 11748, '시간관리': 11749, '김주연': 11750, '교양': 11751, '과제': 11752, '마땅하다': 11753, '무취': 11754, '보나': 11755, '김정호': 11756, '가벼워지다': 11757, '사내연애': 11758, '진동': 11759, '정면': 11760, '현관문': 11761, '랜선': 11762, '혜경': 11763, '로건': 11764, '레아': 11765, '꺼림칙하다': 11766, '고독사': 11767, '은은하다': 11768, '항': 11769, '마승': 11770, '영웅시대': 11771, '치사': 11772, '칼날': 11773, '내보이다': 11774, '이괄': 11775, '소한': 11776, '사대': 11777, '독마': 11778, '갈아': 11779, '한가롭다': 11780, '허드렛일': 11781, '해달': 11782, '고르가': 11783, '가져가다': 11784, '새우': 11785, '커피우유': 11786, '혼합': 11787, '김수현': 11788, '엄청': 11789, '범죄심리학자': 11790, '분석관': 11791, '꿰어': 11792, '크리퍼스': 11793, '큘그': 11794, '정대숙': 11795, '문화센터': 11796, '강민주': 11797, '돌싱': 11798, '사진작가': 11799, '촬영감독': 11800, '하동현': 11801, '우왕좌왕': 11802, '트렌드': 11803, '뒹구': 11804, '통수': 11805, '후려': 11806, '식스': 11807, '설씨': 11808, '억만장자': 11809, '데이브': 11810, '드라마틱하다': 11811, '열애': 11812, '올린다': 11813, '쌩': 11814, '홍석준': 11815, '무모하다': 11816, '강냉이': 11817, '왕좌': 11818, '가려내다': 11819, '빵빵': 11820, '사고사': 11821, '인과응보': 11822, '묘사': 11823, '건고': 11824, '종우': 11825, '참혹하다': 11826, '전말': 11827, '백투더퓨처': 11828, '준재': 11829, '견문': 11830, '쾌활하다': 11831, '유기': 11832, '모진': 11833, '은신': 11834, '추격자': 11835, '조충': 11836, '대위': 11837, '씀씀이': 11838, '간사하다': 11839, '적나라하다': 11840, '메가쑈킹': 11841, '금보': 11842, '도보': 11843, '하이킹': 11844, '공방전': 11845, '오프': 11846, '장래희망': 11847, '애매': 11848, '모호': 11849, '설렁설렁': 11850, '출중하다': 11851, '제기차기': 11852, '김민석': 11853, '기기': 11854, '운동선수': 11855, '은메달': 11856, '락구': 11857, '물질': 11858, '자원': 11859, '역사상': 11860, '영토': 11861, '세력권': 11862, '넓히다': 11863, '동북아시아': 11864, '자주성': 11865, '드높이다': 11866, '광개토태왕': 11867, '목격자': 11868, '준구': 11869, '민정우': 11870, '한동우': 11871, '고진호': 11872, '소년세계': 11873, '승부사': 11874, '신드롬': 11875, '태극': 11876, '기공': 11877, '고행': 11878, '호법': 11879, '준후': 11880, '영적': 11881, '온상': 11882, '마귀': 11883, '고투': 11884, '아키': 11885, '모리': 11886, '야말로': 11887, '밋빛': 11888, '질식': 11889, '대학가': 11890, '극본': 11891, '뒈지다': 11892, '제피르': 11893, '카라멜': 11894, '마끼아또': 11895, '김명현': 11896, '넘사벽': 11897, '펀치': 11898, '무경': 11899, '절멸': 11900, '에반': 11901, '카를': 11902, '정명석': 11903, '성폭행': 11904, '빅뱅': 11905, '전우주': 11906, '파라다이스': 11907, '냉전': 11908, '스르': 11909, '각하': 11910, '공작원': 11911, '실감': 11912, '돋보이다': 11913, '속편': 11914, '공익': 11915, '나방': 11916, '헬파이어': 11917, '다독이다': 11918, '판사': 11919, '실형': 11920, '땡': 11921, '헛소리': 11922, '사법부': 11923, '이단': 11924, '필살': 11925, '김방자': 11926, '이향': 11927, '오백': 11928, '값어치': 11929, '화룡': 11930, '대행수': 11931, '최태웅': 11932, '사고팔다': 11933, '방옥숙': 11934, '육아용품': 11935, '유부녀': 11936, '팔로워': 11937, '부쩍': 11938, '피치': 11939, '멋있다': 11940, '시르다': 11941, '타협': 11942, '그램': 11943, '윤순': 11944, '덕통': 11945, '파워': 11946, '프라나': 11947, '짊어질': 11948, '전당포': 11949, '어플리케이션': 11950, '작렬': 11951, '도그': 11952, '고품격': 11953, '극악': 11954, '평행': 11955, '구도': 11956, '영배': 11957, '낭떠러지': 11958, '평화선': 11959, '야성': 11960, '극야': 11961, '쇄빙선': 11962, '폰투스': 11963, '인차': 11964, '사야카': 11965, '노조미': 11966, '리메이': 11967, '가오창': 11968, '이상현': 11969, '김경': 11970, '정세': 11971, '싣다': 11972, '맨해튼': 11973, '중태': 11974, '독거': 11975, '차애': 11976, '아아루': 11977, '한두': 11978, '라욱': 11979, '장작': 11980, '잿더미': 11981, '전진솔': 11982, '여원': 11983, '진솔': 11984, '팬심': 11985, '한태성': 11986, '게임제작사': 11987, '존폐': 11988, '프린스': 11989, '박시현': 11990, '프록시마': 11991, '디엠': 11992, '베댓': 11993, '공약': 11994, '애니멀': 11995, '율리우스': 11996, '카이사르': 11997, '양영순': 11998, '나가떨어지다': 11999, '박지': 12000, '격투가': 12001, '교시': 12002, '샤니': 12003, '보디가드': 12004, '지란': 12005, '피리': 12006, '남파': 12007, '차야': 12008, '통화': 12009, '화보': 12010, '앵앵거리다': 12011, '신도': 12012, '매혈': 12013, '태풍': 12014, '애착': 12015, '선장': 12016, '촉망': 12017, '망국': 12018, '구국': 12019, '신우': 12020, '크로키': 12021, '북그': 12022, '핑크색': 12023, '현석': 12024, '뒤죽박죽': 12025, '미술사': 12026, '진사': 12027, '스케치북': 12028, '카르테': 12029, '메로': 12030, '자동차': 12031, '리움': 12032, '신스': 12033, '권력자': 12034, '가시': 12035, '황태': 12036, '심기': 12037, '전무후무': 12038, '다드': 12039, '디어': 12040, '치밀하다': 12041, '오하루': 12042, '방지': 12043, '하르모니아': 12044, '팽': 12045, '낙호곡': 12046, '번만': 12047, '팽지혁': 12048, '도진': 12049, '마리안': 12050, '연합정부': 12051, '확산': 12052, '정책': 12053, '울부짖다': 12054, '검경': 12055, '합동': 12056, '정벌': 12057, '전교회장': 12058, '마파람': 12059, '쌀': 12060, '나이스진타임': 12061, '아보': 12062, '가식': 12063, '미노': 12064, '동창생': 12065, '세련': 12066, '차안': 12067, '보물섬': 12068, '후방': 12069, '그릇되다': 12070, '한림': 12071, '체육관': 12072, '만만': 12073, '벼슬': 12074, '한스': 12075, '상은': 12076, '플라워': 12077, '실습생': 12078, '모교': 12079, '시우': 12080, '염려': 12081, '고영희': 12082, '줌': 12083, '성산': 12084, '신윤복': 12085, '김홍도': 12086, '디펜스': 12087, '찬영': 12088, '낙동강': 12089, '파르페': 12090, '혼기': 12091, '신해': 12092, '튀어': 12093, '김윤제': 12094, '확신': 12095, '손실': 12096, '공갈': 12097, '해괴': 12098, '실록': 12099, '사슬': 12100, '아슬하다': 12101, '우환': 12102, '교통비': 12103, '마라톤': 12104, '해피니스': 12105, '경찰특공대': 12106, '삼천만원': 12107, '수려': 12108, '온화': 12109, '새장': 12110, '비량': 12111, '비별': 12112, '매치': 12113, '대룡': 12114, '비서실': 12115, '신해수': 12116, '독사': 12117, '최혁준': 12118, '쌤띠': 12119, '혁준': 12120, '빈민촌': 12121, '빈곤하다': 12122, '턱': 12123, '제법': 12124, '영화제작': 12125, '변호': 12126, '조지아': 12127, '지사': 12128, '서민': 12129, '험악하다': 12130, '진성': 12131, '입학시험': 12132, '입구': 12133, '가파른': 12134, '언덕길': 12135, '등교생': 12136, '어깨': 12137, '가드': 12138, '남그': 12139, '킬베': 12140, '로스': 12141, '주시': 12142, '맵': 12143, '환장하다': 12144, '러버': 12145, '피디': 12146, '굶주리다': 12147, '갈팡질팡': 12148, '적폐': 12149, '처단': 12150, '공화정': 12151, '선포': 12152, '루미': 12153, '밤샘': 12154, '하도완그': 12155, '데모': 12156, '알림': 12157, '매혹': 12158, '초상화': 12159, '현혹': 12160, '분석': 12161, '혈액형': 12162, '특명': 12163, '시시각각': 12164, '다형': 12165, '눈독': 12166, '재녀': 12167, '서희': 12168, '쿨하다': 12169, '약혼녀': 12170, '대담하다': 12171, '나유정': 12172, '조항리': 12173, '국운': 12174, '기울다': 12175, '호걸': 12176, '금슬': 12177, '장난스럽다': 12178, '씨리얼': 12179, '사발': 12180, '끼니': 12181, '선량하다': 12182, '토마호크': 12183, '솟다': 12184, '공포물': 12185, '전자기기': 12186, '야크': 12187, '희소': 12188, '재발': 12189, '담영': 12190, '동부': 12191, '생태학': 12192, '창조자': 12193, '덕구': 12194, '감시자': 12195, '스타트업': 12196, '붙들다': 12197, '전이': 12198, '혼전': 12199, '속절없다': 12200, '보수': 12201, '한씨': 12202, '내조': 12203, '강조': 12204, '매형': 12205, '학우': 12206, '매기': 12207, '중우': 12208, '일거수일투족': 12209, '촛불': 12210, '들먹이다': 12211, '보험금': 12212, '부조': 12213, '여유도': 12214, '여력': 12215, '내려다보다': 12216, '눈동자': 12217, '내몬': 12218, '낙인': 12219, '잠재': 12220, '불온': 12221, '사념': 12222, '미필': 12223, '방긋방긋': 12224, '단내': 12225, '홍시': 12226, '위겸': 12227, '물음': 12228, '유화': 12229, '화공': 12230, '짓날': 12231, '은색': 12232, '갤러리': 12233, '온화하다': 12234, '왕가': 12235, '밀': 12236, '모조품': 12237, '매화': 12238, '검존': 12239, '금제': 12240, '십만': 12241, '대산': 12242, '텐': 12243, '데우다': 12244, '시리다': 12245, '화양연화': 12246, '롭': 12247, '레알': 12248, '밋밋하다': 12249, '시해': 12250, '몰살': 12251, '교지': 12252, '은효비': 12253, '현왕': 12254, '궁전': 12255, '재직': 12256, '백방': 12257, '습성': 12258, '윤재': 12259, '티격태격하': 12260, '고스': 12261, '여성향': 12262, '물레': 12263, '션': 12264, '방내': 12265, '탈바꿈': 12266, '술김': 12267, '풍파': 12268, '쩌': 12269, '페넬로페': 12270, '염병': 12271, '바트': 12272, '멘델': 12273, '리샤르': 12274, '도트리': 12275, '모색': 12276, '단점': 12277, '황비': 12278, '황태후': 12279, '일차': 12280, '김정훈': 12281, '안대': 12282, '듬뿍': 12283, '서명': 12284, '으악': 12285, '게왜': 12286, '놨다': 12287, '쥬신': 12288, '스톤': 12289, '독립전쟁': 12290, '쪼그': 12291, '엮는': 12292, '은새': 12293, '흥부': 12294, '후일담': 12295, '냉대': 12296, '부패하다': 12297, '지진해일': 12298, '요가복': 12299, '립앤힙': 12300, '물복반': 12301, '복반': 12302, '엉덩이': 12303, '구구': 12304, '태화': 12305, '바루다내': 12306, '이수혁': 12307, '견학': 12308, '둘딥': 12309, '바루': 12310, '수혁': 12311, '개시': 12312, '최첨단': 12313, '삭막': 12314, '기증': 12315, '장기이식': 12316, '리버': 12317, '양대': 12318, '산맥': 12319, '팬픽': 12320, '등수': 12321, '교과서': 12322, '랑그': 12323, '반면': 12324, '욕설': 12325, '번역': 12326, '재환': 12327, '잇따르다': 12328, '생생': 12329, '스페셜': 12330, '코끼리': 12331, '채플린': 12332, '오마주': 12333, '오케스트라': 12334, '적도': 12335, '아군': 12336, '수비대': 12337, '통괘': 12338, '류재린': 12339, '각본': 12340, '헤븐': 12341, '메브': 12342, '분명하다': 12343, '생화학전': 12344, '하위호환': 12345, '오이': 12346, '양다리': 12347, '편집장': 12348, '치루어': 12349, '데본': 12350, '괴현상': 12351, '지하실': 12352, '도끼': 12353, '가뜩이나': 12354, '발등': 12355, '고료': 12356, '파트타임': 12357, '국가정보원': 12358, '라운드': 12359, '상길': 12360, '무하': 12361, '연애횟수': 12362, '촌각': 12363, '빗나가다': 12364, '승강장': 12365, '달구다': 12366, '쭈뼛하다': 12367, '오페라': 12368, '선그': 12369, '스크롤': 12370, '고구마': 12371, '군입대': 12372, '나팔': 12373, '점호': 12374, '그랬구나': 12375, '옥수역': 12376, '봉천동': 12377, '블루투스': 12378, '논쟁': 12379, '패딩': 12380, '지퍼': 12381, '가려지다': 12382, '발산': 12383, '심쿵': 12384, '호선': 12385, '투병': 12386, '이강준': 12387, '청소기': 12388, '매트': 12389, '청춘만화': 12390, '표준': 12391, '강대하다': 12392, '흑마': 12393, '디아블로': 12394, '볼피르신': 12395, '응애': 12396, '웰턴': 12397, '딥': 12398, '화해': 12399, '신시': 12400, '일곱개': 12401, '엮어져': 12402, '골프': 12403, '핸디캡': 12404, '뭉둥': 12405, '강화': 12406, '몽둥이': 12407, '스타트': 12408, '이인범': 12409, '괄시': 12410, '돕기': 12411, '특훈': 12412, '여우구슬': 12413, '상감': 12414, '상호': 12415, '송곳': 12416, '홍설': 12417, '정서': 12418, '유선영': 12419, '퀸카': 12420, '골인': 12421, '권태기': 12422, '방콕': 12423, '태국어': 12424, '우르르': 12425, '쾅쾅': 12426, '투빈맘': 12427, '빈둥': 12428, '찐빵': 12429, '굥이': 12430, '스크루': 12431, '차근차근': 12432, '재테크': 12433, '가계부': 12434, '개국': 12435, '쉬엄쉬엄': 12436, '느긋하다': 12437, '호밀': 12438, '식이장애': 12439, '거식증': 12440, '폭식증': 12441, '덜': 12442, '쟁': 12443, '명도': 12444, '승락한다': 12445, '크리스천': 12446, '무얼': 12447, '라던가': 12448, '홍콩': 12449, '마틴': 12450, '호적': 12451, '메이트': 12452, '스펙트럼': 12453, '쪼꼼이': 12454, '숙제': 12455, '열공': 12456, '남녀공학': 12457, '엄격하다': 12458, '아두': 12459, '퍼센트': 12460, '영국인': 12461, '매튜': 12462, '종용': 12463, '것임': 12464, '갯빛': 12465, '카이스트': 12466, '슨민찡': 12467, '타이틀': 12468, '반찬': 12469, '코숏': 12470, '임신부': 12471, '엄빠': 12472, '독박': 12473, '맘빠': 12474, '막바지': 12475, '자하': 12476, '미씨': 12477, '숨찬': 12478, '수동': 12479, '초과근무': 12480, '나태하다': 12481, '로소': 12482, '심해지다': 12483, '정병': 12484, '둥둥': 12485, '냠냠': 12486, '병나': 12487, '송양': 12488, '시크릿': 12489, '성교육': 12490, '봉카': 12491, '폴란드': 12492, '봉택': 12493, '꼬미': 12494, '풍구': 12495, '쪼식': 12496, '와이프': 12497, '보부': 12498, '올망졸망': 12499, '멍구': 12500, '흥구': 12501, '연탄': 12502, '섭식장애': 12503, '신세대': 12504, '쿄쿄': 12505, '의치': 12506, '봉봉': 12507, '이나마': 12508, '종종': 12509, '이벤트': 12510, '가끔가다': 12511, '바이킹': 12512, '레고': 12513, '혜날': 12514, '맵다': 12515, '캣초딩': 12516, '연령': 12517, '타챠': 12518, '유파': 12519, '구름': 12520, '툰짜': 12521, '이티': 12522, '잔': 12523, '달짝': 12524, '호로록': 12525, '읽히다': 12526, '악플': 12527, '수준': 12528, '간접': 12529, '어귀': 12530, '유흥가': 12531, '전세': 12532, '처지다': 12533, '애기뚱': 12534, '뽀냥이': 12535, '햄찌': 12536, '유유': 12537, '재활용': 12538, '소비': 12539, '살수': 12540, '중등': 12541, '중딩': 12542, '플랫폼': 12543, '작업': 12544, '간간히': 12545, '놀러와': 12546, '늘보': 12547, '살구': 12548, '극히': 12549, '일부일': 12550, '칭다오': 12551, '신잡': 12552, '계세': 12553, '수필': 12554, '투바': 12555, '보훔': 12556, '평방미터': 12557, '독어': 12558, '독문학': 12559, '어학': 12560, '연수': 12561, '적지': 12562, '헛': 12563, '소듕': 12564, '몽실몽실': 12565, '괴상': 12566, '주관': 12567, '인디밴드': 12568, '러보얌': 12569, '크리미': 12570, '자아내다': 12571, '입각': 12572, '빡치다': 12573, '귀촌': 12574, '나물': 12575, '뜬금': 12576, '역행': 12577, '동물병원': 12578, '유용하다': 12579, '곰곰하다': 12580, '개덕': 12581, '불출': 12582, '저렇게': 12583, '쫄깃쫄깃': 12584, '나볼': 12585, '실업률': 12586, '보태': 12587, '근근하다': 12588, '쿠바': 12589, '모아이': 12590, '마눌': 12591, '겨드랑이': 12592, '출하': 12593, '오독': 12594, '빠다': 12595, '종합병원': 12596, '중후': 12597, '뒤엉킨': 12598, '비정규직': 12599, '빠듯': 12600, '엥': 12601, '쿰쿰하다': 12602, '일상다반사': 12603, '노가다': 12604, '쿠나': 12605, '개토': 12606, '쪼렙': 12607, '유피': 12608, '개년': 12609, '붕어': 12610, '케익': 12611, '마시기': 12612, '팬더': 12613, '서른한': 12614, '무무': 12615, '스리핑거': 12616, '모람': 12617, '이에요': 12618, '참조': 12619, '꼼꼼하다': 12620, '모찌': 12621, '마장': 12622, '업뎃중': 12623, '슬쩍': 12624, '햫': 12625, '할인': 12626, '앵무새': 12627, '탈의': 12628, '평일': 12629, '초깜찍': 12630, '평이': 12631, '사바나': 12632, '준비운동': 12633, '새색시': 12634, '색시': 12635, '지숙': 12636, '꽁치': 12637, '한자어': 12638, '합성어': 12639, '불분명': 12640, '워킹홀리데이': 12641, '우호': 12642, '문하': 12643, '디스': 12644, '토루': 12645, '비노': 12646, '쌤': 12647, '깨방': 12648, '얌': 12649, '완두': 12650, '따땃': 12651, '비공개': 12652, '염모': 12653, '굼마': 12654, '독신녀': 12655, '금봉': 12656, '순대': 12657, '아씨': 12658, '홍단': 12659, '겁쟁이': 12660, '태쁘': 12661, '꽃송이': 12662, '분간': 12663, '믿어지다': 12664, '뺨': 12665, '두부': 12666, '단상': 12667, '단언': 12668, '도량': 12669, 'ㅋㅋㅋㅋㅋㅋ': 12670, '똥끼': 12671, '뽀거': 12672, '주절거리다': 12673, '부대끼다': 12674, '희한하다': 12675, '절약': 12676, '육구': 12677, '델리': 12678, '말랑말랑': 12679, '잡종': 12680, '에일리언': 12681, '지껄이다': 12682, '뀌': 12683, '해독제': 12684, '강서연': 12685, '듀스': 12686, '강좌': 12687, '티타임': 12688, '반짝반짝하다': 12689, '삼풍': 12690, '화서': 12691, '화일': 12692, '후드': 12693, '창현': 12694, '공대': 12695, '구리다': 12696, '꾸벅': 12697, '식상하다': 12698, '의무교육': 12699, '견공': 12700, '왕성': 12701, '곧잘': 12702, '신경통': 12703, '보경': 12704, '딴지': 12705, '과자': 12706, '순서대로': 12707, '좀더': 12708, '뭥미': 12709, '동요': 12710, '댐비': 12711, '한개': 12712, '상쾌하다': 12713, '서천꽃밭': 12714, '쭈굴': 12715, '년후': 12716, '여왕님': 12717, '피고': 12718, '돌연변이': 12719, '소질': 12720, '에를': 12721, '격월': 12722, '반자유': 12723, '재형': 12724, '우릐': 12725, '도원향': 12726, '포션사': 12727, '렌시': 12728, '근간': 12729, '별자리': 12730, '캐스': 12731, '깽': 12732, '발퀄': 12733, '오그라들다': 12734, '피드백': 12735, '수르트': 12736, '짚다': 12737, '영안': 12738, '페르시아': 12739, '여캐': 12740, '하렘물': 12741, '몇개': 12742, '말수': 12743, '열차': 12744, '하엔': 12745, '대화재': 12746, '길달': 12747, '신당': 12748, '줏': 12749, '림문': 12750, '강령': 12751, '유영식': 12752, '특권': 12753, '숙지': 12754, '가디언': 12755, '천사장': 12756, '이교': 12757, '히캄': 12758, '여지': 12759, '껏': 12760, '광대하다': 12761, '뭣': 12762, '피조': 12763, '소영이': 12764, '휴일': 12765, '난쟁이': 12766, '판매점': 12767, '알트': 12768, '넬리': 12769, '렌탈맨': 12770, '업격': 12771, '깽판물': 12772, '천랑': 12773, '놀이터': 12774, '밀레니엄': 12775, '레퀴엠': 12776, '기용': 12777, '치국단': 12778, '월계': 12779, '다녀오다': 12780, '카르멘': 12781, '크로우': 12782, '티스토어': 12783, '카르': 12784, '우편': 12785, '재미없다': 12786, '낙제': 12787, '무능력하다': 12788, '젤': 12789, '이념': 12790, '견습': 12791, '황룡': 12792, '진영': 12793, '다이아': 12794, '레디': 12795, '줄알': 12796, '독수리': 12797, '로우': 12798, '무속인': 12799, '주둔': 12800, '김아루': 12801, '순하다': 12802, '격변': 12803, '자낳괴': 12804, '로열티': 12805, '정영진': 12806, '광진': 12807, '광주': 12808, '식민지': 12809, '헤메': 12810, '헤레틱들': 12811, '이스': 12812, '장태준': 12813, '경력': 12814, '타국': 12815, '태준': 12816, '위저드': 12817, '공화국': 12818, '견재속': 12819, '불합리': 12820, '힘쓰다': 12821, '정상화': 12822, '액숀': 12823, '정비': 12824, '직할': 12825, '환웅': 12826, '자손': 12827, '공조': 12828, '톳': 12829, '까비': 12830, '푸르다': 12831, '미르': 12832, '달회': 12833, '먹구름': 12834, '롤모델': 12835, '베이': 12836, '해기': 12837, '안태': 12838, '타짜': 12839, '디나': 12840, '운스': 12841, '신발': 12842, '맹렬하다': 12843, '지진': 12844, '뒤집힌': 12845, '메아리': 12846, '양보': 12847, '리하': 12848, '송유빈': 12849, '까맣다': 12850, '부러워하다': 12851, '퍽': 12852, '베이글': 12853, '부고': 12854, '니키': 12855, '마티': 12856, '허돈혁': 12857, '박찬': 12858, '홍두': 12859, '분다': 12860, '바다낚시': 12861, '묘미': 12862, '빛과': 12863, '이수': 12864, '소송': 12865, '야구감독': 12866, '동수': 12867, '모건': 12868, '지하수': 12869, '애잔하다': 12870, '워닝': 12871, '사인': 12872, '뽜이': 12873, '차차': 12874, '하운': 12875, '어쩌지': 12876, '권도영': 12877, '아모': 12878, '색청': 12879, '김하늘': 12880, '조언': 12881, '송이': 12882, '위성': 12883, '재은': 12884, '발렌타인데이': 12885, '끝물': 12886, '배수빈': 12887, '음대': 12888, '조신': 12889, '대답': 12890, '크라운': 12891, '공재윤': 12892, '퇴화': 12893, '컬렉션': 12894, '중시': 12895, '예상외': 12896, '앓이': 12897, '로다': 12898, '재미교포': 12899, '혈귀': 12900, '왕만': 12901, '토끼다': 12902, '또또': 12903, '곧코': 12904, '가위': 12905, '눌렸던': 12906, '색채': 12907, '기울이다': 12908, '으스스하다': 12909, '곡조': 12910, '무궁': 12911, '애완동물': 12912, '뭐임': 12913, '이철수': 12914, '양동이': 12915, '방방곡곡': 12916, '지구별': 12917, '작은새': 12918, '이븐': 12919, '미혼모': 12920, '함박눈': 12921, '느릿하다': 12922, '블루베리': 12923, '옹심이': 12924, '겔다': 12925, '관성': 12926, '일해': 12927, '이도윤': 12928, '궤도': 12929, '무방비': 12930, '장하준': 12931, '장하나': 12932, '궤짝': 12933, '숨바꼭질': 12934, '증상': 12935, '수요': 12936, '수생': 12937, '모진우': 12938, '다른사람': 12939, '기업가': 12940, '여의도': 12941, '혀끝': 12942, '정성': 12943, '정신병원': 12944, '문채원': 12945, '그로테스크': 12946, '고어': 12947, '남자이야기': 12948, '꺠어나다': 12949, '발길': 12950, '스릴러물': 12951, '부재': 12952, '첨부': 12953, '금연': 12954, '왕리': 12955, '일어나며': 12956, '역사교육': 12957, '바람따라': 12958, '유교': 12959, '르네상스': 12960, '나폴레옹': 12961, '페니': 12962, '머스킷': 12963, '병들다': 12964, '포화': 12965, '기병': 12966, '용기병': 12967, '캣': 12968, '울음': 12969, '예언자': 12970, '카산드라': 12971, '르몽드': 12972, '브레이크': 12973, '마리오': 12974, '폴리': 12975, '엔스': 12976, '랜스': 12977, '암스트롱': 12978, '베르나르': 12979, '이노': 12980, '향상': 12981, '에디': 12982, '메르크': 12983, '케네디': 12984, '코난': 12985, '도일': 12986, '알버트': 12987, '아인슈타인': 12988, '간편하다': 12989, '컵라면': 12990, '은미': 12991, '제자리': 12992, '농구대회': 12993}\n"
     ]
    }
   ],
   "source": [
    "print(tokenizer.word_index)"
   ]
  },
  {
   "cell_type": "code",
   "execution_count": 339,
   "metadata": {},
   "outputs": [],
   "source": [
    "y1=np.array(dat['genre'])"
   ]
  },
  {
   "cell_type": "code",
   "execution_count": 340,
   "metadata": {},
   "outputs": [],
   "source": [
    "y2=np.array(dat['format'])"
   ]
  },
  {
   "cell_type": "code",
   "execution_count": 341,
   "metadata": {},
   "outputs": [
    {
     "name": "stdout",
     "output_type": "stream",
     "text": [
      "174\n",
      "리뷰의 평균 길이 : 18.880661201451417\n"
     ]
    }
   ],
   "source": [
    "print(max(len(review) for review in X_train))\n",
    "print('리뷰의 평균 길이 :',sum(map(len, X_train))/len(X_train))"
   ]
  },
  {
   "cell_type": "code",
   "execution_count": 342,
   "metadata": {},
   "outputs": [
    {
     "name": "stdout",
     "output_type": "stream",
     "text": [
      "리뷰의 최대 길이 : 174\n",
      "리뷰의 평균 길이 : 18.880661201451417\n"
     ]
    },
    {
     "data": {
      "image/png": "[encoded data removed]",
      "text/plain": [
       "<Figure size 432x288 with 1 Axes>"
      ]
     },
     "metadata": {
      "needs_background": "light"
     },
     "output_type": "display_data"
    }
   ],
   "source": [
    "print('리뷰의 최대 길이 :',max(len(review) for review in X_train))\n",
    "print('리뷰의 평균 길이 :',sum(map(len, X_train))/len(X_train))\n",
    "plt.hist([len(review) for review in X_train], bins=50)\n",
    "plt.xlabel('length of samples')\n",
    "plt.ylabel('number of samples')\n",
    "plt.show()"
   ]
  },
  {
   "cell_type": "code",
   "execution_count": 343,
   "metadata": {},
   "outputs": [],
   "source": [
    "X_train=pad_sequences(X_train, maxlen=55)"
   ]
  },
  {
   "cell_type": "code",
   "execution_count": 344,
   "metadata": {},
   "outputs": [],
   "source": [
    "y1t=y1.T"
   ]
  },
  {
   "cell_type": "code",
   "execution_count": 345,
   "metadata": {},
   "outputs": [
    {
     "data": {
      "text/plain": [
       "array(['pure', 'fantasy', 'drama', ..., 'sports', 'sports', 'sports'],\n",
       "      dtype=object)"
      ]
     },
     "execution_count": 345,
     "metadata": {},
     "output_type": "execute_result"
    }
   ],
   "source": [
    "y1t"
   ]
  },
  {
   "cell_type": "code",
   "execution_count": 346,
   "metadata": {},
   "outputs": [
    {
     "data": {
      "text/plain": [
       "\"['pure' 'fantasy' 'drama' ... 'sports' 'sports' 'sports']\""
      ]
     },
     "execution_count": 346,
     "metadata": {},
     "output_type": "execute_result"
    }
   ],
   "source": [
    "format(y1t)"
   ]
  },
  {
   "cell_type": "code",
   "execution_count": 347,
   "metadata": {},
   "outputs": [],
   "source": [
    "wa=np.array([y1,y2])"
   ]
  },
  {
   "cell_type": "code",
   "execution_count": 348,
   "metadata": {},
   "outputs": [
    {
     "data": {
      "text/plain": [
       "(2, 7441)"
      ]
     },
     "execution_count": 348,
     "metadata": {},
     "output_type": "execute_result"
    }
   ],
   "source": [
    "wa.shape"
   ]
  },
  {
   "cell_type": "code",
   "execution_count": 349,
   "metadata": {},
   "outputs": [
    {
     "data": {
      "text/plain": [
       "(7441, 55)"
      ]
     },
     "execution_count": 349,
     "metadata": {},
     "output_type": "execute_result"
    }
   ],
   "source": [
    "X_train.shape"
   ]
  },
  {
   "cell_type": "code",
   "execution_count": 350,
   "metadata": {},
   "outputs": [
    {
     "data": {
      "text/plain": [
       "(7441, 2)"
      ]
     },
     "execution_count": 350,
     "metadata": {},
     "output_type": "execute_result"
    }
   ],
   "source": [
    "wa.T.shape"
   ]
  },
  {
   "cell_type": "code",
   "execution_count": 351,
   "metadata": {},
   "outputs": [],
   "source": [
    "waa=np.hstack([X_train, wa.T])"
   ]
  },
  {
   "cell_type": "code",
   "execution_count": 352,
   "metadata": {},
   "outputs": [
    {
     "data": {
      "text/plain": [
       "array([[0, 0, 0, ..., 1244, 'pure', 'story'],\n",
       "       [0, 0, 0, ..., 2520, 'fantasy', 'story'],\n",
       "       [0, 0, 0, ..., 653, 'drama', 'omnibus'],\n",
       "       ...,\n",
       "       [0, 0, 0, ..., 126, 'sports', 'story'],\n",
       "       [0, 0, 0, ..., 31, 'sports', 'story'],\n",
       "       [0, 0, 0, ..., 171, 'sports', 'story']], dtype=object)"
      ]
     },
     "execution_count": 352,
     "metadata": {},
     "output_type": "execute_result"
    }
   ],
   "source": [
    "waa"
   ]
  },
  {
   "cell_type": "code",
   "execution_count": 353,
   "metadata": {},
   "outputs": [],
   "source": [
    "df=pd.DataFrame(waa)"
   ]
  },
  {
   "cell_type": "code",
   "execution_count": 355,
   "metadata": {},
   "outputs": [],
   "source": [
    "df.to_csv('reformedData.csv', index=False)"
   ]
  },
  {
   "cell_type": "code",
   "execution_count": null,
   "metadata": {},
   "outputs": [],
   "source": []
  }
 ],
 "metadata": {
  "kernelspec": {
   "display_name": "Python 3",
   "language": "python",
   "name": "python3"
  },
  "language_info": {
   "codemirror_mode": {
    "name": "ipython",
    "version": 3
   },
   "file_extension": ".py",
   "mimetype": "text/x-python",
   "name": "python",
   "nbconvert_exporter": "python",
   "pygments_lexer": "ipython3",
   "version": "3.7.7"
  }
 },
 "nbformat": 4,
 "nbformat_minor": 4
}
